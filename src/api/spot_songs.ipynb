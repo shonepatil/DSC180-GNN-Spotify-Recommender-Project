{
 "cells": [
  {
   "cell_type": "code",
   "execution_count": 1,
   "metadata": {},
   "outputs": [],
   "source": [
    "import pandas as pd\n",
    "import numpy as np \n",
    "import requests\n",
    "import json\n",
    "import base64\n",
    "import datetime\n",
    "from urllib.parse import urlencode\n",
    "import time\n",
    "\n",
    "import urllib.error\n",
    "import urllib.request\n",
    "\n",
    "from tenacity import retry, retry_if_exception, stop_after_attempt, wait_fixed\n",
    "from tenacity.wait import wait_base\n"
   ]
  },
  {
   "cell_type": "code",
   "execution_count": 2,
   "metadata": {},
   "outputs": [],
   "source": [
    "client_id = ''\n",
    "client_secret = ''"
   ]
  },
  {
   "cell_type": "code",
   "execution_count": 3,
   "metadata": {},
   "outputs": [],
   "source": [
    "class SpotifyAPI(object):\n",
    "    access_token = None\n",
    "    access_token_expires = datetime.datetime.now()\n",
    "    access_token_did_expire = True\n",
    "    client_id = None\n",
    "    client_secret = None\n",
    "    token_url = \"https://accounts.spotify.com/api/token\"\n",
    "    \n",
    "    def __init__(self, client_id, client_secret, *args, **kwargs):\n",
    "        super().__init__(*args, **kwargs)\n",
    "        self.client_id = client_id\n",
    "        self.client_secret = client_secret\n",
    "\n",
    "    def get_client_credentials(self):\n",
    "        \"\"\"\n",
    "        Returns a base64 encoded string\n",
    "        \"\"\"\n",
    "        client_id = self.client_id\n",
    "        client_secret = self.client_secret\n",
    "        if client_secret == None or client_id == None:\n",
    "            raise Exception(\"You must set client_id and client_secret\")\n",
    "        client_creds = f\"{client_id}:{client_secret}\"\n",
    "        client_creds_b64 = base64.b64encode(client_creds.encode())\n",
    "        return client_creds_b64.decode()\n",
    "    \n",
    "    def get_token_headers(self):\n",
    "        client_creds_b64 = self.get_client_credentials()\n",
    "        return {\n",
    "            \"Authorization\": f\"Basic {client_creds_b64}\"\n",
    "        }\n",
    "    \n",
    "    def get_token_data(self):\n",
    "        return {\n",
    "            \"grant_type\": \"client_credentials\"\n",
    "        } \n",
    "    \n",
    "    def perform_auth(self):\n",
    "        token_url = self.token_url\n",
    "        token_data = self.get_token_data()\n",
    "        token_headers = self.get_token_headers()\n",
    "        r = requests.post(token_url, data=token_data, headers=token_headers)\n",
    "        if r.status_code not in range(200, 299):\n",
    "            raise Exception(\"Could not authenticate client.\")\n",
    "            # return False\n",
    "        data = r.json()\n",
    "        now = datetime.datetime.now()\n",
    "        access_token = data['access_token']\n",
    "        expires_in = data['expires_in'] # seconds\n",
    "        expires = now + datetime.timedelta(seconds=expires_in)\n",
    "        self.access_token = access_token\n",
    "        self.access_token_expires = expires\n",
    "        self.access_token_did_expire = expires < now\n",
    "        return True\n",
    "    \n",
    "    def get_access_token(self):\n",
    "        token = self.access_token\n",
    "        expires = self.access_token_expires\n",
    "        now = datetime.datetime.now()\n",
    "        if expires < now:\n",
    "            self.perform_auth()\n",
    "            return self.get_access_token()\n",
    "        elif token == None:\n",
    "            self.perform_auth()\n",
    "            return self.get_access_token() \n",
    "        return token\n",
    "    \n",
    "    def get_resource_header(self):\n",
    "        access_token = self.get_access_token()\n",
    "        headers = {\n",
    "            \"Authorization\": f\"Bearer {access_token}\"\n",
    "        }\n",
    "        return headers\n",
    "        \n",
    "        \n",
    "    def get_resource(self, lookup_id, resource_type='albums', version='v1'):\n",
    "        endpoint = f\"https://api.spotify.com/{version}/{resource_type}?ids={lookup_id}\"\n",
    "        headers = self.get_resource_header()\n",
    "        r = requests.get(endpoint, headers=headers)\n",
    "        if r.status_code not in range(200, 299):\n",
    "            return {}\n",
    "        return r.json()\n",
    "    \n"
   ]
  },
  {
   "cell_type": "code",
   "execution_count": 4,
   "metadata": {},
   "outputs": [],
   "source": [
    "spotify = SpotifyAPI(client_id, client_secret)"
   ]
  },
  {
   "cell_type": "code",
   "execution_count": 5,
   "metadata": {},
   "outputs": [],
   "source": [
    "def get_data(query, api, num):\n",
    "    chunk = api.get_resource(query, 'audio-features', 'v1')\n",
    "    json_object = json.dumps(chunk, indent = 4)\n",
    "\n",
    "    #with open(f'C:/Users/Administrator/data/spotify_scrape/songset{num}.json', 'w') as outfile:\n",
    "        #outfile.write(json_object)"
   ]
  },
  {
   "cell_type": "code",
   "execution_count": 6,
   "metadata": {},
   "outputs": [],
   "source": [
    "ids_list = np.array(pd.read_csv('C:/Users/Administrator/data/170k_songs.csv')['track_uri'])\n",
    "splitted_first_half = (np.array_split(ids_list[:170000], 1700))\n",
    "splitted_second_half = list(ids_list[170000:])\n",
    "bruh = list(splitted_first_half)\n",
    "bruh.append(splitted_second_half)"
   ]
  },
  {
   "cell_type": "code",
   "execution_count": 7,
   "metadata": {},
   "outputs": [],
   "source": [
    "def perform():\n",
    "    tracker = 0\n",
    "    for i in bruh:\n",
    "        qry = ','.join(i)\n",
    "        complete = False\n",
    "        while complete != True:\n",
    "            try:\n",
    "                get_data(qry, spotify, tracker)\n",
    "                complete = True\n",
    "            except :\n",
    "                print('http error')\n",
    "                time.sleep(60)\n",
    "                \n",
    "        tracker += 1\n",
    "        if tracker % 1000 == 0:\n",
    "            print(tracker)\n",
    "        time.sleep(10)\n"
   ]
  },
  {
   "cell_type": "code",
   "execution_count": 8,
   "metadata": {},
   "outputs": [
    {
     "name": "stdout",
     "output_type": "stream",
     "text": [
      "1000\n",
      "http error\n"
     ]
    }
   ],
   "source": [
    "#perform()"
   ]
  }
 ],
 "metadata": {
  "interpreter": {
   "hash": "6d47d43fe5375968013aeb2d2652e50181d036f4d81d9ca01ef41efb642fb8d6"
  },
  "kernelspec": {
   "display_name": "Python 3.7.8 64-bit ('data_analysis': conda)",
   "language": "python",
   "name": "python3"
  },
  "language_info": {
   "codemirror_mode": {
    "name": "ipython",
    "version": 3
   },
   "file_extension": ".py",
   "mimetype": "text/x-python",
   "name": "python",
   "nbconvert_exporter": "python",
   "pygments_lexer": "ipython3",
   "version": "3.7.8"
  },
  "orig_nbformat": 4
 },
 "nbformat": 4,
 "nbformat_minor": 2
}
