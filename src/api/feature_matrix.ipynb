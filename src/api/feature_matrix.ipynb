{
 "cells": [
  {
   "cell_type": "code",
   "execution_count": 17,
   "metadata": {},
   "outputs": [],
   "source": [
    "import pandas as pd\n",
    "import json"
   ]
  },
  {
   "cell_type": "code",
   "execution_count": 30,
   "metadata": {},
   "outputs": [],
   "source": [
    "f = open('C:/Users/Administrator/data/spotify_scrape/songset0.json')\n",
    "data = json.load(f)\n",
    "f.close\n",
    "songset = pd.DataFrame(data['audio_features'])\n",
    "for i in range(1, 1701):\n",
    "    f = open(f'C:/Users/Administrator/data/spotify_scrape/songset{i}.json')\n",
    "    data = json.load(f)\n",
    "    f.close\n",
    "\n",
    "    data = pd.DataFrame(data['audio_features'])\n",
    "    songset = pd.concat([songset, data], ignore_index=True)\n",
    "\n"
   ]
  },
  {
   "cell_type": "code",
   "execution_count": 32,
   "metadata": {},
   "outputs": [],
   "source": [
    "songset_trim = songset.drop(columns=['type', 'id', 'uri', 'track_href', 'analysis_url'])"
   ]
  },
  {
   "cell_type": "code",
   "execution_count": 35,
   "metadata": {},
   "outputs": [],
   "source": [
    "songset.to_csv('C:/Users/Administrator/data/spotify_features/songset_features.csv')"
   ]
  }
 ],
 "metadata": {
  "interpreter": {
   "hash": "6d47d43fe5375968013aeb2d2652e50181d036f4d81d9ca01ef41efb642fb8d6"
  },
  "kernelspec": {
   "display_name": "Python 3.7.8 64-bit ('data_analysis': conda)",
   "language": "python",
   "name": "python3"
  },
  "language_info": {
   "codemirror_mode": {
    "name": "ipython",
    "version": 3
   },
   "file_extension": ".py",
   "mimetype": "text/x-python",
   "name": "python",
   "nbconvert_exporter": "python",
   "pygments_lexer": "ipython3",
   "version": "3.7.8"
  },
  "orig_nbformat": 4
 },
 "nbformat": 4,
 "nbformat_minor": 2
}
