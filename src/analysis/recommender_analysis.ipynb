{
 "cells": [
  {
   "cell_type": "code",
   "execution_count": 1,
   "id": "75a7591e",
   "metadata": {},
   "outputs": [
    {
     "name": "stderr",
     "output_type": "stream",
     "text": [
      "Using backend: pytorch\n"
     ]
    }
   ],
   "source": [
    "import json \n",
    "import seaborn as sns\n",
    "import matplotlib.pyplot as plt\n",
    "from itertools import combinations\n",
    "from dgl import load_graphs\n",
    "import sys\n",
    "import os\n",
    "import numpy as np\n",
    "from sklearn.preprocessing import OneHotEncoder\n",
    "from sklearn.preprocessing import StandardScaler\n",
    "import pandas as pd\n",
    "from sklearn.manifold import TSNE"
   ]
  },
  {
   "cell_type": "markdown",
   "id": "b7168943",
   "metadata": {},
   "source": [
    "# Load Needed"
   ]
  },
  {
   "cell_type": "code",
   "execution_count": 24,
   "id": "62bbce19",
   "metadata": {},
   "outputs": [],
   "source": [
    "with open('batch_recommendations.json') as woahs:\n",
    "     woah = json.load(woahs)"
   ]
  },
  {
   "cell_type": "code",
   "execution_count": 25,
   "id": "14934348",
   "metadata": {},
   "outputs": [],
   "source": [
    "with open('uri_recs_170k.json', 'r') as yuh:\n",
    "    uri_map = json.load(yuh)"
   ]
  },
  {
   "cell_type": "code",
   "execution_count": 26,
   "id": "22cd37d7",
   "metadata": {},
   "outputs": [],
   "source": [
    "data_path = (os.path.join(os.path.expanduser('~'), 'GNN-Spotify-Recommender-Project/data/a13group1/double_edges_170k.bin'))"
   ]
  },
  {
   "cell_type": "code",
   "execution_count": 27,
   "id": "a330fcb6",
   "metadata": {},
   "outputs": [],
   "source": [
    "dgl_G = load_graphs(data_path)[0][0]"
   ]
  },
  {
   "cell_type": "markdown",
   "id": "41a17b03",
   "metadata": {},
   "source": [
    "# Song Connectivity Within Recommendation"
   ]
  },
  {
   "cell_type": "code",
   "execution_count": 28,
   "id": "752ca04f",
   "metadata": {},
   "outputs": [],
   "source": [
    "%%time\n",
    "in_rec_accs = []\n",
    "for i in range(len(woah)):\n",
    "    res = list(combinations(woah[i]['recs'], 2))\n",
    "\n",
    "    checks = []\n",
    "    for pair in res:\n",
    "        check = uri_map[pair[0]] in dgl_G.out_edges(uri_map[pair[1]])[1]\n",
    "        checks.append(check)\n",
    "        \n",
    "    in_rec_accs.append(np.count_nonzero(checks) / len(checks))"
   ]
  },
  {
   "cell_type": "code",
   "execution_count": null,
   "id": "a8c823c7",
   "metadata": {},
   "outputs": [],
   "source": []
  },
  {
   "cell_type": "code",
   "execution_count": 29,
   "id": "17eb8942",
   "metadata": {},
   "outputs": [
    {
     "data": {
      "image/png": "[encoded data removed]",
      "text/plain": [
       "<Figure size 432x288 with 1 Axes>"
      ]
     },
     "metadata": {
      "needs_background": "light"
     },
     "output_type": "display_data"
    }
   ],
   "source": [
    "sns.histplot(in_rec_accs).set(title=f'Proportion of Existing Neighbors in Generated Graph')\n",
    "plt.savefig('rec_connectivity.jpg')"
   ]
  },
  {
   "cell_type": "markdown",
   "id": "bddeeaa5",
   "metadata": {},
   "source": [
    "# Feature Distribution"
   ]
  },
  {
   "cell_type": "code",
   "execution_count": 2,
   "id": "d7df7b49",
   "metadata": {},
   "outputs": [],
   "source": [
    "std_scaler = StandardScaler()\n",
    "one_hot = OneHotEncoder()\n",
    "\n",
    "edafeats = pd.read_csv(os.path.join(os.path.expanduser('~'), 'GNN-Spotify-Recommender-Project/data/a13group1/songset_features_170k'))\n",
    "edafeats = edafeats.drop(columns=['Unnamed: 0', 'type', 'track_href', 'analysis_url'])\n",
    "\n",
    "edafeats['loudness'] = std_scaler.fit_transform(edafeats[['loudness']])\n",
    "edafeats['tempo'] = std_scaler.fit_transform(edafeats[['tempo']])\n",
    "edafeats['duration_ms'] = std_scaler.fit_transform(edafeats[['duration_ms']])"
   ]
  },
  {
   "cell_type": "code",
   "execution_count": 4,
   "id": "b1b5a1ed",
   "metadata": {},
   "outputs": [
    {
     "data": {
      "text/html": [
       "<div>\n",
       "<style scoped>\n",
       "    .dataframe tbody tr th:only-of-type {\n",
       "        vertical-align: middle;\n",
       "    }\n",
       "\n",
       "    .dataframe tbody tr th {\n",
       "        vertical-align: top;\n",
       "    }\n",
       "\n",
       "    .dataframe thead th {\n",
       "        text-align: right;\n",
       "    }\n",
       "</style>\n",
       "<table border=\"1\" class=\"dataframe\">\n",
       "  <thead>\n",
       "    <tr style=\"text-align: right;\">\n",
       "      <th></th>\n",
       "      <th>danceability</th>\n",
       "      <th>energy</th>\n",
       "      <th>key</th>\n",
       "      <th>loudness</th>\n",
       "      <th>mode</th>\n",
       "      <th>speechiness</th>\n",
       "      <th>acousticness</th>\n",
       "      <th>instrumentalness</th>\n",
       "      <th>liveness</th>\n",
       "      <th>valence</th>\n",
       "      <th>tempo</th>\n",
       "      <th>duration_ms</th>\n",
       "      <th>time_signature</th>\n",
       "    </tr>\n",
       "  </thead>\n",
       "  <tbody>\n",
       "    <tr>\n",
       "      <th>0</th>\n",
       "      <td>0.904</td>\n",
       "      <td>0.813</td>\n",
       "      <td>4</td>\n",
       "      <td>0.241283</td>\n",
       "      <td>0</td>\n",
       "      <td>0.1210</td>\n",
       "      <td>0.031100</td>\n",
       "      <td>0.006970</td>\n",
       "      <td>0.0471</td>\n",
       "      <td>0.810</td>\n",
       "      <td>0.147007</td>\n",
       "      <td>-0.117592</td>\n",
       "      <td>4</td>\n",
       "    </tr>\n",
       "    <tr>\n",
       "      <th>1</th>\n",
       "      <td>0.774</td>\n",
       "      <td>0.838</td>\n",
       "      <td>5</td>\n",
       "      <td>0.932608</td>\n",
       "      <td>0</td>\n",
       "      <td>0.1140</td>\n",
       "      <td>0.024900</td>\n",
       "      <td>0.025000</td>\n",
       "      <td>0.2420</td>\n",
       "      <td>0.924</td>\n",
       "      <td>0.745093</td>\n",
       "      <td>-0.396133</td>\n",
       "      <td>4</td>\n",
       "    </tr>\n",
       "    <tr>\n",
       "      <th>2</th>\n",
       "      <td>0.664</td>\n",
       "      <td>0.758</td>\n",
       "      <td>2</td>\n",
       "      <td>0.354373</td>\n",
       "      <td>0</td>\n",
       "      <td>0.2100</td>\n",
       "      <td>0.002380</td>\n",
       "      <td>0.000000</td>\n",
       "      <td>0.0598</td>\n",
       "      <td>0.701</td>\n",
       "      <td>-0.744457</td>\n",
       "      <td>-0.027580</td>\n",
       "      <td>4</td>\n",
       "    </tr>\n",
       "    <tr>\n",
       "      <th>3</th>\n",
       "      <td>0.892</td>\n",
       "      <td>0.714</td>\n",
       "      <td>4</td>\n",
       "      <td>0.468764</td>\n",
       "      <td>0</td>\n",
       "      <td>0.1410</td>\n",
       "      <td>0.201000</td>\n",
       "      <td>0.000234</td>\n",
       "      <td>0.0521</td>\n",
       "      <td>0.817</td>\n",
       "      <td>-0.686176</td>\n",
       "      <td>0.283416</td>\n",
       "      <td>4</td>\n",
       "    </tr>\n",
       "    <tr>\n",
       "      <th>4</th>\n",
       "      <td>0.853</td>\n",
       "      <td>0.606</td>\n",
       "      <td>0</td>\n",
       "      <td>0.784854</td>\n",
       "      <td>1</td>\n",
       "      <td>0.0713</td>\n",
       "      <td>0.056100</td>\n",
       "      <td>0.000000</td>\n",
       "      <td>0.3130</td>\n",
       "      <td>0.654</td>\n",
       "      <td>-0.897559</td>\n",
       "      <td>-0.110287</td>\n",
       "      <td>4</td>\n",
       "    </tr>\n",
       "    <tr>\n",
       "      <th>...</th>\n",
       "      <td>...</td>\n",
       "      <td>...</td>\n",
       "      <td>...</td>\n",
       "      <td>...</td>\n",
       "      <td>...</td>\n",
       "      <td>...</td>\n",
       "      <td>...</td>\n",
       "      <td>...</td>\n",
       "      <td>...</td>\n",
       "      <td>...</td>\n",
       "      <td>...</td>\n",
       "      <td>...</td>\n",
       "      <td>...</td>\n",
       "    </tr>\n",
       "    <tr>\n",
       "      <th>170084</th>\n",
       "      <td>0.551</td>\n",
       "      <td>0.822</td>\n",
       "      <td>11</td>\n",
       "      <td>0.260131</td>\n",
       "      <td>0</td>\n",
       "      <td>0.0614</td>\n",
       "      <td>0.001540</td>\n",
       "      <td>0.000000</td>\n",
       "      <td>0.2150</td>\n",
       "      <td>0.360</td>\n",
       "      <td>0.200831</td>\n",
       "      <td>0.261303</td>\n",
       "      <td>4</td>\n",
       "    </tr>\n",
       "    <tr>\n",
       "      <th>170085</th>\n",
       "      <td>0.480</td>\n",
       "      <td>0.761</td>\n",
       "      <td>6</td>\n",
       "      <td>0.777921</td>\n",
       "      <td>1</td>\n",
       "      <td>0.0367</td>\n",
       "      <td>0.120000</td>\n",
       "      <td>0.000000</td>\n",
       "      <td>0.2960</td>\n",
       "      <td>0.359</td>\n",
       "      <td>1.322800</td>\n",
       "      <td>1.290823</td>\n",
       "      <td>4</td>\n",
       "    </tr>\n",
       "    <tr>\n",
       "      <th>170086</th>\n",
       "      <td>0.402</td>\n",
       "      <td>0.767</td>\n",
       "      <td>11</td>\n",
       "      <td>0.325126</td>\n",
       "      <td>0</td>\n",
       "      <td>0.1710</td>\n",
       "      <td>0.000077</td>\n",
       "      <td>0.000003</td>\n",
       "      <td>0.3930</td>\n",
       "      <td>0.558</td>\n",
       "      <td>1.944497</td>\n",
       "      <td>-0.590001</td>\n",
       "      <td>4</td>\n",
       "    </tr>\n",
       "    <tr>\n",
       "      <th>170087</th>\n",
       "      <td>0.678</td>\n",
       "      <td>0.826</td>\n",
       "      <td>0</td>\n",
       "      <td>0.753223</td>\n",
       "      <td>0</td>\n",
       "      <td>0.0591</td>\n",
       "      <td>0.005240</td>\n",
       "      <td>0.000000</td>\n",
       "      <td>0.0951</td>\n",
       "      <td>0.706</td>\n",
       "      <td>0.641290</td>\n",
       "      <td>0.036080</td>\n",
       "      <td>4</td>\n",
       "    </tr>\n",
       "    <tr>\n",
       "      <th>170088</th>\n",
       "      <td>0.670</td>\n",
       "      <td>0.483</td>\n",
       "      <td>9</td>\n",
       "      <td>0.237166</td>\n",
       "      <td>0</td>\n",
       "      <td>0.1250</td>\n",
       "      <td>0.213000</td>\n",
       "      <td>0.000000</td>\n",
       "      <td>0.0550</td>\n",
       "      <td>0.770</td>\n",
       "      <td>1.666259</td>\n",
       "      <td>-0.688033</td>\n",
       "      <td>4</td>\n",
       "    </tr>\n",
       "  </tbody>\n",
       "</table>\n",
       "<p>170089 rows × 13 columns</p>\n",
       "</div>"
      ],
      "text/plain": [
       "        danceability  energy  key  loudness  mode  speechiness  acousticness  \\\n",
       "0              0.904   0.813    4  0.241283     0       0.1210      0.031100   \n",
       "1              0.774   0.838    5  0.932608     0       0.1140      0.024900   \n",
       "2              0.664   0.758    2  0.354373     0       0.2100      0.002380   \n",
       "3              0.892   0.714    4  0.468764     0       0.1410      0.201000   \n",
       "4              0.853   0.606    0  0.784854     1       0.0713      0.056100   \n",
       "...              ...     ...  ...       ...   ...          ...           ...   \n",
       "170084         0.551   0.822   11  0.260131     0       0.0614      0.001540   \n",
       "170085         0.480   0.761    6  0.777921     1       0.0367      0.120000   \n",
       "170086         0.402   0.767   11  0.325126     0       0.1710      0.000077   \n",
       "170087         0.678   0.826    0  0.753223     0       0.0591      0.005240   \n",
       "170088         0.670   0.483    9  0.237166     0       0.1250      0.213000   \n",
       "\n",
       "        instrumentalness  liveness  valence     tempo  duration_ms  \\\n",
       "0               0.006970    0.0471    0.810  0.147007    -0.117592   \n",
       "1               0.025000    0.2420    0.924  0.745093    -0.396133   \n",
       "2               0.000000    0.0598    0.701 -0.744457    -0.027580   \n",
       "3               0.000234    0.0521    0.817 -0.686176     0.283416   \n",
       "4               0.000000    0.3130    0.654 -0.897559    -0.110287   \n",
       "...                  ...       ...      ...       ...          ...   \n",
       "170084          0.000000    0.2150    0.360  0.200831     0.261303   \n",
       "170085          0.000000    0.2960    0.359  1.322800     1.290823   \n",
       "170086          0.000003    0.3930    0.558  1.944497    -0.590001   \n",
       "170087          0.000000    0.0951    0.706  0.641290     0.036080   \n",
       "170088          0.000000    0.0550    0.770  1.666259    -0.688033   \n",
       "\n",
       "        time_signature  \n",
       "0                    4  \n",
       "1                    4  \n",
       "2                    4  \n",
       "3                    4  \n",
       "4                    4  \n",
       "...                ...  \n",
       "170084               4  \n",
       "170085               4  \n",
       "170086               4  \n",
       "170087               4  \n",
       "170088               4  \n",
       "\n",
       "[170089 rows x 13 columns]"
      ]
     },
     "execution_count": 4,
     "metadata": {},
     "output_type": "execute_result"
    }
   ],
   "source": [
    "edafeats.drop(columns=['id', 'uri'])"
   ]
  },
  {
   "cell_type": "code",
   "execution_count": 42,
   "id": "fdeaafca",
   "metadata": {},
   "outputs": [],
   "source": [
    "def get_distribution(edafeats, uri_recs):\n",
    "    numerical = ['danceability', 'energy', 'loudness', 'speechiness', 'acousticness', 'instrumentalness', 'liveness', 'valence', 'tempo', 'duration_ms',]\n",
    "    categorical = ['key', 'mode', 'time_signature']\n",
    "\n",
    "    feat_vars = {'danceability': [], 'energy': [], 'loudness': [], 'speechiness': [], 'acousticness': [], 'instrumentalness': [], 'liveness': [], 'valence': [], 'tempo': [], 'duration_ms': [],'key': [], 'mode': [], 'time_signature': []}\n",
    "    feat_avgs = {'danceability': [], 'energy': [], 'loudness': [], 'speechiness': [], 'acousticness': [], 'instrumentalness': [], 'liveness': [], 'valence': [], 'tempo': [], 'duration_ms': [],'key': [], 'mode': [], 'time_signature': []}\n",
    "    feat_difs = {'danceability': [], 'energy': [], 'loudness': [], 'speechiness': [], 'acousticness': [], 'instrumentalness': [], 'liveness': [], 'valence': [], 'tempo': [], 'duration_ms': [],'key': [], 'mode': [], 'time_signature': []}\n",
    "    feat_ranges = {'danceability': [], 'energy': [], 'loudness': [], 'speechiness': [], 'acousticness': [], 'instrumentalness': [], 'liveness': [], 'valence': [], 'tempo': [], 'duration_ms': [],'key': [], 'mode': [], 'time_signature': []}\n",
    "\n",
    "    for i in numerical:\n",
    "        cur_feats = edafeats[edafeats['id'].isin(uri_recs)]\n",
    "\n",
    "        var = np.var(cur_feats[i])\n",
    "        feat_vars[i] = (var)\n",
    "\n",
    "        avg = np.mean(cur_feats[i])\n",
    "        feat_avgs[i] = (avg)\n",
    "\n",
    "        difs = np.mean(np.abs(cur_feats[i].diff())[1:])\n",
    "        feat_difs[i] = difs\n",
    "\n",
    "        ranges = np.abs(np.max(cur_feats[i]) - np.min(cur_feats[i]))\n",
    "        feat_ranges[i] = ranges\n",
    "\n",
    "    for i in categorical:\n",
    "        highest = max(cur_feats[i].value_counts() / cur_feats[i].count())\n",
    "        feat_vars[i] = highest\n",
    "\n",
    "    feat_avgs.pop('key')\n",
    "    feat_avgs.pop('mode')\n",
    "    feat_avgs.pop('time_signature')\n",
    "\n",
    "    feat_difs.pop('key')\n",
    "    feat_difs.pop('mode')\n",
    "    feat_difs.pop('time_signature')\n",
    "\n",
    "    feat_ranges.pop('key')\n",
    "    feat_ranges.pop('mode')\n",
    "    feat_ranges.pop('time_signature')\n",
    "    \n",
    "    return feat_vars, feat_avgs, feat_difs, feat_ranges"
   ]
  },
  {
   "cell_type": "code",
   "execution_count": 43,
   "id": "70e56a9a",
   "metadata": {},
   "outputs": [
    {
     "name": "stdout",
     "output_type": "stream",
     "text": [
      "CPU times: user 66 µs, sys: 9 µs, total: 75 µs\n",
      "Wall time: 93.9 µs\n"
     ]
    }
   ],
   "source": [
    "%%time\n",
    "# Get original playlists and recommendations for them.\n",
    "# Saving sample of playlists\n",
    "original_playlists = []\n",
    "generated_playlists = []\n",
    "for i in range(len(woah)):\n",
    "    saved_seeds = woah[i]['seeds']\n",
    "    saved_recs = woah[i]['recs']\n",
    "    \n",
    "    original_playlists.append(saved_seeds)\n",
    "    generated_playlists.append(saved_recs)"
   ]
  },
  {
   "cell_type": "code",
   "execution_count": 44,
   "id": "0d68aad8",
   "metadata": {},
   "outputs": [
    {
     "name": "stdout",
     "output_type": "stream",
     "text": [
      "CPU times: user 10.8 s, sys: 242 ms, total: 11 s\n",
      "Wall time: 11 s\n"
     ]
    }
   ],
   "source": [
    "%%time\n",
    "# Will get the variances from originals and generated.\n",
    "# Saves the differences between the variances for each playlist/generated playlist\n",
    "size = len(original_playlists)\n",
    "differences = {'danceability': [], 'energy': [], 'loudness': [], 'speechiness': [], 'acousticness': [], 'instrumentalness': [], 'liveness': [], 'valence': [], 'tempo': [], 'duration_ms': [],'key': [], 'mode': [], 'time_signature': []}\n",
    "for i in range(size):\n",
    "    feat_vars_og, feat_avgs_og, feat_difs_og, feat_ranges_og = get_distribution(edafeats, original_playlists[i])\n",
    "    feat_vars_gen, feat_avgs_gen, feat_difs_gen, feat_ranges_gen = get_distribution(edafeats, generated_playlists[i])\n",
    "    \n",
    "    for each in differences.keys():\n",
    "        differences[each].append(np.abs(feat_vars_og[each] - feat_vars_gen[each]))"
   ]
  },
  {
   "cell_type": "code",
   "execution_count": 45,
   "id": "2439f96c",
   "metadata": {},
   "outputs": [],
   "source": [
    "# Gets the average difference in variance for each feature\n",
    "avg_differences = {'danceability': [], 'energy': [], 'loudness': [], 'speechiness': [], 'acousticness': [], 'instrumentalness': [], 'liveness': [], 'valence': [], 'tempo': [], 'duration_ms': [],'key': [], 'mode': [], 'time_signature': []}\n",
    "for i in avg_differences.keys():\n",
    "    avg_differences[i] = np.mean(np.array(differences[i]))"
   ]
  },
  {
   "cell_type": "code",
   "execution_count": 46,
   "id": "838ea77a",
   "metadata": {},
   "outputs": [
    {
     "data": {
      "text/plain": [
       "{'danceability': 0.008096921339389303,\n",
       " 'energy': 0.012820774845462955,\n",
       " 'loudness': 0.26852720568686406,\n",
       " 'speechiness': 0.04713902211636237,\n",
       " 'acousticness': 0.025934200506381663,\n",
       " 'instrumentalness': 0.011154315593824111,\n",
       " 'liveness': 0.04722225008297361,\n",
       " 'valence': 0.013581795970573875,\n",
       " 'tempo': 0.6136293338178255,\n",
       " 'duration_ms': 0.6790665090610356,\n",
       " 'key': 0.06953309483017969,\n",
       " 'mode': 0.0896974067182766,\n",
       " 'time_signature': 0.07262263814658494}"
      ]
     },
     "execution_count": 46,
     "metadata": {},
     "output_type": "execute_result"
    }
   ],
   "source": [
    "avg_differences"
   ]
  },
  {
   "cell_type": "code",
   "execution_count": 47,
   "id": "7411fd6e",
   "metadata": {},
   "outputs": [
    {
     "data": {
      "image/png": "[encoded data removed]",
      "text/plain": [
       "<Figure size 1440x1440 with 12 Axes>"
      ]
     },
     "metadata": {
      "needs_background": "light"
     },
     "output_type": "display_data"
    }
   ],
   "source": [
    "# Plots the differences for each feature\n",
    "pd.DataFrame(differences)[['danceability', 'energy', 'loudness', 'speechiness', 'acousticness', 'instrumentalness', 'liveness', 'valence', 'tempo', 'duration_ms']].hist(figsize=(20,20))\n",
    "plt.savefig('var_differences.jpg')"
   ]
  },
  {
   "cell_type": "markdown",
   "id": "c257e0b0",
   "metadata": {},
   "source": [
    "# Embedding T-SNE\n",
    "Will require training of the model"
   ]
  },
  {
   "cell_type": "code",
   "execution_count": null,
   "id": "76843d65",
   "metadata": {},
   "outputs": [],
   "source": [
    "# %%time\n",
    "# # Loading Graph ~ 3min\n",
    "# feat_dir = \"../../data/a13group1/features/merged_features.csv\"\n",
    "# double_edge_dir = \"../../data/a13group1/double_edges_170k.bin\"\n",
    "# feat_data, adj_list, dgl_G, uri_map = r.load_double_edge(feat_dir, double_edge_dir)"
   ]
  },
  {
   "cell_type": "code",
   "execution_count": null,
   "id": "f3d23d68",
   "metadata": {},
   "outputs": [],
   "source": [
    "# %%time\n",
    "# # Training the Model. GPU ~ 00:00:40\n",
    "# with open('../../config/model-params.json') as fh:\n",
    "#             model_cfg = json.load(fh)\n",
    "# model, pred = train(dgl_G, feat_data, adj_list, **model_cfg)\n",
    "\n",
    "# # Put everything on CPU\n",
    "# model = model.to('cpu')\n",
    "# pred = pred.to('cpu')"
   ]
  },
  {
   "cell_type": "code",
   "execution_count": null,
   "id": "408e0dc9",
   "metadata": {},
   "outputs": [],
   "source": [
    "# # Create Embeddings\n",
    "# z = model(dgl_G, feat_data)\n",
    "\n",
    "# # Create Predictions\n",
    "# # In the form of the strength of the connection between source, destination from dgl_G.edges()\n",
    "# preds = pred(dgl_G, z)"
   ]
  },
  {
   "cell_type": "markdown",
   "id": "59b59b94",
   "metadata": {},
   "source": [
    "### T-SNE"
   ]
  },
  {
   "cell_type": "code",
   "execution_count": null,
   "id": "fb7bf21b",
   "metadata": {},
   "outputs": [],
   "source": [
    "# # Instantialte tsne, specify cosine metric\n",
    "# tsne = TSNE(n_iter = 1000, metric = 'cosine', square_distances=True)"
   ]
  },
  {
   "cell_type": "code",
   "execution_count": null,
   "id": "983cbd1e",
   "metadata": {},
   "outputs": [],
   "source": [
    "# %%time\n",
    "# ## WARNING -- AROUND 30 MINUTES TO COMPLETE\n",
    "# embeddings2d = tsne.fit_transform(z.detach().numpy())"
   ]
  },
  {
   "cell_type": "code",
   "execution_count": null,
   "id": "5434bbc4",
   "metadata": {},
   "outputs": [],
   "source": [
    "# # Create DF\n",
    "# embeddingsdf = pd.DataFrame()\n",
    "# # Add game names\n",
    "# embeddingsdf['id'] = edafeats['id']\n",
    "# # Add x coordinate\n",
    "# embeddingsdf['x'] = embeddings2d[:,0]\n",
    "# # Add y coordinate\n",
    "# embeddingsdf['y'] = embeddings2d[:,1]\n",
    "# # Check\n",
    "# embeddingsdf.head()\n"
   ]
  },
  {
   "cell_type": "code",
   "execution_count": null,
   "id": "eaef9030",
   "metadata": {},
   "outputs": [],
   "source": [
    "# # Set figsize\n",
    "# fig, ax = plt.subplots(figsize=(10,8))\n",
    "# # Scatter points, set alpha low to make points translucent\n",
    "# ax.scatter(embeddingsdf.x, embeddingsdf.y, alpha=.01)\n",
    "# plt.title('Scatter plot of Song Embeddings T-SNE')\n",
    "# plt.savefig('embedding_tsne.jpg')\n",
    "# plt.show()"
   ]
  }
 ],
 "metadata": {
  "kernelspec": {
   "display_name": "Python 3 (ipykernel)",
   "language": "python",
   "name": "python3"
  },
  "language_info": {
   "codemirror_mode": {
    "name": "ipython",
    "version": 3
   },
   "file_extension": ".py",
   "mimetype": "text/x-python",
   "name": "python",
   "nbconvert_exporter": "python",
   "pygments_lexer": "ipython3",
   "version": "3.9.5"
  }
 },
 "nbformat": 4,
 "nbformat_minor": 5
}
