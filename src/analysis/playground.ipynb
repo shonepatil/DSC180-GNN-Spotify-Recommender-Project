{
 "cells": [
  {
   "cell_type": "code",
   "execution_count": 30,
   "id": "e591fdff",
   "metadata": {
    "scrolled": true
   },
   "outputs": [],
   "source": [
    "import networkx as nx\n",
    "import pandas as pd\n",
    "import os\n",
    "import random\n",
    "import torch\n",
    "import torch.nn.functional as F\n",
    "import torch.nn as nn\n",
    "from torch.nn import init\n",
    "from torch.autograd import Variable\n",
    "import itertools\n",
    "from sklearn.preprocessing import StandardScaler\n",
    "from sklearn.preprocessing import OneHotEncoder\n",
    "\n",
    "import numpy as np\n",
    "import time\n",
    "import random\n",
    "from sklearn.metrics import f1_score\n",
    "from collections import defaultdict \n",
    "from dgl.nn import SAGEConv\n",
    "import scipy.sparse as sp\n",
    "import json\n",
    "import seaborn as sns\n",
    "import matplotlib.pyplot as plt"
   ]
  },
  {
   "cell_type": "code",
   "execution_count": 2,
   "id": "1563ee8e",
   "metadata": {},
   "outputs": [],
   "source": [
    "import dgl\n",
    "from dgl.data.utils import save_graphs\n",
    "from dgl import load_graphs"
   ]
  },
  {
   "cell_type": "code",
   "execution_count": 3,
   "id": "5e0d7f93",
   "metadata": {},
   "outputs": [],
   "source": [
    "from dgl.nn import SAGEConv\n",
    "import dgl.data"
   ]
  },
  {
   "cell_type": "code",
   "execution_count": 4,
   "id": "91619f3e",
   "metadata": {},
   "outputs": [
    {
     "data": {
      "application/javascript": [
       "IPython.notebook.set_autosave_interval(0)"
      ]
     },
     "metadata": {},
     "output_type": "display_data"
    },
    {
     "name": "stdout",
     "output_type": "stream",
     "text": [
      "Autosave disabled\n"
     ]
    }
   ],
   "source": [
    "#%autosave 0"
   ]
  },
  {
   "cell_type": "markdown",
   "id": "3ae7afb4",
   "metadata": {},
   "source": [
    "# Feature PreProcessing"
   ]
  },
  {
   "cell_type": "code",
   "execution_count": 5,
   "id": "048f3350",
   "metadata": {},
   "outputs": [
    {
     "name": "stdout",
     "output_type": "stream",
     "text": [
      "  NumNodes: 2708\n",
      "  NumEdges: 10556\n",
      "  NumFeats: 1433\n",
      "  NumClasses: 7\n",
      "  NumTrainingSamples: 140\n",
      "  NumValidationSamples: 500\n",
      "  NumTestSamples: 1000\n",
      "Done loading data from cached files.\n"
     ]
    }
   ],
   "source": [
    "dataset = dgl.data.CoraGraphDataset()\n",
    "g = dataset[0]"
   ]
  },
  {
   "cell_type": "code",
   "execution_count": 5,
   "id": "7f1b1f7e",
   "metadata": {},
   "outputs": [],
   "source": [
    "features = pd.read_csv('~/teams/DSC180A_FA21_A00/a13group1/songset_features_170k')"
   ]
  },
  {
   "cell_type": "code",
   "execution_count": 6,
   "id": "a1bf3278",
   "metadata": {},
   "outputs": [],
   "source": [
    "features = features.drop(columns=['Unnamed: 0', 'type', 'id', 'uri', 'track_href', 'analysis_url'])"
   ]
  },
  {
   "cell_type": "code",
   "execution_count": 7,
   "id": "f8ace36d",
   "metadata": {},
   "outputs": [],
   "source": [
    "std_scaler = StandardScaler()\n",
    "features['loudness'] = std_scaler.fit_transform(features[['loudness']])\n",
    "features['tempo'] = std_scaler.fit_transform(features[['tempo']])"
   ]
  },
  {
   "cell_type": "code",
   "execution_count": 8,
   "id": "6fb52dc0",
   "metadata": {},
   "outputs": [],
   "source": [
    "one_hot = OneHotEncoder()\n",
    "\n",
    "key_names = [f'key{i}' for i in range(12)]\n",
    "one_hot_key = pd.DataFrame(one_hot.fit_transform(features[['key']]).toarray())\n",
    "one_hot_key.columns = key_names\n",
    "\n",
    "ts_names = [f'ts{i}' for i in range(5)]\n",
    "one_hot_ts = pd.DataFrame(one_hot.fit_transform(features[['time_signature']]).toarray())\n",
    "one_hot_ts.columns = ts_names"
   ]
  },
  {
   "cell_type": "code",
   "execution_count": 9,
   "id": "1e7feb10",
   "metadata": {},
   "outputs": [],
   "source": [
    "features = pd.concat([features, one_hot_key, one_hot_ts], axis=1)\n",
    "features = features.drop(columns=['key', 'time_signature'])"
   ]
  },
  {
   "cell_type": "code",
   "execution_count": 10,
   "id": "4d368b0b",
   "metadata": {
    "scrolled": false
   },
   "outputs": [
    {
     "data": {
      "text/html": [
       "<div>\n",
       "<style scoped>\n",
       "    .dataframe tbody tr th:only-of-type {\n",
       "        vertical-align: middle;\n",
       "    }\n",
       "\n",
       "    .dataframe tbody tr th {\n",
       "        vertical-align: top;\n",
       "    }\n",
       "\n",
       "    .dataframe thead th {\n",
       "        text-align: right;\n",
       "    }\n",
       "</style>\n",
       "<table border=\"1\" class=\"dataframe\">\n",
       "  <thead>\n",
       "    <tr style=\"text-align: right;\">\n",
       "      <th></th>\n",
       "      <th>danceability</th>\n",
       "      <th>energy</th>\n",
       "      <th>loudness</th>\n",
       "      <th>mode</th>\n",
       "      <th>speechiness</th>\n",
       "      <th>acousticness</th>\n",
       "      <th>instrumentalness</th>\n",
       "      <th>liveness</th>\n",
       "      <th>valence</th>\n",
       "      <th>tempo</th>\n",
       "      <th>...</th>\n",
       "      <th>key7</th>\n",
       "      <th>key8</th>\n",
       "      <th>key9</th>\n",
       "      <th>key10</th>\n",
       "      <th>key11</th>\n",
       "      <th>ts0</th>\n",
       "      <th>ts1</th>\n",
       "      <th>ts2</th>\n",
       "      <th>ts3</th>\n",
       "      <th>ts4</th>\n",
       "    </tr>\n",
       "  </thead>\n",
       "  <tbody>\n",
       "    <tr>\n",
       "      <th>0</th>\n",
       "      <td>0.904</td>\n",
       "      <td>0.813</td>\n",
       "      <td>0.241283</td>\n",
       "      <td>0</td>\n",
       "      <td>0.1210</td>\n",
       "      <td>0.031100</td>\n",
       "      <td>0.006970</td>\n",
       "      <td>0.0471</td>\n",
       "      <td>0.810</td>\n",
       "      <td>0.147007</td>\n",
       "      <td>...</td>\n",
       "      <td>0.0</td>\n",
       "      <td>0.0</td>\n",
       "      <td>0.0</td>\n",
       "      <td>0.0</td>\n",
       "      <td>0.0</td>\n",
       "      <td>0.0</td>\n",
       "      <td>0.0</td>\n",
       "      <td>0.0</td>\n",
       "      <td>1.0</td>\n",
       "      <td>0.0</td>\n",
       "    </tr>\n",
       "    <tr>\n",
       "      <th>1</th>\n",
       "      <td>0.774</td>\n",
       "      <td>0.838</td>\n",
       "      <td>0.932608</td>\n",
       "      <td>0</td>\n",
       "      <td>0.1140</td>\n",
       "      <td>0.024900</td>\n",
       "      <td>0.025000</td>\n",
       "      <td>0.2420</td>\n",
       "      <td>0.924</td>\n",
       "      <td>0.745093</td>\n",
       "      <td>...</td>\n",
       "      <td>0.0</td>\n",
       "      <td>0.0</td>\n",
       "      <td>0.0</td>\n",
       "      <td>0.0</td>\n",
       "      <td>0.0</td>\n",
       "      <td>0.0</td>\n",
       "      <td>0.0</td>\n",
       "      <td>0.0</td>\n",
       "      <td>1.0</td>\n",
       "      <td>0.0</td>\n",
       "    </tr>\n",
       "    <tr>\n",
       "      <th>2</th>\n",
       "      <td>0.664</td>\n",
       "      <td>0.758</td>\n",
       "      <td>0.354373</td>\n",
       "      <td>0</td>\n",
       "      <td>0.2100</td>\n",
       "      <td>0.002380</td>\n",
       "      <td>0.000000</td>\n",
       "      <td>0.0598</td>\n",
       "      <td>0.701</td>\n",
       "      <td>-0.744457</td>\n",
       "      <td>...</td>\n",
       "      <td>0.0</td>\n",
       "      <td>0.0</td>\n",
       "      <td>0.0</td>\n",
       "      <td>0.0</td>\n",
       "      <td>0.0</td>\n",
       "      <td>0.0</td>\n",
       "      <td>0.0</td>\n",
       "      <td>0.0</td>\n",
       "      <td>1.0</td>\n",
       "      <td>0.0</td>\n",
       "    </tr>\n",
       "    <tr>\n",
       "      <th>3</th>\n",
       "      <td>0.892</td>\n",
       "      <td>0.714</td>\n",
       "      <td>0.468764</td>\n",
       "      <td>0</td>\n",
       "      <td>0.1410</td>\n",
       "      <td>0.201000</td>\n",
       "      <td>0.000234</td>\n",
       "      <td>0.0521</td>\n",
       "      <td>0.817</td>\n",
       "      <td>-0.686176</td>\n",
       "      <td>...</td>\n",
       "      <td>0.0</td>\n",
       "      <td>0.0</td>\n",
       "      <td>0.0</td>\n",
       "      <td>0.0</td>\n",
       "      <td>0.0</td>\n",
       "      <td>0.0</td>\n",
       "      <td>0.0</td>\n",
       "      <td>0.0</td>\n",
       "      <td>1.0</td>\n",
       "      <td>0.0</td>\n",
       "    </tr>\n",
       "    <tr>\n",
       "      <th>4</th>\n",
       "      <td>0.853</td>\n",
       "      <td>0.606</td>\n",
       "      <td>0.784854</td>\n",
       "      <td>1</td>\n",
       "      <td>0.0713</td>\n",
       "      <td>0.056100</td>\n",
       "      <td>0.000000</td>\n",
       "      <td>0.3130</td>\n",
       "      <td>0.654</td>\n",
       "      <td>-0.897559</td>\n",
       "      <td>...</td>\n",
       "      <td>0.0</td>\n",
       "      <td>0.0</td>\n",
       "      <td>0.0</td>\n",
       "      <td>0.0</td>\n",
       "      <td>0.0</td>\n",
       "      <td>0.0</td>\n",
       "      <td>0.0</td>\n",
       "      <td>0.0</td>\n",
       "      <td>1.0</td>\n",
       "      <td>0.0</td>\n",
       "    </tr>\n",
       "    <tr>\n",
       "      <th>...</th>\n",
       "      <td>...</td>\n",
       "      <td>...</td>\n",
       "      <td>...</td>\n",
       "      <td>...</td>\n",
       "      <td>...</td>\n",
       "      <td>...</td>\n",
       "      <td>...</td>\n",
       "      <td>...</td>\n",
       "      <td>...</td>\n",
       "      <td>...</td>\n",
       "      <td>...</td>\n",
       "      <td>...</td>\n",
       "      <td>...</td>\n",
       "      <td>...</td>\n",
       "      <td>...</td>\n",
       "      <td>...</td>\n",
       "      <td>...</td>\n",
       "      <td>...</td>\n",
       "      <td>...</td>\n",
       "      <td>...</td>\n",
       "      <td>...</td>\n",
       "    </tr>\n",
       "    <tr>\n",
       "      <th>170084</th>\n",
       "      <td>0.551</td>\n",
       "      <td>0.822</td>\n",
       "      <td>0.260131</td>\n",
       "      <td>0</td>\n",
       "      <td>0.0614</td>\n",
       "      <td>0.001540</td>\n",
       "      <td>0.000000</td>\n",
       "      <td>0.2150</td>\n",
       "      <td>0.360</td>\n",
       "      <td>0.200831</td>\n",
       "      <td>...</td>\n",
       "      <td>0.0</td>\n",
       "      <td>0.0</td>\n",
       "      <td>0.0</td>\n",
       "      <td>0.0</td>\n",
       "      <td>1.0</td>\n",
       "      <td>0.0</td>\n",
       "      <td>0.0</td>\n",
       "      <td>0.0</td>\n",
       "      <td>1.0</td>\n",
       "      <td>0.0</td>\n",
       "    </tr>\n",
       "    <tr>\n",
       "      <th>170085</th>\n",
       "      <td>0.480</td>\n",
       "      <td>0.761</td>\n",
       "      <td>0.777921</td>\n",
       "      <td>1</td>\n",
       "      <td>0.0367</td>\n",
       "      <td>0.120000</td>\n",
       "      <td>0.000000</td>\n",
       "      <td>0.2960</td>\n",
       "      <td>0.359</td>\n",
       "      <td>1.322800</td>\n",
       "      <td>...</td>\n",
       "      <td>0.0</td>\n",
       "      <td>0.0</td>\n",
       "      <td>0.0</td>\n",
       "      <td>0.0</td>\n",
       "      <td>0.0</td>\n",
       "      <td>0.0</td>\n",
       "      <td>0.0</td>\n",
       "      <td>0.0</td>\n",
       "      <td>1.0</td>\n",
       "      <td>0.0</td>\n",
       "    </tr>\n",
       "    <tr>\n",
       "      <th>170086</th>\n",
       "      <td>0.402</td>\n",
       "      <td>0.767</td>\n",
       "      <td>0.325126</td>\n",
       "      <td>0</td>\n",
       "      <td>0.1710</td>\n",
       "      <td>0.000077</td>\n",
       "      <td>0.000003</td>\n",
       "      <td>0.3930</td>\n",
       "      <td>0.558</td>\n",
       "      <td>1.944497</td>\n",
       "      <td>...</td>\n",
       "      <td>0.0</td>\n",
       "      <td>0.0</td>\n",
       "      <td>0.0</td>\n",
       "      <td>0.0</td>\n",
       "      <td>1.0</td>\n",
       "      <td>0.0</td>\n",
       "      <td>0.0</td>\n",
       "      <td>0.0</td>\n",
       "      <td>1.0</td>\n",
       "      <td>0.0</td>\n",
       "    </tr>\n",
       "    <tr>\n",
       "      <th>170087</th>\n",
       "      <td>0.678</td>\n",
       "      <td>0.826</td>\n",
       "      <td>0.753223</td>\n",
       "      <td>0</td>\n",
       "      <td>0.0591</td>\n",
       "      <td>0.005240</td>\n",
       "      <td>0.000000</td>\n",
       "      <td>0.0951</td>\n",
       "      <td>0.706</td>\n",
       "      <td>0.641290</td>\n",
       "      <td>...</td>\n",
       "      <td>0.0</td>\n",
       "      <td>0.0</td>\n",
       "      <td>0.0</td>\n",
       "      <td>0.0</td>\n",
       "      <td>0.0</td>\n",
       "      <td>0.0</td>\n",
       "      <td>0.0</td>\n",
       "      <td>0.0</td>\n",
       "      <td>1.0</td>\n",
       "      <td>0.0</td>\n",
       "    </tr>\n",
       "    <tr>\n",
       "      <th>170088</th>\n",
       "      <td>0.670</td>\n",
       "      <td>0.483</td>\n",
       "      <td>0.237166</td>\n",
       "      <td>0</td>\n",
       "      <td>0.1250</td>\n",
       "      <td>0.213000</td>\n",
       "      <td>0.000000</td>\n",
       "      <td>0.0550</td>\n",
       "      <td>0.770</td>\n",
       "      <td>1.666259</td>\n",
       "      <td>...</td>\n",
       "      <td>0.0</td>\n",
       "      <td>0.0</td>\n",
       "      <td>1.0</td>\n",
       "      <td>0.0</td>\n",
       "      <td>0.0</td>\n",
       "      <td>0.0</td>\n",
       "      <td>0.0</td>\n",
       "      <td>0.0</td>\n",
       "      <td>1.0</td>\n",
       "      <td>0.0</td>\n",
       "    </tr>\n",
       "  </tbody>\n",
       "</table>\n",
       "<p>170089 rows × 28 columns</p>\n",
       "</div>"
      ],
      "text/plain": [
       "        danceability  energy  loudness  mode  speechiness  acousticness  \\\n",
       "0              0.904   0.813  0.241283     0       0.1210      0.031100   \n",
       "1              0.774   0.838  0.932608     0       0.1140      0.024900   \n",
       "2              0.664   0.758  0.354373     0       0.2100      0.002380   \n",
       "3              0.892   0.714  0.468764     0       0.1410      0.201000   \n",
       "4              0.853   0.606  0.784854     1       0.0713      0.056100   \n",
       "...              ...     ...       ...   ...          ...           ...   \n",
       "170084         0.551   0.822  0.260131     0       0.0614      0.001540   \n",
       "170085         0.480   0.761  0.777921     1       0.0367      0.120000   \n",
       "170086         0.402   0.767  0.325126     0       0.1710      0.000077   \n",
       "170087         0.678   0.826  0.753223     0       0.0591      0.005240   \n",
       "170088         0.670   0.483  0.237166     0       0.1250      0.213000   \n",
       "\n",
       "        instrumentalness  liveness  valence     tempo  ...  key7  key8  key9  \\\n",
       "0               0.006970    0.0471    0.810  0.147007  ...   0.0   0.0   0.0   \n",
       "1               0.025000    0.2420    0.924  0.745093  ...   0.0   0.0   0.0   \n",
       "2               0.000000    0.0598    0.701 -0.744457  ...   0.0   0.0   0.0   \n",
       "3               0.000234    0.0521    0.817 -0.686176  ...   0.0   0.0   0.0   \n",
       "4               0.000000    0.3130    0.654 -0.897559  ...   0.0   0.0   0.0   \n",
       "...                  ...       ...      ...       ...  ...   ...   ...   ...   \n",
       "170084          0.000000    0.2150    0.360  0.200831  ...   0.0   0.0   0.0   \n",
       "170085          0.000000    0.2960    0.359  1.322800  ...   0.0   0.0   0.0   \n",
       "170086          0.000003    0.3930    0.558  1.944497  ...   0.0   0.0   0.0   \n",
       "170087          0.000000    0.0951    0.706  0.641290  ...   0.0   0.0   0.0   \n",
       "170088          0.000000    0.0550    0.770  1.666259  ...   0.0   0.0   1.0   \n",
       "\n",
       "        key10  key11  ts0  ts1  ts2  ts3  ts4  \n",
       "0         0.0    0.0  0.0  0.0  0.0  1.0  0.0  \n",
       "1         0.0    0.0  0.0  0.0  0.0  1.0  0.0  \n",
       "2         0.0    0.0  0.0  0.0  0.0  1.0  0.0  \n",
       "3         0.0    0.0  0.0  0.0  0.0  1.0  0.0  \n",
       "4         0.0    0.0  0.0  0.0  0.0  1.0  0.0  \n",
       "...       ...    ...  ...  ...  ...  ...  ...  \n",
       "170084    0.0    1.0  0.0  0.0  0.0  1.0  0.0  \n",
       "170085    0.0    0.0  0.0  0.0  0.0  1.0  0.0  \n",
       "170086    0.0    1.0  0.0  0.0  0.0  1.0  0.0  \n",
       "170087    0.0    0.0  0.0  0.0  0.0  1.0  0.0  \n",
       "170088    0.0    0.0  0.0  0.0  0.0  1.0  0.0  \n",
       "\n",
       "[170089 rows x 28 columns]"
      ]
     },
     "execution_count": 10,
     "metadata": {},
     "output_type": "execute_result"
    }
   ],
   "source": [
    "features"
   ]
  },
  {
   "cell_type": "code",
   "execution_count": 11,
   "id": "009ff317",
   "metadata": {},
   "outputs": [],
   "source": [
    "features_arr = torch.tensor(np.array(features))"
   ]
  },
  {
   "cell_type": "code",
   "execution_count": null,
   "id": "832845d4",
   "metadata": {},
   "outputs": [],
   "source": [
    "torch.tensor((features['danceability']))"
   ]
  },
  {
   "cell_type": "markdown",
   "id": "2f227246",
   "metadata": {},
   "source": [
    "# EDA"
   ]
  },
  {
   "cell_type": "code",
   "execution_count": 13,
   "id": "9076c7f3",
   "metadata": {},
   "outputs": [],
   "source": [
    "numerical = ['danceability', 'energy', 'loudness', 'speechiness', 'acousticness', 'instrumentalness', 'liveness', 'valence', 'tempo', 'duration_ms',]\n",
    "categorical = ['key', 'mode', 'time_signature']"
   ]
  },
  {
   "cell_type": "code",
   "execution_count": 14,
   "id": "6b416b20",
   "metadata": {},
   "outputs": [],
   "source": [
    "# \"data/\", \"Spotify Playlist\", 140, 300, 1000, False"
   ]
  },
  {
   "cell_type": "code",
   "execution_count": 15,
   "id": "ed8bd60e",
   "metadata": {},
   "outputs": [],
   "source": [
    "# n = 10000\n",
    "# count = 0\n",
    "# print('Loading {} playlists'.format(n))\n",
    "# for i in range(999, n, 1000):\n",
    "#     with open(\"data/\" + 'mpd.slice.{}-{}.json'.format(i - 999, i)) as f:\n",
    "#         data = json.load(f)\n",
    "#         playlists = data['playlists']"
   ]
  },
  {
   "cell_type": "code",
   "execution_count": 27,
   "id": "c2f96a44",
   "metadata": {},
   "outputs": [],
   "source": [
    "with open(\"\" + 'mpd.slice.{}-{}.json'.format(0, 999)) as f:\n",
    "        data = json.load(f)\n",
    "        playlists = data['playlists']"
   ]
  },
  {
   "cell_type": "code",
   "execution_count": 73,
   "id": "4e85ba69",
   "metadata": {},
   "outputs": [],
   "source": [
    "edafeats = pd.read_csv('~/teams/DSC180A_FA21_A00/a13group1/songset_features_170k')\n",
    "edafeats = edafeats.drop(columns=['Unnamed: 0', 'type', 'track_href', 'analysis_url'])\n",
    "\n",
    "edafeats['loudness'] = std_scaler.fit_transform(edafeats[['loudness']])\n",
    "edafeats['tempo'] = std_scaler.fit_transform(edafeats[['tempo']])\n",
    "edafeats['duration_ms'] = std_scaler.fit_transform(edafeats[['duration_ms']])"
   ]
  },
  {
   "cell_type": "code",
   "execution_count": 74,
   "id": "e725b7e3",
   "metadata": {
    "scrolled": true
   },
   "outputs": [
    {
     "name": "stdout",
     "output_type": "stream",
     "text": [
      "CPU times: user 2min 39s, sys: 322 ms, total: 2min 40s\n",
      "Wall time: 2min 40s\n"
     ]
    }
   ],
   "source": [
    "%%time\n",
    "feat_vars = {'danceability': [], 'energy': [], 'loudness': [], 'speechiness': [], 'acousticness': [], 'instrumentalness': [], 'liveness': [], 'valence': [], 'tempo': [], 'duration_ms': [],'key': [], 'mode': [], 'time_signature': []}\n",
    "feat_avgs = {'danceability': [], 'energy': [], 'loudness': [], 'speechiness': [], 'acousticness': [], 'instrumentalness': [], 'liveness': [], 'valence': [], 'tempo': [], 'duration_ms': [],'key': [], 'mode': [], 'time_signature': []}\n",
    "\n",
    "for each in np.random.choice(999, 200):\n",
    "    item = playlists[each]\n",
    "    row_ids = []\n",
    "    for i in item['tracks']:\n",
    "        row = edafeats[edafeats['uri'] == i['track_uri']].index.item()\n",
    "        row_ids.append(row)\n",
    "\n",
    "    cur_feats = edafeats.iloc[row_ids]\n",
    "\n",
    "    for i in numerical:\n",
    "        var = np.var(cur_feats[i])\n",
    "        feat_vars[i].append(var)\n",
    "        \n",
    "        avg = np.mean(cur_feats[i])\n",
    "        feat_avgs[i].append(avg)\n",
    "    for i in categorical:\n",
    "        highest = max(cur_feats[i].value_counts() / cur_feats[i].count())\n",
    "        feat_vars[i].append(highest)"
   ]
  },
  {
   "cell_type": "code",
   "execution_count": 75,
   "id": "a68029c1",
   "metadata": {},
   "outputs": [
    {
     "data": {
      "text/plain": [
       "[]"
      ]
     },
     "execution_count": 75,
     "metadata": {},
     "output_type": "execute_result"
    }
   ],
   "source": [
    "feat_avgs.pop('key')\n",
    "feat_avgs.pop('mode')\n",
    "feat_avgs.pop('time_signature')"
   ]
  },
  {
   "cell_type": "code",
   "execution_count": 76,
   "id": "0930f3e8",
   "metadata": {},
   "outputs": [
    {
     "name": "stdout",
     "output_type": "stream",
     "text": [
      "danceability 0.017336247228631585\n",
      "energy 0.027802018795663744\n",
      "loudness 0.35974512463583996\n",
      "speechiness 0.006335275255969176\n",
      "acousticness 0.04961921645380942\n",
      "instrumentalness 0.020206595814568802\n",
      "liveness 0.019993579739552073\n",
      "valence 0.04086572118192583\n",
      "tempo 0.8958084474863978\n",
      "duration_ms 0.3048734709345499\n",
      "key 0.193673401827415\n",
      "mode 0.7014418832578955\n",
      "time_signature 0.9303994774551134\n"
     ]
    }
   ],
   "source": [
    "for i in list(feat_vars.keys()):\n",
    "    print(i, np.mean(feat_vars[i]))"
   ]
  },
  {
   "cell_type": "code",
   "execution_count": 77,
   "id": "6923a881",
   "metadata": {},
   "outputs": [
    {
     "name": "stdout",
     "output_type": "stream",
     "text": [
      "danceability 200\n",
      "energy 200\n",
      "loudness 200\n",
      "speechiness 200\n",
      "acousticness 200\n",
      "instrumentalness 200\n",
      "liveness 200\n",
      "valence 200\n",
      "tempo 200\n",
      "duration_ms 200\n"
     ]
    }
   ],
   "source": [
    "for i in list(feat_avgs.keys()):\n",
    "    print(i, len(feat_avgs[i]))"
   ]
  },
  {
   "cell_type": "markdown",
   "id": "1b696eb3",
   "metadata": {},
   "source": [
    "# Within Playlists EDA (From 200 Song Sample)\n",
    "\n",
    "When plotting the distribution of variance for danceability of the 200 sampled playlists we can see that it follows a sort of bimodal distribution, where the variance is always quite low. This suggests that the songs within each playlist follow a sort of similarity in danceability. As we plot the variances of the other playlists we can get different values."
   ]
  },
  {
   "cell_type": "code",
   "execution_count": 81,
   "id": "1ed17fe7",
   "metadata": {},
   "outputs": [
    {
     "data": {
      "image/png": "[encoded data removed]",
      "text/plain": [
       "<Figure size 432x288 with 1 Axes>"
      ]
     },
     "metadata": {
      "needs_background": "light"
     },
     "output_type": "display_data"
    }
   ],
   "source": [
    "danceability_variances = sns.histplot(feat_vars['danceability']).set(title='Danceability Variances 200 Playlists')"
   ]
  },
  {
   "cell_type": "code",
   "execution_count": 78,
   "id": "c7bf0626",
   "metadata": {
    "scrolled": false
   },
   "outputs": [
    {
     "data": {
      "image/png": "[encoded data removed]",
      "text/plain": [
       "<Figure size 1440x1440 with 12 Axes>"
      ]
     },
     "metadata": {
      "needs_background": "light"
     },
     "output_type": "display_data"
    }
   ],
   "source": [
    "var_hists = pd.DataFrame(feat_vars)[['danceability', 'energy', 'loudness', 'speechiness', 'acousticness', 'instrumentalness', 'liveness', 'valence', 'tempo', 'duration_ms']].hist(figsize=(20,20))"
   ]
  },
  {
   "cell_type": "code",
   "execution_count": 79,
   "id": "e8aa54e4",
   "metadata": {
    "scrolled": false
   },
   "outputs": [
    {
     "data": {
      "image/png": "[encoded data removed]",
      "text/plain": [
       "<Figure size 1440x1440 with 12 Axes>"
      ]
     },
     "metadata": {
      "needs_background": "light"
     },
     "output_type": "display_data"
    }
   ],
   "source": [
    "avg_hists = pd.DataFrame(feat_avgs)[['danceability', 'energy', 'loudness', 'speechiness', 'acousticness', 'instrumentalness', 'liveness', 'valence', 'tempo', 'duration_ms']].hist(figsize=(20,20))"
   ]
  },
  {
   "cell_type": "code",
   "execution_count": null,
   "id": "67912685",
   "metadata": {},
   "outputs": [],
   "source": []
  },
  {
   "cell_type": "code",
   "execution_count": null,
   "id": "6717ee08",
   "metadata": {},
   "outputs": [],
   "source": []
  },
  {
   "cell_type": "code",
   "execution_count": null,
   "id": "fbb9f182",
   "metadata": {},
   "outputs": [],
   "source": []
  },
  {
   "cell_type": "code",
   "execution_count": null,
   "id": "3ec086f3",
   "metadata": {},
   "outputs": [],
   "source": []
  },
  {
   "cell_type": "markdown",
   "id": "7a93a484",
   "metadata": {},
   "source": [
    "# Overall Songs EDA"
   ]
  },
  {
   "cell_type": "code",
   "execution_count": 46,
   "id": "c311134b",
   "metadata": {},
   "outputs": [
    {
     "data": {
      "text/plain": [
       "<AxesSubplot:ylabel='time_signature'>"
      ]
     },
     "execution_count": 46,
     "metadata": {},
     "output_type": "execute_result"
    },
    {
     "data": {
      "image/png": "[encoded data removed]",
      "text/plain": [
       "<Figure size 432x288 with 1 Axes>"
      ]
     },
     "metadata": {
      "needs_background": "light"
     },
     "output_type": "display_data"
    }
   ],
   "source": [
    "sns.barplot(y=edafeats['time_signature'].value_counts(), x=[str(i) for i in edafeats['time_signature'].value_counts().index])"
   ]
  },
  {
   "cell_type": "code",
   "execution_count": 45,
   "id": "2104a9fd",
   "metadata": {
    "scrolled": true
   },
   "outputs": [
    {
     "data": {
      "text/plain": [
       "<AxesSubplot:ylabel='key'>"
      ]
     },
     "execution_count": 45,
     "metadata": {},
     "output_type": "execute_result"
    },
    {
     "data": {
      "image/png": "[encoded data removed]",
      "text/plain": [
       "<Figure size 432x288 with 1 Axes>"
      ]
     },
     "metadata": {
      "needs_background": "light"
     },
     "output_type": "display_data"
    }
   ],
   "source": [
    "sns.barplot(y=edafeats['key'].value_counts(), x=[str(i) for i in edafeats['key'].value_counts().index])"
   ]
  },
  {
   "cell_type": "code",
   "execution_count": 76,
   "id": "b16db829",
   "metadata": {},
   "outputs": [
    {
     "data": {
      "text/plain": [
       "<AxesSubplot:ylabel='mode'>"
      ]
     },
     "execution_count": 76,
     "metadata": {},
     "output_type": "execute_result"
    },
    {
     "data": {
      "image/png": "[encoded data removed]",
      "text/plain": [
       "<Figure size 432x288 with 1 Axes>"
      ]
     },
     "metadata": {
      "needs_background": "light"
     },
     "output_type": "display_data"
    }
   ],
   "source": [
    "sns.barplot(y=edafeats['mode'].value_counts(), x=[str(i) for i in edafeats['mode'].value_counts().index])"
   ]
  },
  {
   "cell_type": "code",
   "execution_count": 29,
   "id": "86f0ef25",
   "metadata": {},
   "outputs": [
    {
     "data": {
      "text/plain": [
       "<AxesSubplot:xlabel='energy', ylabel='Count'>"
      ]
     },
     "execution_count": 29,
     "metadata": {},
     "output_type": "execute_result"
    },
    {
     "data": {
      "image/png": "[encoded data removed]",
      "text/plain": [
       "<Figure size 432x288 with 1 Axes>"
      ]
     },
     "metadata": {
      "needs_background": "light"
     },
     "output_type": "display_data"
    }
   ],
   "source": [
    "sns.histplot(edafeats['energy'])"
   ]
  },
  {
   "cell_type": "code",
   "execution_count": 73,
   "id": "8eacd164",
   "metadata": {},
   "outputs": [
    {
     "data": {
      "text/plain": [
       "<AxesSubplot:xlabel='danceability', ylabel='Count'>"
      ]
     },
     "execution_count": 73,
     "metadata": {},
     "output_type": "execute_result"
    },
    {
     "data": {
      "image/png": "[encoded data removed]",
      "text/plain": [
       "<Figure size 432x288 with 1 Axes>"
      ]
     },
     "metadata": {
      "needs_background": "light"
     },
     "output_type": "display_data"
    }
   ],
   "source": [
    "sns.histplot(edafeats['danceability'])"
   ]
  },
  {
   "cell_type": "code",
   "execution_count": 75,
   "id": "cb62666c",
   "metadata": {},
   "outputs": [
    {
     "data": {
      "text/plain": [
       "<AxesSubplot:xlabel='loudness', ylabel='Count'>"
      ]
     },
     "execution_count": 75,
     "metadata": {},
     "output_type": "execute_result"
    },
    {
     "data": {
      "image/png": "[encoded data removed]",
      "text/plain": [
       "<Figure size 432x288 with 1 Axes>"
      ]
     },
     "metadata": {
      "needs_background": "light"
     },
     "output_type": "display_data"
    }
   ],
   "source": [
    "sns.histplot(edafeats['loudness'])"
   ]
  },
  {
   "cell_type": "code",
   "execution_count": 77,
   "id": "74eeadd0",
   "metadata": {
    "scrolled": true
   },
   "outputs": [
    {
     "data": {
      "text/plain": [
       "<AxesSubplot:xlabel='speechiness', ylabel='Count'>"
      ]
     },
     "execution_count": 77,
     "metadata": {},
     "output_type": "execute_result"
    },
    {
     "data": {
      "image/png": "[encoded data removed]",
      "text/plain": [
       "<Figure size 432x288 with 1 Axes>"
      ]
     },
     "metadata": {
      "needs_background": "light"
     },
     "output_type": "display_data"
    }
   ],
   "source": [
    "sns.histplot(edafeats['speechiness'])"
   ]
  },
  {
   "cell_type": "code",
   "execution_count": 78,
   "id": "35315460",
   "metadata": {},
   "outputs": [
    {
     "data": {
      "text/plain": [
       "<AxesSubplot:xlabel='acousticness', ylabel='Count'>"
      ]
     },
     "execution_count": 78,
     "metadata": {},
     "output_type": "execute_result"
    },
    {
     "data": {
      "image/png": "[encoded data removed]",
      "text/plain": [
       "<Figure size 432x288 with 1 Axes>"
      ]
     },
     "metadata": {
      "needs_background": "light"
     },
     "output_type": "display_data"
    }
   ],
   "source": [
    "sns.histplot(edafeats['acousticness'])"
   ]
  },
  {
   "cell_type": "code",
   "execution_count": 80,
   "id": "e578e8a5",
   "metadata": {
    "scrolled": true
   },
   "outputs": [
    {
     "data": {
      "text/plain": [
       "<AxesSubplot:xlabel='instrumentalness', ylabel='Count'>"
      ]
     },
     "execution_count": 80,
     "metadata": {},
     "output_type": "execute_result"
    },
    {
     "data": {
      "image/png": "[encoded data removed]",
      "text/plain": [
       "<Figure size 432x288 with 1 Axes>"
      ]
     },
     "metadata": {
      "needs_background": "light"
     },
     "output_type": "display_data"
    }
   ],
   "source": [
    "sns.histplot(features['instrumentalness'])"
   ]
  },
  {
   "cell_type": "code",
   "execution_count": 82,
   "id": "d47bfa89",
   "metadata": {
    "scrolled": true
   },
   "outputs": [
    {
     "data": {
      "text/plain": [
       "<AxesSubplot:xlabel='liveness', ylabel='Count'>"
      ]
     },
     "execution_count": 82,
     "metadata": {},
     "output_type": "execute_result"
    },
    {
     "data": {
      "image/png": "[encoded data removed]",
      "text/plain": [
       "<Figure size 432x288 with 1 Axes>"
      ]
     },
     "metadata": {
      "needs_background": "light"
     },
     "output_type": "display_data"
    }
   ],
   "source": [
    "sns.histplot(edafeats['liveness'])"
   ]
  },
  {
   "cell_type": "code",
   "execution_count": 84,
   "id": "164fdfe4",
   "metadata": {},
   "outputs": [
    {
     "data": {
      "text/plain": [
       "<AxesSubplot:xlabel='valence', ylabel='Count'>"
      ]
     },
     "execution_count": 84,
     "metadata": {},
     "output_type": "execute_result"
    },
    {
     "data": {
      "image/png": "[encoded data removed]",
      "text/plain": [
       "<Figure size 432x288 with 1 Axes>"
      ]
     },
     "metadata": {
      "needs_background": "light"
     },
     "output_type": "display_data"
    }
   ],
   "source": [
    "sns.histplot(edafeats['valence'])"
   ]
  },
  {
   "cell_type": "code",
   "execution_count": 83,
   "id": "d4e0641c",
   "metadata": {
    "scrolled": true
   },
   "outputs": [
    {
     "data": {
      "text/plain": [
       "<AxesSubplot:xlabel='tempo', ylabel='Count'>"
      ]
     },
     "execution_count": 83,
     "metadata": {},
     "output_type": "execute_result"
    },
    {
     "data": {
      "image/png": "[encoded data removed]",
      "text/plain": [
       "<Figure size 432x288 with 1 Axes>"
      ]
     },
     "metadata": {
      "needs_background": "light"
     },
     "output_type": "display_data"
    }
   ],
   "source": [
    "sns.histplot(edafeats['tempo'])"
   ]
  },
  {
   "cell_type": "code",
   "execution_count": 85,
   "id": "534b4e59",
   "metadata": {},
   "outputs": [
    {
     "data": {
      "text/plain": [
       "<AxesSubplot:xlabel='duration_ms', ylabel='Count'>"
      ]
     },
     "execution_count": 85,
     "metadata": {},
     "output_type": "execute_result"
    },
    {
     "data": {
      "image/png": "[encoded data removed]",
      "text/plain": [
       "<Figure size 432x288 with 1 Axes>"
      ]
     },
     "metadata": {
      "needs_background": "light"
     },
     "output_type": "display_data"
    }
   ],
   "source": [
    "sns.histplot(edafeats['duration_ms'])"
   ]
  },
  {
   "cell_type": "markdown",
   "id": "9f0b6980",
   "metadata": {},
   "source": [
    "# Loads Graph"
   ]
  },
  {
   "cell_type": "code",
   "execution_count": 14,
   "id": "be92d14d",
   "metadata": {},
   "outputs": [],
   "source": [
    "#%%time\n",
    "#G = bf.load_data(\"data/\", \"Spotify Playlist\", 140, 300, 1000, False)"
   ]
  },
  {
   "cell_type": "code",
   "execution_count": 15,
   "id": "0d87aabe",
   "metadata": {
    "scrolled": true
   },
   "outputs": [
    {
     "name": "stdout",
     "output_type": "stream",
     "text": [
      "CPU times: user 0 ns, sys: 948 ms, total: 948 ms\n",
      "Wall time: 1.05 s\n"
     ]
    }
   ],
   "source": [
    "%%time\n",
    "dglG = load_graphs('./test_save.bin')[0][0]"
   ]
  },
  {
   "cell_type": "code",
   "execution_count": 16,
   "id": "8cddea2f",
   "metadata": {},
   "outputs": [
    {
     "data": {
      "text/plain": [
       "Graph(num_nodes=170089, num_edges=53216794,\n",
       "      ndata_schemes={}\n",
       "      edata_schemes={})"
      ]
     },
     "execution_count": 16,
     "metadata": {},
     "output_type": "execute_result"
    }
   ],
   "source": [
    "dglG"
   ]
  },
  {
   "cell_type": "code",
   "execution_count": 17,
   "id": "7b3994ed",
   "metadata": {},
   "outputs": [],
   "source": [
    "for i in features.columns:\n",
    "    dglG.ndata[i] = torch.tensor(features[i])"
   ]
  },
  {
   "cell_type": "code",
   "execution_count": 18,
   "id": "12a159cd",
   "metadata": {},
   "outputs": [
    {
     "data": {
      "text/plain": [
       "Graph(num_nodes=170089, num_edges=53216794,\n",
       "      ndata_schemes={'danceability': Scheme(shape=(), dtype=torch.float64), 'energy': Scheme(shape=(), dtype=torch.float64), 'loudness': Scheme(shape=(), dtype=torch.float64), 'mode': Scheme(shape=(), dtype=torch.int64), 'speechiness': Scheme(shape=(), dtype=torch.float64), 'acousticness': Scheme(shape=(), dtype=torch.float64), 'instrumentalness': Scheme(shape=(), dtype=torch.float64), 'liveness': Scheme(shape=(), dtype=torch.float64), 'valence': Scheme(shape=(), dtype=torch.float64), 'tempo': Scheme(shape=(), dtype=torch.float64), 'duration_ms': Scheme(shape=(), dtype=torch.int64), 'key0': Scheme(shape=(), dtype=torch.float64), 'key1': Scheme(shape=(), dtype=torch.float64), 'key2': Scheme(shape=(), dtype=torch.float64), 'key3': Scheme(shape=(), dtype=torch.float64), 'key4': Scheme(shape=(), dtype=torch.float64), 'key5': Scheme(shape=(), dtype=torch.float64), 'key6': Scheme(shape=(), dtype=torch.float64), 'key7': Scheme(shape=(), dtype=torch.float64), 'key8': Scheme(shape=(), dtype=torch.float64), 'key9': Scheme(shape=(), dtype=torch.float64), 'key10': Scheme(shape=(), dtype=torch.float64), 'key11': Scheme(shape=(), dtype=torch.float64), 'ts0': Scheme(shape=(), dtype=torch.float64), 'ts1': Scheme(shape=(), dtype=torch.float64), 'ts2': Scheme(shape=(), dtype=torch.float64), 'ts3': Scheme(shape=(), dtype=torch.float64), 'ts4': Scheme(shape=(), dtype=torch.float64)}\n",
       "      edata_schemes={})"
      ]
     },
     "execution_count": 18,
     "metadata": {},
     "output_type": "execute_result"
    }
   ],
   "source": [
    "dglG"
   ]
  },
  {
   "cell_type": "markdown",
   "id": "732abbf1",
   "metadata": {},
   "source": [
    "# Edge Splitting"
   ]
  },
  {
   "cell_type": "code",
   "execution_count": 19,
   "id": "043f3ab9",
   "metadata": {},
   "outputs": [],
   "source": [
    "# Split edge set for training and testing\n",
    "u, v = dglG.edges()"
   ]
  },
  {
   "cell_type": "code",
   "execution_count": 20,
   "id": "25c48b93",
   "metadata": {},
   "outputs": [],
   "source": [
    "eids = np.arange(dglG.number_of_edges())\n"
   ]
  },
  {
   "cell_type": "code",
   "execution_count": 21,
   "id": "56ae91ee",
   "metadata": {},
   "outputs": [],
   "source": [
    "eids = np.random.permutation(eids)\n"
   ]
  },
  {
   "cell_type": "code",
   "execution_count": 22,
   "id": "421e342b",
   "metadata": {},
   "outputs": [],
   "source": [
    "test_size = int(len(eids) * 0.1)\n"
   ]
  },
  {
   "cell_type": "code",
   "execution_count": 23,
   "id": "4d9187ac",
   "metadata": {},
   "outputs": [],
   "source": [
    "train_size = dglG.number_of_edges() - test_size\n"
   ]
  },
  {
   "cell_type": "code",
   "execution_count": 24,
   "id": "c44ec942",
   "metadata": {},
   "outputs": [],
   "source": [
    "test_pos_u, test_pos_v = u[eids[:test_size]], v[eids[:test_size]]\n"
   ]
  },
  {
   "cell_type": "code",
   "execution_count": 25,
   "id": "d1f515e6",
   "metadata": {},
   "outputs": [],
   "source": [
    "train_pos_u, train_pos_v = u[eids[test_size:]], v[eids[test_size:]]\n"
   ]
  },
  {
   "cell_type": "code",
   "execution_count": null,
   "id": "d4940cd0",
   "metadata": {},
   "outputs": [],
   "source": [
    "# Find all negative edges and split them for training and testing\n"
   ]
  },
  {
   "cell_type": "code",
   "execution_count": 26,
   "id": "b2a4586a",
   "metadata": {},
   "outputs": [],
   "source": [
    "adj = sp.coo_matrix((np.ones(len(u)), (u.numpy(), v.numpy())))\n"
   ]
  },
  {
   "cell_type": "code",
   "execution_count": 27,
   "id": "1e947615",
   "metadata": {},
   "outputs": [],
   "source": [
    "#adj_neg = 1 - adj.todense() - np.eye(dglG.number_of_nodes())\n"
   ]
  },
  {
   "cell_type": "code",
   "execution_count": 28,
   "id": "09d62e5d",
   "metadata": {},
   "outputs": [],
   "source": [
    "#neg_u, neg_v = np.where(adj_neg != 0)\n"
   ]
  },
  {
   "cell_type": "code",
   "execution_count": 29,
   "id": "c73ac1b6",
   "metadata": {},
   "outputs": [],
   "source": [
    "#neg_eids = np.random.choice(len(neg_u), dglG.number_of_edges() // 2)\n"
   ]
  },
  {
   "cell_type": "code",
   "execution_count": 30,
   "id": "c16e2bc5",
   "metadata": {},
   "outputs": [],
   "source": [
    "#test_neg_u, test_neg_v = neg_u[neg_eids[:test_size]], neg_v[neg_eids[:test_size]]\n"
   ]
  },
  {
   "cell_type": "code",
   "execution_count": 31,
   "id": "9d0c7004",
   "metadata": {},
   "outputs": [],
   "source": [
    "#train_neg_u, train_neg_v = neg_u[neg_eids[test_size:]], neg_v[neg_eids[test_size:]]"
   ]
  },
  {
   "cell_type": "code",
   "execution_count": 32,
   "id": "490fadd0",
   "metadata": {},
   "outputs": [],
   "source": [
    "train_g = dgl.remove_edges(dglG, eids[:test_size])"
   ]
  },
  {
   "cell_type": "code",
   "execution_count": 33,
   "id": "fb4a5456",
   "metadata": {},
   "outputs": [],
   "source": [
    "train_pos_g = dgl.graph((train_pos_u, train_pos_v), num_nodes=dglG.number_of_nodes())\n",
    "#train_neg_g = dgl.graph((train_neg_u, train_neg_v), num_nodes=dglG.number_of_nodes())\n",
    "\n",
    "test_pos_g = dgl.graph((test_pos_u, test_pos_v), num_nodes=dglG.number_of_nodes())\n",
    "#test_neg_g = dgl.graph((test_neg_u, test_neg_v), num_nodes=dglG.number_of_nodes())"
   ]
  },
  {
   "cell_type": "code",
   "execution_count": 34,
   "id": "952e36c3",
   "metadata": {},
   "outputs": [],
   "source": [
    "class GraphSAGE(nn.Module):\n",
    "    def __init__(self, in_feats, h_feats):\n",
    "        super(GraphSAGE, self).__init__()\n",
    "        self.conv1 = SAGEConv(in_feats, h_feats, 'mean')\n",
    "        self.conv2 = SAGEConv(h_feats, h_feats, 'mean')\n",
    "\n",
    "    def forward(self, g, in_feat):\n",
    "        h = self.conv1(g, in_feat)\n",
    "        h = F.relu(h)\n",
    "        h = self.conv2(g, h)\n",
    "        return h"
   ]
  },
  {
   "cell_type": "code",
   "execution_count": 35,
   "id": "513d9ffc",
   "metadata": {},
   "outputs": [],
   "source": [
    "import dgl.function as fn\n",
    "\n",
    "class DotPredictor(nn.Module):\n",
    "    def forward(self, g, h):\n",
    "        with g.local_scope():\n",
    "            g.ndata['h'] = h\n",
    "            # Compute a new edge feature named 'score' by a dot-product between the\n",
    "            # source node feature 'h' and destination node feature 'h'.\n",
    "            g.apply_edges(fn.u_dot_v('h', 'h', 'score'))\n",
    "            # u_dot_v returns a 1-element vector for each edge so you need to squeeze it.\n",
    "            return g.edata['score'][:, 0]\n"
   ]
  },
  {
   "cell_type": "code",
   "execution_count": 36,
   "id": "9586178e",
   "metadata": {},
   "outputs": [],
   "source": [
    "class MLPPredictor(nn.Module):\n",
    "    def __init__(self, h_feats):\n",
    "        super().__init__()\n",
    "        self.W1 = nn.Linear(h_feats * 2, h_feats)\n",
    "        self.W2 = nn.Linear(h_feats, 1)\n",
    "\n",
    "    def apply_edges(self, edges):\n",
    "        \"\"\"\n",
    "        Computes a scalar score for each edge of the given graph.\n",
    "\n",
    "        Parameters\n",
    "        ----------\n",
    "        edges :\n",
    "            Has three members ``src``, ``dst`` and ``data``, each of\n",
    "            which is a dictionary representing the features of the\n",
    "            source nodes, the destination nodes, and the edges\n",
    "            themselves.\n",
    "\n",
    "        Returns\n",
    "        -------\n",
    "        dict\n",
    "            A dictionary of new edge features.\n",
    "        \"\"\"\n",
    "        h = torch.cat([edges.src['h'], edges.dst['h']], 1)\n",
    "        return {'score': self.W2(F.relu(self.W1(h))).squeeze(1)}\n",
    "\n",
    "    def forward(self, g, h):\n",
    "        with g.local_scope():\n",
    "            g.ndata['h'] = h\n",
    "            g.apply_edges(self.apply_edges)\n",
    "            return g.edata['score']\n"
   ]
  },
  {
   "cell_type": "code",
   "execution_count": 49,
   "id": "d8772040",
   "metadata": {},
   "outputs": [
    {
     "data": {
      "text/plain": [
       "tensor([[0., 0., 0.,  ..., 0., 0., 0.],\n",
       "        [0., 0., 0.,  ..., 0., 0., 0.],\n",
       "        [0., 0., 0.,  ..., 0., 0., 0.],\n",
       "        ...,\n",
       "        [0., 0., 0.,  ..., 0., 0., 0.],\n",
       "        [0., 0., 0.,  ..., 0., 0., 0.],\n",
       "        [0., 0., 0.,  ..., 0., 0., 0.]])"
      ]
     },
     "execution_count": 49,
     "metadata": {},
     "output_type": "execute_result"
    }
   ],
   "source": [
    "g.ndata['feat']"
   ]
  },
  {
   "cell_type": "code",
   "execution_count": 47,
   "id": "16d750f3",
   "metadata": {},
   "outputs": [],
   "source": [
    "model = GraphSAGE(features_arr.shape[1], 16)\n",
    "# You can replace DotPredictor with MLPPredictor.\n",
    "#pred = MLPPredictor(16)\n",
    "pred = DotPredictor()\n",
    "\n",
    "def compute_loss(pos_score):\n",
    "    scores = ([pos_score])\n",
    "    labels = (torch.ones(pos_score.shape[0]))\n",
    "    return F.binary_cross_entropy_with_logits(scores, labels)\n",
    "\n",
    "def compute_auc(pos_score):\n",
    "    scores = torch.cat([pos_score]).numpy()\n",
    "    labels = torch.cat(\n",
    "        [torch.ones(pos_score.shape[0])]).numpy()\n",
    "    return roc_auc_score(labels, scores)\n"
   ]
  },
  {
   "cell_type": "code",
   "execution_count": 52,
   "id": "8b525859",
   "metadata": {},
   "outputs": [
    {
     "ename": "RuntimeError",
     "evalue": "expected scalar type Double but found Float",
     "output_type": "error",
     "traceback": [
      "\u001b[0;31m---------------------------------------------------------------------------\u001b[0m",
      "\u001b[0;31mRuntimeError\u001b[0m                              Traceback (most recent call last)",
      "\u001b[0;32m/tmp/ipykernel_1778/2578493705.py\u001b[0m in \u001b[0;36m<module>\u001b[0;34m\u001b[0m\n\u001b[1;32m      7\u001b[0m \u001b[0;32mfor\u001b[0m \u001b[0me\u001b[0m \u001b[0;32min\u001b[0m \u001b[0mrange\u001b[0m\u001b[0;34m(\u001b[0m\u001b[0;36m100\u001b[0m\u001b[0;34m)\u001b[0m\u001b[0;34m:\u001b[0m\u001b[0;34m\u001b[0m\u001b[0;34m\u001b[0m\u001b[0m\n\u001b[1;32m      8\u001b[0m     \u001b[0;31m# forward\u001b[0m\u001b[0;34m\u001b[0m\u001b[0;34m\u001b[0m\u001b[0;34m\u001b[0m\u001b[0m\n\u001b[0;32m----> 9\u001b[0;31m     \u001b[0mh\u001b[0m \u001b[0;34m=\u001b[0m \u001b[0mmodel\u001b[0m\u001b[0;34m(\u001b[0m\u001b[0mtrain_g\u001b[0m\u001b[0;34m,\u001b[0m \u001b[0mfeatures_arr\u001b[0m\u001b[0;34m)\u001b[0m\u001b[0;34m\u001b[0m\u001b[0;34m\u001b[0m\u001b[0m\n\u001b[0m\u001b[1;32m     10\u001b[0m     \u001b[0mpos_score\u001b[0m \u001b[0;34m=\u001b[0m \u001b[0mpred\u001b[0m\u001b[0;34m(\u001b[0m\u001b[0mtrain_pos_g\u001b[0m\u001b[0;34m,\u001b[0m \u001b[0mh\u001b[0m\u001b[0;34m)\u001b[0m\u001b[0;34m\u001b[0m\u001b[0;34m\u001b[0m\u001b[0m\n\u001b[1;32m     11\u001b[0m     \u001b[0mloss\u001b[0m \u001b[0;34m=\u001b[0m \u001b[0mcompute_loss\u001b[0m\u001b[0;34m(\u001b[0m\u001b[0mpos_score\u001b[0m\u001b[0;34m,\u001b[0m \u001b[0mneg_score\u001b[0m\u001b[0;34m)\u001b[0m\u001b[0;34m\u001b[0m\u001b[0;34m\u001b[0m\u001b[0m\n",
      "\u001b[0;32m/opt/conda/lib/python3.9/site-packages/torch/nn/modules/module.py\u001b[0m in \u001b[0;36m_call_impl\u001b[0;34m(self, *input, **kwargs)\u001b[0m\n\u001b[1;32m   1049\u001b[0m         if not (self._backward_hooks or self._forward_hooks or self._forward_pre_hooks or _global_backward_hooks\n\u001b[1;32m   1050\u001b[0m                 or _global_forward_hooks or _global_forward_pre_hooks):\n\u001b[0;32m-> 1051\u001b[0;31m             \u001b[0;32mreturn\u001b[0m \u001b[0mforward_call\u001b[0m\u001b[0;34m(\u001b[0m\u001b[0;34m*\u001b[0m\u001b[0minput\u001b[0m\u001b[0;34m,\u001b[0m \u001b[0;34m**\u001b[0m\u001b[0mkwargs\u001b[0m\u001b[0;34m)\u001b[0m\u001b[0;34m\u001b[0m\u001b[0;34m\u001b[0m\u001b[0m\n\u001b[0m\u001b[1;32m   1052\u001b[0m         \u001b[0;31m# Do not call functions when jit is used\u001b[0m\u001b[0;34m\u001b[0m\u001b[0;34m\u001b[0m\u001b[0;34m\u001b[0m\u001b[0m\n\u001b[1;32m   1053\u001b[0m         \u001b[0mfull_backward_hooks\u001b[0m\u001b[0;34m,\u001b[0m \u001b[0mnon_full_backward_hooks\u001b[0m \u001b[0;34m=\u001b[0m \u001b[0;34m[\u001b[0m\u001b[0;34m]\u001b[0m\u001b[0;34m,\u001b[0m \u001b[0;34m[\u001b[0m\u001b[0;34m]\u001b[0m\u001b[0;34m\u001b[0m\u001b[0;34m\u001b[0m\u001b[0m\n",
      "\u001b[0;32m/tmp/ipykernel_1778/2632551539.py\u001b[0m in \u001b[0;36mforward\u001b[0;34m(self, g, in_feat)\u001b[0m\n\u001b[1;32m      6\u001b[0m \u001b[0;34m\u001b[0m\u001b[0m\n\u001b[1;32m      7\u001b[0m     \u001b[0;32mdef\u001b[0m \u001b[0mforward\u001b[0m\u001b[0;34m(\u001b[0m\u001b[0mself\u001b[0m\u001b[0;34m,\u001b[0m \u001b[0mg\u001b[0m\u001b[0;34m,\u001b[0m \u001b[0min_feat\u001b[0m\u001b[0;34m)\u001b[0m\u001b[0;34m:\u001b[0m\u001b[0;34m\u001b[0m\u001b[0;34m\u001b[0m\u001b[0m\n\u001b[0;32m----> 8\u001b[0;31m         \u001b[0mh\u001b[0m \u001b[0;34m=\u001b[0m \u001b[0mself\u001b[0m\u001b[0;34m.\u001b[0m\u001b[0mconv1\u001b[0m\u001b[0;34m(\u001b[0m\u001b[0mg\u001b[0m\u001b[0;34m,\u001b[0m \u001b[0min_feat\u001b[0m\u001b[0;34m)\u001b[0m\u001b[0;34m\u001b[0m\u001b[0;34m\u001b[0m\u001b[0m\n\u001b[0m\u001b[1;32m      9\u001b[0m         \u001b[0mh\u001b[0m \u001b[0;34m=\u001b[0m \u001b[0mF\u001b[0m\u001b[0;34m.\u001b[0m\u001b[0mrelu\u001b[0m\u001b[0;34m(\u001b[0m\u001b[0mh\u001b[0m\u001b[0;34m)\u001b[0m\u001b[0;34m\u001b[0m\u001b[0;34m\u001b[0m\u001b[0m\n\u001b[1;32m     10\u001b[0m         \u001b[0mh\u001b[0m \u001b[0;34m=\u001b[0m \u001b[0mself\u001b[0m\u001b[0;34m.\u001b[0m\u001b[0mconv2\u001b[0m\u001b[0;34m(\u001b[0m\u001b[0mg\u001b[0m\u001b[0;34m,\u001b[0m \u001b[0mh\u001b[0m\u001b[0;34m)\u001b[0m\u001b[0;34m\u001b[0m\u001b[0;34m\u001b[0m\u001b[0m\n",
      "\u001b[0;32m/opt/conda/lib/python3.9/site-packages/torch/nn/modules/module.py\u001b[0m in \u001b[0;36m_call_impl\u001b[0;34m(self, *input, **kwargs)\u001b[0m\n\u001b[1;32m   1049\u001b[0m         if not (self._backward_hooks or self._forward_hooks or self._forward_pre_hooks or _global_backward_hooks\n\u001b[1;32m   1050\u001b[0m                 or _global_forward_hooks or _global_forward_pre_hooks):\n\u001b[0;32m-> 1051\u001b[0;31m             \u001b[0;32mreturn\u001b[0m \u001b[0mforward_call\u001b[0m\u001b[0;34m(\u001b[0m\u001b[0;34m*\u001b[0m\u001b[0minput\u001b[0m\u001b[0;34m,\u001b[0m \u001b[0;34m**\u001b[0m\u001b[0mkwargs\u001b[0m\u001b[0;34m)\u001b[0m\u001b[0;34m\u001b[0m\u001b[0;34m\u001b[0m\u001b[0m\n\u001b[0m\u001b[1;32m   1052\u001b[0m         \u001b[0;31m# Do not call functions when jit is used\u001b[0m\u001b[0;34m\u001b[0m\u001b[0;34m\u001b[0m\u001b[0;34m\u001b[0m\u001b[0m\n\u001b[1;32m   1053\u001b[0m         \u001b[0mfull_backward_hooks\u001b[0m\u001b[0;34m,\u001b[0m \u001b[0mnon_full_backward_hooks\u001b[0m \u001b[0;34m=\u001b[0m \u001b[0;34m[\u001b[0m\u001b[0;34m]\u001b[0m\u001b[0;34m,\u001b[0m \u001b[0;34m[\u001b[0m\u001b[0;34m]\u001b[0m\u001b[0;34m\u001b[0m\u001b[0;34m\u001b[0m\u001b[0m\n",
      "\u001b[0;32m~/.local/lib/python3.9/site-packages/dgl/nn/pytorch/conv/sageconv.py\u001b[0m in \u001b[0;36mforward\u001b[0;34m(self, graph, feat, edge_weight)\u001b[0m\n\u001b[1;32m    228\u001b[0m             \u001b[0;31m# Message Passing\u001b[0m\u001b[0;34m\u001b[0m\u001b[0;34m\u001b[0m\u001b[0;34m\u001b[0m\u001b[0m\n\u001b[1;32m    229\u001b[0m             \u001b[0;32mif\u001b[0m \u001b[0mself\u001b[0m\u001b[0;34m.\u001b[0m\u001b[0m_aggre_type\u001b[0m \u001b[0;34m==\u001b[0m \u001b[0;34m'mean'\u001b[0m\u001b[0;34m:\u001b[0m\u001b[0;34m\u001b[0m\u001b[0;34m\u001b[0m\u001b[0m\n\u001b[0;32m--> 230\u001b[0;31m                 \u001b[0mgraph\u001b[0m\u001b[0;34m.\u001b[0m\u001b[0msrcdata\u001b[0m\u001b[0;34m[\u001b[0m\u001b[0;34m'h'\u001b[0m\u001b[0;34m]\u001b[0m \u001b[0;34m=\u001b[0m \u001b[0mself\u001b[0m\u001b[0;34m.\u001b[0m\u001b[0mfc_neigh\u001b[0m\u001b[0;34m(\u001b[0m\u001b[0mfeat_src\u001b[0m\u001b[0;34m)\u001b[0m \u001b[0;32mif\u001b[0m \u001b[0mlin_before_mp\u001b[0m \u001b[0;32melse\u001b[0m \u001b[0mfeat_src\u001b[0m\u001b[0;34m\u001b[0m\u001b[0;34m\u001b[0m\u001b[0m\n\u001b[0m\u001b[1;32m    231\u001b[0m                 \u001b[0mgraph\u001b[0m\u001b[0;34m.\u001b[0m\u001b[0mupdate_all\u001b[0m\u001b[0;34m(\u001b[0m\u001b[0mmsg_fn\u001b[0m\u001b[0;34m,\u001b[0m \u001b[0mfn\u001b[0m\u001b[0;34m.\u001b[0m\u001b[0mmean\u001b[0m\u001b[0;34m(\u001b[0m\u001b[0;34m'm'\u001b[0m\u001b[0;34m,\u001b[0m \u001b[0;34m'neigh'\u001b[0m\u001b[0;34m)\u001b[0m\u001b[0;34m)\u001b[0m\u001b[0;34m\u001b[0m\u001b[0;34m\u001b[0m\u001b[0m\n\u001b[1;32m    232\u001b[0m                 \u001b[0mh_neigh\u001b[0m \u001b[0;34m=\u001b[0m \u001b[0mgraph\u001b[0m\u001b[0;34m.\u001b[0m\u001b[0mdstdata\u001b[0m\u001b[0;34m[\u001b[0m\u001b[0;34m'neigh'\u001b[0m\u001b[0;34m]\u001b[0m\u001b[0;34m\u001b[0m\u001b[0;34m\u001b[0m\u001b[0m\n",
      "\u001b[0;32m/opt/conda/lib/python3.9/site-packages/torch/nn/modules/module.py\u001b[0m in \u001b[0;36m_call_impl\u001b[0;34m(self, *input, **kwargs)\u001b[0m\n\u001b[1;32m   1049\u001b[0m         if not (self._backward_hooks or self._forward_hooks or self._forward_pre_hooks or _global_backward_hooks\n\u001b[1;32m   1050\u001b[0m                 or _global_forward_hooks or _global_forward_pre_hooks):\n\u001b[0;32m-> 1051\u001b[0;31m             \u001b[0;32mreturn\u001b[0m \u001b[0mforward_call\u001b[0m\u001b[0;34m(\u001b[0m\u001b[0;34m*\u001b[0m\u001b[0minput\u001b[0m\u001b[0;34m,\u001b[0m \u001b[0;34m**\u001b[0m\u001b[0mkwargs\u001b[0m\u001b[0;34m)\u001b[0m\u001b[0;34m\u001b[0m\u001b[0;34m\u001b[0m\u001b[0m\n\u001b[0m\u001b[1;32m   1052\u001b[0m         \u001b[0;31m# Do not call functions when jit is used\u001b[0m\u001b[0;34m\u001b[0m\u001b[0;34m\u001b[0m\u001b[0;34m\u001b[0m\u001b[0m\n\u001b[1;32m   1053\u001b[0m         \u001b[0mfull_backward_hooks\u001b[0m\u001b[0;34m,\u001b[0m \u001b[0mnon_full_backward_hooks\u001b[0m \u001b[0;34m=\u001b[0m \u001b[0;34m[\u001b[0m\u001b[0;34m]\u001b[0m\u001b[0;34m,\u001b[0m \u001b[0;34m[\u001b[0m\u001b[0;34m]\u001b[0m\u001b[0;34m\u001b[0m\u001b[0;34m\u001b[0m\u001b[0m\n",
      "\u001b[0;32m/opt/conda/lib/python3.9/site-packages/torch/nn/modules/linear.py\u001b[0m in \u001b[0;36mforward\u001b[0;34m(self, input)\u001b[0m\n\u001b[1;32m     94\u001b[0m \u001b[0;34m\u001b[0m\u001b[0m\n\u001b[1;32m     95\u001b[0m     \u001b[0;32mdef\u001b[0m \u001b[0mforward\u001b[0m\u001b[0;34m(\u001b[0m\u001b[0mself\u001b[0m\u001b[0;34m,\u001b[0m \u001b[0minput\u001b[0m\u001b[0;34m:\u001b[0m \u001b[0mTensor\u001b[0m\u001b[0;34m)\u001b[0m \u001b[0;34m->\u001b[0m \u001b[0mTensor\u001b[0m\u001b[0;34m:\u001b[0m\u001b[0;34m\u001b[0m\u001b[0;34m\u001b[0m\u001b[0m\n\u001b[0;32m---> 96\u001b[0;31m         \u001b[0;32mreturn\u001b[0m \u001b[0mF\u001b[0m\u001b[0;34m.\u001b[0m\u001b[0mlinear\u001b[0m\u001b[0;34m(\u001b[0m\u001b[0minput\u001b[0m\u001b[0;34m,\u001b[0m \u001b[0mself\u001b[0m\u001b[0;34m.\u001b[0m\u001b[0mweight\u001b[0m\u001b[0;34m,\u001b[0m \u001b[0mself\u001b[0m\u001b[0;34m.\u001b[0m\u001b[0mbias\u001b[0m\u001b[0;34m)\u001b[0m\u001b[0;34m\u001b[0m\u001b[0;34m\u001b[0m\u001b[0m\n\u001b[0m\u001b[1;32m     97\u001b[0m \u001b[0;34m\u001b[0m\u001b[0m\n\u001b[1;32m     98\u001b[0m     \u001b[0;32mdef\u001b[0m \u001b[0mextra_repr\u001b[0m\u001b[0;34m(\u001b[0m\u001b[0mself\u001b[0m\u001b[0;34m)\u001b[0m \u001b[0;34m->\u001b[0m \u001b[0mstr\u001b[0m\u001b[0;34m:\u001b[0m\u001b[0;34m\u001b[0m\u001b[0;34m\u001b[0m\u001b[0m\n",
      "\u001b[0;32m/opt/conda/lib/python3.9/site-packages/torch/nn/functional.py\u001b[0m in \u001b[0;36mlinear\u001b[0;34m(input, weight, bias)\u001b[0m\n\u001b[1;32m   1845\u001b[0m     \u001b[0;32mif\u001b[0m \u001b[0mhas_torch_function_variadic\u001b[0m\u001b[0;34m(\u001b[0m\u001b[0minput\u001b[0m\u001b[0;34m,\u001b[0m \u001b[0mweight\u001b[0m\u001b[0;34m)\u001b[0m\u001b[0;34m:\u001b[0m\u001b[0;34m\u001b[0m\u001b[0;34m\u001b[0m\u001b[0m\n\u001b[1;32m   1846\u001b[0m         \u001b[0;32mreturn\u001b[0m \u001b[0mhandle_torch_function\u001b[0m\u001b[0;34m(\u001b[0m\u001b[0mlinear\u001b[0m\u001b[0;34m,\u001b[0m \u001b[0;34m(\u001b[0m\u001b[0minput\u001b[0m\u001b[0;34m,\u001b[0m \u001b[0mweight\u001b[0m\u001b[0;34m)\u001b[0m\u001b[0;34m,\u001b[0m \u001b[0minput\u001b[0m\u001b[0;34m,\u001b[0m \u001b[0mweight\u001b[0m\u001b[0;34m,\u001b[0m \u001b[0mbias\u001b[0m\u001b[0;34m=\u001b[0m\u001b[0mbias\u001b[0m\u001b[0;34m)\u001b[0m\u001b[0;34m\u001b[0m\u001b[0;34m\u001b[0m\u001b[0m\n\u001b[0;32m-> 1847\u001b[0;31m     \u001b[0;32mreturn\u001b[0m \u001b[0mtorch\u001b[0m\u001b[0;34m.\u001b[0m\u001b[0m_C\u001b[0m\u001b[0;34m.\u001b[0m\u001b[0m_nn\u001b[0m\u001b[0;34m.\u001b[0m\u001b[0mlinear\u001b[0m\u001b[0;34m(\u001b[0m\u001b[0minput\u001b[0m\u001b[0;34m,\u001b[0m \u001b[0mweight\u001b[0m\u001b[0;34m,\u001b[0m \u001b[0mbias\u001b[0m\u001b[0;34m)\u001b[0m\u001b[0;34m\u001b[0m\u001b[0;34m\u001b[0m\u001b[0m\n\u001b[0m\u001b[1;32m   1848\u001b[0m \u001b[0;34m\u001b[0m\u001b[0m\n\u001b[1;32m   1849\u001b[0m \u001b[0;34m\u001b[0m\u001b[0m\n",
      "\u001b[0;31mRuntimeError\u001b[0m: expected scalar type Double but found Float"
     ]
    }
   ],
   "source": [
    "# ----------- 3. set up loss and optimizer -------------- #\n",
    "# in this case, loss will in training loop\n",
    "optimizer = torch.optim.Adam(itertools.chain(model.parameters(), pred.parameters()), lr=0.01)\n",
    "\n",
    "# ----------- 4. training -------------------------------- #\n",
    "all_logits = []\n",
    "for e in range(100):\n",
    "    # forward\n",
    "    h = model(train_g, torch.tensor)\n",
    "    pos_score = pred(train_pos_g, h)\n",
    "    neg_score = pred(train_neg_g, h)\n",
    "    loss = compute_loss(pos_score, neg_score)\n",
    "\n",
    "    # backward\n",
    "    optimizer.zero_grad()\n",
    "    loss.backward()\n",
    "    optimizer.step()\n",
    "\n",
    "    if e % 5 == 0:\n",
    "        print('In epoch {}, loss: {}'.format(e, loss))\n",
    "\n",
    "# ----------- 5. check results ------------------------ #\n",
    "from sklearn.metrics import roc_auc_score\n",
    "with torch.no_grad():\n",
    "    pos_score = pred(test_pos_g, h)\n",
    "    neg_score = pred(test_neg_g, h)\n",
    "    print('AUC', compute_auc(pos_score, neg_score))"
   ]
  },
  {
   "cell_type": "code",
   "execution_count": null,
   "id": "a360aca5",
   "metadata": {},
   "outputs": [],
   "source": []
  },
  {
   "cell_type": "code",
   "execution_count": null,
   "id": "4694032e",
   "metadata": {},
   "outputs": [],
   "source": []
  },
  {
   "cell_type": "code",
   "execution_count": null,
   "id": "62ea0973",
   "metadata": {},
   "outputs": [],
   "source": []
  },
  {
   "cell_type": "code",
   "execution_count": null,
   "id": "4b9e8b7f",
   "metadata": {},
   "outputs": [],
   "source": []
  },
  {
   "cell_type": "code",
   "execution_count": null,
   "id": "f3ad6c36",
   "metadata": {},
   "outputs": [],
   "source": []
  },
  {
   "cell_type": "code",
   "execution_count": 4,
   "id": "ec11d07d",
   "metadata": {},
   "outputs": [
    {
     "data": {
      "text/html": [
       "<div>\n",
       "<style scoped>\n",
       "    .dataframe tbody tr th:only-of-type {\n",
       "        vertical-align: middle;\n",
       "    }\n",
       "\n",
       "    .dataframe tbody tr th {\n",
       "        vertical-align: top;\n",
       "    }\n",
       "\n",
       "    .dataframe thead th {\n",
       "        text-align: right;\n",
       "    }\n",
       "</style>\n",
       "<table border=\"1\" class=\"dataframe\">\n",
       "  <thead>\n",
       "    <tr style=\"text-align: right;\">\n",
       "      <th></th>\n",
       "      <th>Unnamed: 0</th>\n",
       "      <th>danceability</th>\n",
       "      <th>energy</th>\n",
       "      <th>key</th>\n",
       "      <th>loudness</th>\n",
       "      <th>mode</th>\n",
       "      <th>speechiness</th>\n",
       "      <th>acousticness</th>\n",
       "      <th>instrumentalness</th>\n",
       "      <th>liveness</th>\n",
       "      <th>valence</th>\n",
       "      <th>tempo</th>\n",
       "      <th>type</th>\n",
       "      <th>id</th>\n",
       "      <th>uri</th>\n",
       "      <th>track_href</th>\n",
       "      <th>analysis_url</th>\n",
       "      <th>duration_ms</th>\n",
       "      <th>time_signature</th>\n",
       "    </tr>\n",
       "  </thead>\n",
       "  <tbody>\n",
       "    <tr>\n",
       "      <th>0</th>\n",
       "      <td>0</td>\n",
       "      <td>0.904</td>\n",
       "      <td>0.813</td>\n",
       "      <td>4</td>\n",
       "      <td>-7.105</td>\n",
       "      <td>0</td>\n",
       "      <td>0.1210</td>\n",
       "      <td>0.031100</td>\n",
       "      <td>0.006970</td>\n",
       "      <td>0.0471</td>\n",
       "      <td>0.810</td>\n",
       "      <td>125.461</td>\n",
       "      <td>audio_features</td>\n",
       "      <td>0UaMYEvWZi0ZqiDOoHU3YI</td>\n",
       "      <td>spotify:track:0UaMYEvWZi0ZqiDOoHU3YI</td>\n",
       "      <td>https://api.spotify.com/v1/tracks/0UaMYEvWZi0Z...</td>\n",
       "      <td>https://api.spotify.com/v1/audio-analysis/0UaM...</td>\n",
       "      <td>226864</td>\n",
       "      <td>4</td>\n",
       "    </tr>\n",
       "    <tr>\n",
       "      <th>1</th>\n",
       "      <td>1</td>\n",
       "      <td>0.774</td>\n",
       "      <td>0.838</td>\n",
       "      <td>5</td>\n",
       "      <td>-3.914</td>\n",
       "      <td>0</td>\n",
       "      <td>0.1140</td>\n",
       "      <td>0.024900</td>\n",
       "      <td>0.025000</td>\n",
       "      <td>0.2420</td>\n",
       "      <td>0.924</td>\n",
       "      <td>143.040</td>\n",
       "      <td>audio_features</td>\n",
       "      <td>6I9VzXrHxO9rA9A5euc8Ak</td>\n",
       "      <td>spotify:track:6I9VzXrHxO9rA9A5euc8Ak</td>\n",
       "      <td>https://api.spotify.com/v1/tracks/6I9VzXrHxO9r...</td>\n",
       "      <td>https://api.spotify.com/v1/audio-analysis/6I9V...</td>\n",
       "      <td>198800</td>\n",
       "      <td>4</td>\n",
       "    </tr>\n",
       "    <tr>\n",
       "      <th>2</th>\n",
       "      <td>2</td>\n",
       "      <td>0.664</td>\n",
       "      <td>0.758</td>\n",
       "      <td>2</td>\n",
       "      <td>-6.583</td>\n",
       "      <td>0</td>\n",
       "      <td>0.2100</td>\n",
       "      <td>0.002380</td>\n",
       "      <td>0.000000</td>\n",
       "      <td>0.0598</td>\n",
       "      <td>0.701</td>\n",
       "      <td>99.259</td>\n",
       "      <td>audio_features</td>\n",
       "      <td>0WqIKmW4BTrj3eJFmnCKMv</td>\n",
       "      <td>spotify:track:0WqIKmW4BTrj3eJFmnCKMv</td>\n",
       "      <td>https://api.spotify.com/v1/tracks/0WqIKmW4BTrj...</td>\n",
       "      <td>https://api.spotify.com/v1/audio-analysis/0WqI...</td>\n",
       "      <td>235933</td>\n",
       "      <td>4</td>\n",
       "    </tr>\n",
       "    <tr>\n",
       "      <th>3</th>\n",
       "      <td>3</td>\n",
       "      <td>0.892</td>\n",
       "      <td>0.714</td>\n",
       "      <td>4</td>\n",
       "      <td>-6.055</td>\n",
       "      <td>0</td>\n",
       "      <td>0.1410</td>\n",
       "      <td>0.201000</td>\n",
       "      <td>0.000234</td>\n",
       "      <td>0.0521</td>\n",
       "      <td>0.817</td>\n",
       "      <td>100.972</td>\n",
       "      <td>audio_features</td>\n",
       "      <td>1AWQoqb9bSvzTjaLralEkT</td>\n",
       "      <td>spotify:track:1AWQoqb9bSvzTjaLralEkT</td>\n",
       "      <td>https://api.spotify.com/v1/tracks/1AWQoqb9bSvz...</td>\n",
       "      <td>https://api.spotify.com/v1/audio-analysis/1AWQ...</td>\n",
       "      <td>267267</td>\n",
       "      <td>4</td>\n",
       "    </tr>\n",
       "    <tr>\n",
       "      <th>4</th>\n",
       "      <td>4</td>\n",
       "      <td>0.853</td>\n",
       "      <td>0.606</td>\n",
       "      <td>0</td>\n",
       "      <td>-4.596</td>\n",
       "      <td>1</td>\n",
       "      <td>0.0713</td>\n",
       "      <td>0.056100</td>\n",
       "      <td>0.000000</td>\n",
       "      <td>0.3130</td>\n",
       "      <td>0.654</td>\n",
       "      <td>94.759</td>\n",
       "      <td>audio_features</td>\n",
       "      <td>1lzr43nnXAijIGYnCT8M8H</td>\n",
       "      <td>spotify:track:1lzr43nnXAijIGYnCT8M8H</td>\n",
       "      <td>https://api.spotify.com/v1/tracks/1lzr43nnXAij...</td>\n",
       "      <td>https://api.spotify.com/v1/audio-analysis/1lzr...</td>\n",
       "      <td>227600</td>\n",
       "      <td>4</td>\n",
       "    </tr>\n",
       "    <tr>\n",
       "      <th>...</th>\n",
       "      <td>...</td>\n",
       "      <td>...</td>\n",
       "      <td>...</td>\n",
       "      <td>...</td>\n",
       "      <td>...</td>\n",
       "      <td>...</td>\n",
       "      <td>...</td>\n",
       "      <td>...</td>\n",
       "      <td>...</td>\n",
       "      <td>...</td>\n",
       "      <td>...</td>\n",
       "      <td>...</td>\n",
       "      <td>...</td>\n",
       "      <td>...</td>\n",
       "      <td>...</td>\n",
       "      <td>...</td>\n",
       "      <td>...</td>\n",
       "      <td>...</td>\n",
       "      <td>...</td>\n",
       "    </tr>\n",
       "    <tr>\n",
       "      <th>170084</th>\n",
       "      <td>170084</td>\n",
       "      <td>0.551</td>\n",
       "      <td>0.822</td>\n",
       "      <td>11</td>\n",
       "      <td>-7.018</td>\n",
       "      <td>0</td>\n",
       "      <td>0.0614</td>\n",
       "      <td>0.001540</td>\n",
       "      <td>0.000000</td>\n",
       "      <td>0.2150</td>\n",
       "      <td>0.360</td>\n",
       "      <td>127.043</td>\n",
       "      <td>audio_features</td>\n",
       "      <td>4cKPzfOUIZWXhu3GDnESjL</td>\n",
       "      <td>spotify:track:4cKPzfOUIZWXhu3GDnESjL</td>\n",
       "      <td>https://api.spotify.com/v1/tracks/4cKPzfOUIZWX...</td>\n",
       "      <td>https://api.spotify.com/v1/audio-analysis/4cKP...</td>\n",
       "      <td>265039</td>\n",
       "      <td>4</td>\n",
       "    </tr>\n",
       "    <tr>\n",
       "      <th>170085</th>\n",
       "      <td>170085</td>\n",
       "      <td>0.480</td>\n",
       "      <td>0.761</td>\n",
       "      <td>6</td>\n",
       "      <td>-4.628</td>\n",
       "      <td>1</td>\n",
       "      <td>0.0367</td>\n",
       "      <td>0.120000</td>\n",
       "      <td>0.000000</td>\n",
       "      <td>0.2960</td>\n",
       "      <td>0.359</td>\n",
       "      <td>160.020</td>\n",
       "      <td>audio_features</td>\n",
       "      <td>0VICzaRdctD8XGfDstBjQY</td>\n",
       "      <td>spotify:track:0VICzaRdctD8XGfDstBjQY</td>\n",
       "      <td>https://api.spotify.com/v1/tracks/0VICzaRdctD8...</td>\n",
       "      <td>https://api.spotify.com/v1/audio-analysis/0VIC...</td>\n",
       "      <td>368767</td>\n",
       "      <td>4</td>\n",
       "    </tr>\n",
       "    <tr>\n",
       "      <th>170086</th>\n",
       "      <td>170086</td>\n",
       "      <td>0.402</td>\n",
       "      <td>0.767</td>\n",
       "      <td>11</td>\n",
       "      <td>-6.718</td>\n",
       "      <td>0</td>\n",
       "      <td>0.1710</td>\n",
       "      <td>0.000077</td>\n",
       "      <td>0.000003</td>\n",
       "      <td>0.3930</td>\n",
       "      <td>0.558</td>\n",
       "      <td>178.293</td>\n",
       "      <td>audio_features</td>\n",
       "      <td>0B4YuevrDNhh71edZrFiOs</td>\n",
       "      <td>spotify:track:0B4YuevrDNhh71edZrFiOs</td>\n",
       "      <td>https://api.spotify.com/v1/tracks/0B4YuevrDNhh...</td>\n",
       "      <td>https://api.spotify.com/v1/audio-analysis/0B4Y...</td>\n",
       "      <td>179267</td>\n",
       "      <td>4</td>\n",
       "    </tr>\n",
       "    <tr>\n",
       "      <th>170087</th>\n",
       "      <td>170087</td>\n",
       "      <td>0.678</td>\n",
       "      <td>0.826</td>\n",
       "      <td>0</td>\n",
       "      <td>-4.742</td>\n",
       "      <td>0</td>\n",
       "      <td>0.0591</td>\n",
       "      <td>0.005240</td>\n",
       "      <td>0.000000</td>\n",
       "      <td>0.0951</td>\n",
       "      <td>0.706</td>\n",
       "      <td>139.989</td>\n",
       "      <td>audio_features</td>\n",
       "      <td>7i9q0VPbENCoYnJUsJhX9d</td>\n",
       "      <td>spotify:track:7i9q0VPbENCoYnJUsJhX9d</td>\n",
       "      <td>https://api.spotify.com/v1/tracks/7i9q0VPbENCo...</td>\n",
       "      <td>https://api.spotify.com/v1/audio-analysis/7i9q...</td>\n",
       "      <td>242347</td>\n",
       "      <td>4</td>\n",
       "    </tr>\n",
       "    <tr>\n",
       "      <th>170088</th>\n",
       "      <td>170088</td>\n",
       "      <td>0.670</td>\n",
       "      <td>0.483</td>\n",
       "      <td>9</td>\n",
       "      <td>-7.124</td>\n",
       "      <td>0</td>\n",
       "      <td>0.1250</td>\n",
       "      <td>0.213000</td>\n",
       "      <td>0.000000</td>\n",
       "      <td>0.0550</td>\n",
       "      <td>0.770</td>\n",
       "      <td>170.115</td>\n",
       "      <td>audio_features</td>\n",
       "      <td>6uaJuze0LunPtcbCu1JNtq</td>\n",
       "      <td>spotify:track:6uaJuze0LunPtcbCu1JNtq</td>\n",
       "      <td>https://api.spotify.com/v1/tracks/6uaJuze0LunP...</td>\n",
       "      <td>https://api.spotify.com/v1/audio-analysis/6uaJ...</td>\n",
       "      <td>169390</td>\n",
       "      <td>4</td>\n",
       "    </tr>\n",
       "  </tbody>\n",
       "</table>\n",
       "<p>170089 rows × 19 columns</p>\n",
       "</div>"
      ],
      "text/plain": [
       "        Unnamed: 0  danceability  energy  key  loudness  mode  speechiness  \\\n",
       "0                0         0.904   0.813    4    -7.105     0       0.1210   \n",
       "1                1         0.774   0.838    5    -3.914     0       0.1140   \n",
       "2                2         0.664   0.758    2    -6.583     0       0.2100   \n",
       "3                3         0.892   0.714    4    -6.055     0       0.1410   \n",
       "4                4         0.853   0.606    0    -4.596     1       0.0713   \n",
       "...            ...           ...     ...  ...       ...   ...          ...   \n",
       "170084      170084         0.551   0.822   11    -7.018     0       0.0614   \n",
       "170085      170085         0.480   0.761    6    -4.628     1       0.0367   \n",
       "170086      170086         0.402   0.767   11    -6.718     0       0.1710   \n",
       "170087      170087         0.678   0.826    0    -4.742     0       0.0591   \n",
       "170088      170088         0.670   0.483    9    -7.124     0       0.1250   \n",
       "\n",
       "        acousticness  instrumentalness  liveness  valence    tempo  \\\n",
       "0           0.031100          0.006970    0.0471    0.810  125.461   \n",
       "1           0.024900          0.025000    0.2420    0.924  143.040   \n",
       "2           0.002380          0.000000    0.0598    0.701   99.259   \n",
       "3           0.201000          0.000234    0.0521    0.817  100.972   \n",
       "4           0.056100          0.000000    0.3130    0.654   94.759   \n",
       "...              ...               ...       ...      ...      ...   \n",
       "170084      0.001540          0.000000    0.2150    0.360  127.043   \n",
       "170085      0.120000          0.000000    0.2960    0.359  160.020   \n",
       "170086      0.000077          0.000003    0.3930    0.558  178.293   \n",
       "170087      0.005240          0.000000    0.0951    0.706  139.989   \n",
       "170088      0.213000          0.000000    0.0550    0.770  170.115   \n",
       "\n",
       "                  type                      id  \\\n",
       "0       audio_features  0UaMYEvWZi0ZqiDOoHU3YI   \n",
       "1       audio_features  6I9VzXrHxO9rA9A5euc8Ak   \n",
       "2       audio_features  0WqIKmW4BTrj3eJFmnCKMv   \n",
       "3       audio_features  1AWQoqb9bSvzTjaLralEkT   \n",
       "4       audio_features  1lzr43nnXAijIGYnCT8M8H   \n",
       "...                ...                     ...   \n",
       "170084  audio_features  4cKPzfOUIZWXhu3GDnESjL   \n",
       "170085  audio_features  0VICzaRdctD8XGfDstBjQY   \n",
       "170086  audio_features  0B4YuevrDNhh71edZrFiOs   \n",
       "170087  audio_features  7i9q0VPbENCoYnJUsJhX9d   \n",
       "170088  audio_features  6uaJuze0LunPtcbCu1JNtq   \n",
       "\n",
       "                                         uri  \\\n",
       "0       spotify:track:0UaMYEvWZi0ZqiDOoHU3YI   \n",
       "1       spotify:track:6I9VzXrHxO9rA9A5euc8Ak   \n",
       "2       spotify:track:0WqIKmW4BTrj3eJFmnCKMv   \n",
       "3       spotify:track:1AWQoqb9bSvzTjaLralEkT   \n",
       "4       spotify:track:1lzr43nnXAijIGYnCT8M8H   \n",
       "...                                      ...   \n",
       "170084  spotify:track:4cKPzfOUIZWXhu3GDnESjL   \n",
       "170085  spotify:track:0VICzaRdctD8XGfDstBjQY   \n",
       "170086  spotify:track:0B4YuevrDNhh71edZrFiOs   \n",
       "170087  spotify:track:7i9q0VPbENCoYnJUsJhX9d   \n",
       "170088  spotify:track:6uaJuze0LunPtcbCu1JNtq   \n",
       "\n",
       "                                               track_href  \\\n",
       "0       https://api.spotify.com/v1/tracks/0UaMYEvWZi0Z...   \n",
       "1       https://api.spotify.com/v1/tracks/6I9VzXrHxO9r...   \n",
       "2       https://api.spotify.com/v1/tracks/0WqIKmW4BTrj...   \n",
       "3       https://api.spotify.com/v1/tracks/1AWQoqb9bSvz...   \n",
       "4       https://api.spotify.com/v1/tracks/1lzr43nnXAij...   \n",
       "...                                                   ...   \n",
       "170084  https://api.spotify.com/v1/tracks/4cKPzfOUIZWX...   \n",
       "170085  https://api.spotify.com/v1/tracks/0VICzaRdctD8...   \n",
       "170086  https://api.spotify.com/v1/tracks/0B4YuevrDNhh...   \n",
       "170087  https://api.spotify.com/v1/tracks/7i9q0VPbENCo...   \n",
       "170088  https://api.spotify.com/v1/tracks/6uaJuze0LunP...   \n",
       "\n",
       "                                             analysis_url  duration_ms  \\\n",
       "0       https://api.spotify.com/v1/audio-analysis/0UaM...       226864   \n",
       "1       https://api.spotify.com/v1/audio-analysis/6I9V...       198800   \n",
       "2       https://api.spotify.com/v1/audio-analysis/0WqI...       235933   \n",
       "3       https://api.spotify.com/v1/audio-analysis/1AWQ...       267267   \n",
       "4       https://api.spotify.com/v1/audio-analysis/1lzr...       227600   \n",
       "...                                                   ...          ...   \n",
       "170084  https://api.spotify.com/v1/audio-analysis/4cKP...       265039   \n",
       "170085  https://api.spotify.com/v1/audio-analysis/0VIC...       368767   \n",
       "170086  https://api.spotify.com/v1/audio-analysis/0B4Y...       179267   \n",
       "170087  https://api.spotify.com/v1/audio-analysis/7i9q...       242347   \n",
       "170088  https://api.spotify.com/v1/audio-analysis/6uaJ...       169390   \n",
       "\n",
       "        time_signature  \n",
       "0                    4  \n",
       "1                    4  \n",
       "2                    4  \n",
       "3                    4  \n",
       "4                    4  \n",
       "...                ...  \n",
       "170084               4  \n",
       "170085               4  \n",
       "170086               4  \n",
       "170087               4  \n",
       "170088               4  \n",
       "\n",
       "[170089 rows x 19 columns]"
      ]
     },
     "execution_count": 4,
     "metadata": {},
     "output_type": "execute_result"
    }
   ],
   "source": [
    "pd.read_csv('songset_features_170k')"
   ]
  },
  {
   "cell_type": "code",
   "execution_count": 7,
   "id": "2fef1882",
   "metadata": {
    "scrolled": true
   },
   "outputs": [
    {
     "name": "stdout",
     "output_type": "stream",
     "text": [
      "Loading Spotify Playlist dataset...\n",
      "Loading 10000 playlists\n",
      "Playlist co-occurences: 8399951\n",
      "Graph Info:\n",
      " Name: G\n",
      "Type: Graph\n",
      "Number of nodes: 170089\n",
      "Number of edges: 26608397\n",
      "Average degree: 312.8762\n"
     ]
    }
   ],
   "source": [
    "G = bf.load_data(\"data/\", \"Spotify Playlist\", 140, 300, 1000, False)"
   ]
  },
  {
   "cell_type": "code",
   "execution_count": null,
   "id": "6c7c312d",
   "metadata": {},
   "outputs": [],
   "source": []
  }
 ],
 "metadata": {
  "kernelspec": {
   "display_name": "Python 3 (ipykernel)",
   "language": "python",
   "name": "python3"
  },
  "language_info": {
   "codemirror_mode": {
    "name": "ipython",
    "version": 3
   },
   "file_extension": ".py",
   "mimetype": "text/x-python",
   "name": "python",
   "nbconvert_exporter": "python",
   "pygments_lexer": "ipython3",
   "version": "3.9.5"
  }
 },
 "nbformat": 4,
 "nbformat_minor": 5
}
