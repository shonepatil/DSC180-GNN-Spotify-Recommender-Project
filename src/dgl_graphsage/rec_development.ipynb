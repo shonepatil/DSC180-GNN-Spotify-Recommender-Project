{
 "cells": [
  {
   "cell_type": "code",
   "execution_count": 4,
   "id": "f16d0e7a",
   "metadata": {},
   "outputs": [],
   "source": [
    "import sys\n",
    "import json\n",
    "import time\n",
    "from collections import defaultdict\n",
    "import pandas as pd\n",
    "import os\n",
    "import numpy as np\n",
    "\n",
    "sys.path.insert(0, 'src/data')\n",
    "sys.path.insert(0, 'src/dgl_graphsage')\n",
    "sys.path.insert(1, '..')\n",
    "from api.spotifyAPI import SpotifyAPI\n",
    "from utils import load_data\n",
    "from train_updated import train\n",
    "\n",
    "import dgl\n",
    "import torch\n",
    "import torch.nn.functional as F\n",
    "from dgl import save_graphs\n",
    "from dgl import load_graphs\n",
    "\n",
    "from sklearn.neighbors import NearestNeighbors\n",
    "from sklearn.preprocessing import StandardScaler\n",
    "from sklearn.preprocessing import OneHotEncoder\n",
    "\n",
    "sys.path.insert(0, './src/features')\n",
    "from features.build_features import load_data as graph_from_scratch\n",
    "import re\n",
    "from torch.nn.functional import normalize\n",
    "import matplotlib.pyplot as plt\n",
    "\n",
    "from itertools import combinations\n",
    "\n",
    "import seaborn as sns"
   ]
  },
  {
   "cell_type": "code",
   "execution_count": 5,
   "id": "92a5853b",
   "metadata": {},
   "outputs": [],
   "source": [
    "import recommend as r"
   ]
  },
  {
   "cell_type": "markdown",
   "id": "04a2e22e",
   "metadata": {},
   "source": [
    "# Load Data"
   ]
  },
  {
   "cell_type": "code",
   "execution_count": 3,
   "id": "6968bbb9",
   "metadata": {},
   "outputs": [],
   "source": [
    "# %%time\n",
    "# # Loading in the data. ~ 00:01:30\n",
    "# with open('config/data-params.json') as fh:\n",
    "#     data_cfg = json.load(fh)\n",
    "# feat_data, adj_list, dgl_G, uri_map = load_data(**data_cfg)"
   ]
  },
  {
   "cell_type": "markdown",
   "id": "83258084",
   "metadata": {},
   "source": [
    "### From Scratch"
   ]
  },
  {
   "cell_type": "code",
   "execution_count": 4,
   "id": "df5306c1",
   "metadata": {},
   "outputs": [],
   "source": [
    "# uses original files to make the graph from scratch\n",
    "\n",
    "# def scratch(feat_dir, normal=True):\n",
    "#     print('Loading feature data...')\n",
    "#     data = np.genfromtxt(feat_dir, delimiter=',', skip_header=True, dtype=str)\n",
    "#     features = np.array(np.delete(data[:,2:], -3, 1), dtype=float)\n",
    "#     if normal:\n",
    "#         features = normalize(torch.Tensor(features), dim=0)\n",
    "#     uris = data[:, 1]\n",
    "#     uris = [re.sub('spotify:track:', '', uri) for uri in uris]\n",
    "#     uri_map = {n: i for i,n in enumerate(uris)}\n",
    "    \n",
    "#     G = graph_from_scratch('./data/a13group1/data/', 'Spotify Playlist', 0, 0, 0)\n",
    "#     print('graph created')\n",
    "#     src, dest = [], [] \n",
    "#     adj_list = defaultdict(set)    \n",
    "#     for e in G.edges:\n",
    "#         u,v = uri_map[e[0]], uri_map[e[1]]\n",
    "#         adj_list[u].add(v)\n",
    "#         adj_list[v].add(u)\n",
    "#         src.append(u)\n",
    "#         dest.append(v)\n",
    "        \n",
    "#     src = torch.tensor(src)\n",
    "#     dest = torch.tensor(dest)\n",
    "        \n",
    "    \n",
    "#     print('adj list created')\n",
    "    \n",
    "#     dgl_G = dgl.graph((src, dest), num_nodes=len(G.nodes))\n",
    "#     return features, adj_list, dgl_G, uri_map"
   ]
  },
  {
   "cell_type": "code",
   "execution_count": 5,
   "id": "5e3bd5dd",
   "metadata": {},
   "outputs": [],
   "source": [
    "# '''\n",
    "# Creates graph from scratch using from_networkx\n",
    "# results in double edges\n",
    "# '''\n",
    "# def scratch(feat_dir, normal=True):\n",
    "#     print('Loading feature data...')\n",
    "#     data = np.genfromtxt(feat_dir, delimiter=',', skip_header=True, dtype=str)\n",
    "#     features = np.array(np.delete(data[:,2:], -3, 1), dtype=float)\n",
    "#     if normal:\n",
    "#         features = normalize(torch.Tensor(features), dim=0)\n",
    "#     uris = data[:, 1]\n",
    "#     uris = [re.sub('spotify:track:', '', uri) for uri in uris]\n",
    "#     uri_map = {n: i for i,n in enumerate(uris)}\n",
    "    \n",
    "#     G = graph_from_scratch('./data/a13group1/data/', 'Spotify Playlist', 0, 0, 0)\n",
    "#     print('graph created')\n",
    "#     src, dest = [], [] \n",
    "#     adj_list = defaultdict(set)    \n",
    "#     for e in G.edges:\n",
    "#         u,v = uri_map[e[0]], uri_map[e[1]]\n",
    "#         adj_list[u].add(v)\n",
    "#         adj_list[v].add(u)\n",
    "#         src.append(u)\n",
    "#         dest.append(v)\n",
    "#     print('adj list created')\n",
    "    \n",
    "#     #dgl_G = dgl.graph((src, dest), num_nodes=len(G.nodes))\n",
    "#     dgl_G = dgl.from_networkx(G)\n",
    "#     return features, adj_list, dgl_G, uri_map"
   ]
  },
  {
   "cell_type": "markdown",
   "id": "29300053",
   "metadata": {},
   "source": [
    "### Currently the one I am using"
   ]
  },
  {
   "cell_type": "code",
   "execution_count": 6,
   "id": "a2706842",
   "metadata": {},
   "outputs": [],
   "source": [
    "'''\n",
    "Loads the double edged graph\n",
    "feat_dir = feature directory\n",
    "'''\n",
    "def load_double_edge(feat_dir, double_edge_dir, normal=True):\n",
    "    print('Loading feature data...')\n",
    "    data = np.genfromtxt(feat_dir, delimiter=',', skip_header=True, dtype=str)\n",
    "    features = np.array(np.delete(data[:,2:], -3, 1), dtype=float)\n",
    "    if normal:\n",
    "        features = normalize(torch.Tensor(features), dim=0)\n",
    "    uris = data[:, 1]\n",
    "    uris = [re.sub('spotify:track:', '', uri) for uri in uris]\n",
    "    uri_map = {n: i for i,n in enumerate(uris)}\n",
    "    listed = list(uri_map)\n",
    "    \n",
    "    G  = load_graphs(double_edge_dir)[0][0]\n",
    "    print('Loaded DGL Graph')\n",
    "    sources = G.edges()[0] \n",
    "    destinations = G.edges()[1]\n",
    "    \n",
    "    src, dest = [], [] \n",
    "    adj_list = defaultdict(set)\n",
    "    for e in range(len((G.edges()[0]))):\n",
    "        u,v = sources[e].item(), destinations[e].item()\n",
    "        adj_list[u].add(v)\n",
    "        adj_list[v].add(u)\n",
    "        src.append(u)\n",
    "        dest.append(v)\n",
    "        \n",
    "    \n",
    "    print('adj list created')\n",
    "    return features, adj_list, G, uri_map\n"
   ]
  },
  {
   "cell_type": "code",
   "execution_count": 7,
   "id": "eff4d19e",
   "metadata": {},
   "outputs": [],
   "source": [
    "#%%time\n",
    "#feat_data, adj_list, dgl_G, uri_map = scratch(\"./data/a13group1/features/merged_features.csv\")"
   ]
  },
  {
   "cell_type": "code",
   "execution_count": 8,
   "id": "0e7f33c9",
   "metadata": {},
   "outputs": [],
   "source": [
    "# Saving Graph if built from scratch\n",
    "# save_graphs(\"./data/a13group1/double_edges_170k.bin\", dgl_G)"
   ]
  },
  {
   "cell_type": "code",
   "execution_count": 9,
   "id": "25fa376d",
   "metadata": {},
   "outputs": [
    {
     "name": "stdout",
     "output_type": "stream",
     "text": [
      "Loading feature data...\n",
      "Loaded DGL Graph\n",
      "adj list created\n",
      "CPU times: user 4min 8s, sys: 23.5 s, total: 4min 31s\n",
      "Wall time: 4min 31s\n"
     ]
    }
   ],
   "source": [
    "%%time\n",
    "# Loading Graph ~ 3min\n",
    "feat_dir = \"../../data/a13group1/features/merged_features.csv\"\n",
    "double_edge_dir = \"../../data/a13group1/double_edges_170k.bin\"\n",
    "feat_data, adj_list, dgl_G, uri_map = load_double_edge(feat_dir, double_edge_dir)"
   ]
  },
  {
   "cell_type": "code",
   "execution_count": 71,
   "id": "e0a99a7c",
   "metadata": {},
   "outputs": [],
   "source": [
    "# with open(\"uri_recs_170k.json\", \"w\") as uri_json:\n",
    "#      json.dump(uri_map, uri_json)"
   ]
  },
  {
   "cell_type": "code",
   "execution_count": 10,
   "id": "fb30b11c",
   "metadata": {},
   "outputs": [],
   "source": [
    "# %%time\n",
    "# dgl_scratch = dgl.from_networkx(scratch_G)"
   ]
  },
  {
   "cell_type": "markdown",
   "id": "11fa511d",
   "metadata": {},
   "source": [
    "# Train Model"
   ]
  },
  {
   "cell_type": "code",
   "execution_count": 11,
   "id": "1ff40b35",
   "metadata": {
    "scrolled": true
   },
   "outputs": [
    {
     "name": "stdout",
     "output_type": "stream",
     "text": [
      "Train pos edge: 26413580\n",
      "Validation pos edge: 518464\n",
      "Cuda enabled: True\n",
      "\n",
      "Training starts:\n",
      "In epoch 1 batch 1, loss: 0.6208469271659851\n",
      "In epoch 1 batch 6, loss: 0.5380141139030457\n",
      "In epoch 1 batch 11, loss: 0.4345894753932953\n",
      "In epoch 1 batch 16, loss: 0.24024872481822968\n",
      "In epoch 1 batch 21, loss: 0.11041790246963501\n",
      "\n",
      "Epoch 1 AUC:  0.41798002968071346\n",
      "In epoch 2 batch 1, loss: 0.11095213145017624\n",
      "In epoch 2 batch 6, loss: 0.13438409566879272\n",
      "In epoch 2 batch 11, loss: 0.13351640105247498\n",
      "In epoch 2 batch 16, loss: 0.11656180769205093\n",
      "In epoch 2 batch 21, loss: 0.10473253577947617\n",
      "\n",
      "Epoch 2 AUC:  0.4348110926857368\n",
      "In epoch 3 batch 1, loss: 0.11381617188453674\n",
      "In epoch 3 batch 6, loss: 0.11397577822208405\n",
      "In epoch 3 batch 11, loss: 0.10435086488723755\n",
      "In epoch 3 batch 16, loss: 0.10930505394935608\n",
      "In epoch 3 batch 21, loss: 0.10370529443025589\n",
      "\n",
      "Epoch 3 AUC:  0.45601295671106534\n",
      "In epoch 4 batch 1, loss: 0.10520198941230774\n",
      "In epoch 4 batch 6, loss: 0.10570354759693146\n",
      "In epoch 4 batch 11, loss: 0.10761100053787231\n",
      "In epoch 4 batch 16, loss: 0.11210762709379196\n",
      "In epoch 4 batch 21, loss: 0.10214366018772125\n",
      "\n",
      "Epoch 4 AUC:  0.48991017969316597\n",
      "In epoch 5 batch 1, loss: 0.1048244833946228\n",
      "In epoch 5 batch 6, loss: 0.10437799990177155\n",
      "In epoch 5 batch 11, loss: 0.10767464339733124\n",
      "In epoch 5 batch 16, loss: 0.1054334044456482\n",
      "In epoch 5 batch 21, loss: 0.10773316770792007\n",
      "\n",
      "Epoch 5 AUC:  0.5269615024181906\n",
      "In epoch 6 batch 1, loss: 0.10557324439287186\n",
      "In epoch 6 batch 6, loss: 0.10769631713628769\n",
      "In epoch 6 batch 11, loss: 0.11000262200832367\n",
      "In epoch 6 batch 16, loss: 0.10535196214914322\n",
      "In epoch 6 batch 21, loss: 0.10539686679840088\n",
      "\n",
      "Epoch 6 AUC:  0.5580495367606345\n",
      "In epoch 7 batch 1, loss: 0.10865127295255661\n",
      "In epoch 7 batch 6, loss: 0.10679498314857483\n",
      "In epoch 7 batch 11, loss: 0.10953210294246674\n",
      "In epoch 7 batch 16, loss: 0.10748384892940521\n",
      "In epoch 7 batch 21, loss: 0.10529101639986038\n",
      "\n",
      "Epoch 7 AUC:  0.5801923325997541\n",
      "In epoch 8 batch 1, loss: 0.1036875918507576\n",
      "In epoch 8 batch 6, loss: 0.10506422072649002\n",
      "In epoch 8 batch 11, loss: 0.10457006841897964\n",
      "In epoch 8 batch 16, loss: 0.10635866969823837\n",
      "In epoch 8 batch 21, loss: 0.10385431349277496\n",
      "\n",
      "Epoch 8 AUC:  0.5954344814484885\n",
      "In epoch 9 batch 1, loss: 0.10495511442422867\n",
      "In epoch 9 batch 6, loss: 0.10647016763687134\n",
      "In epoch 9 batch 11, loss: 0.10464898496866226\n",
      "In epoch 9 batch 16, loss: 0.10213018953800201\n",
      "In epoch 9 batch 21, loss: 0.10532404482364655\n",
      "\n",
      "Epoch 9 AUC:  0.6064224087807806\n",
      "In epoch 10 batch 1, loss: 0.10523572564125061\n",
      "In epoch 10 batch 6, loss: 0.10435022413730621\n",
      "In epoch 10 batch 11, loss: 0.10905783623456955\n",
      "In epoch 10 batch 16, loss: 0.10491272807121277\n",
      "In epoch 10 batch 21, loss: 0.1090778186917305\n",
      "\n",
      "Epoch 10 AUC:  0.6143803934750451\n",
      "CPU times: user 1min 7s, sys: 10.1 s, total: 1min 17s\n",
      "Wall time: 34.4 s\n"
     ]
    }
   ],
   "source": [
    "%%time\n",
    "# Training the Model. GPU ~ 00:00:40\n",
    "with open('../../config/model-params.json') as fh:\n",
    "            model_cfg = json.load(fh)\n",
    "model, pred = train(dgl_G, feat_data, adj_list, **model_cfg)\n",
    "\n",
    "# Put everything on CPU\n",
    "model = model.to('cpu')\n",
    "pred = pred.to('cpu')\n"
   ]
  },
  {
   "cell_type": "code",
   "execution_count": 12,
   "id": "a784ac3c",
   "metadata": {},
   "outputs": [],
   "source": [
    "# Create Embeddings\n",
    "z = model(dgl_G, feat_data)\n",
    "\n",
    "# Create Predictions\n",
    "# In the form of the strength of the connection between source, destination from dgl_G.edges()\n",
    "preds = pred(dgl_G, z)"
   ]
  },
  {
   "cell_type": "code",
   "execution_count": 13,
   "id": "e7de4d5a",
   "metadata": {},
   "outputs": [
    {
     "data": {
      "text/plain": [
       "NearestNeighbors(n_neighbors=25, radius=0.4)"
      ]
     },
     "execution_count": 13,
     "metadata": {},
     "output_type": "execute_result"
    }
   ],
   "source": [
    "# Create Nearest Neighbors\n",
    "neigh = NearestNeighbors(n_neighbors=25, radius=0.4)\n",
    "neigh.fit(feat_data)"
   ]
  },
  {
   "cell_type": "markdown",
   "id": "848ed7fc",
   "metadata": {},
   "source": [
    "# Get Playlist"
   ]
  },
  {
   "cell_type": "code",
   "execution_count": 14,
   "id": "d8ea2dd4",
   "metadata": {},
   "outputs": [],
   "source": [
    "'''\n",
    "Get a list of eligible slice files (first 10000 playlists)\n",
    "thelist: list of directories\n",
    "'''\n",
    "def get_eligible(thelist):\n",
    "    eligible = []\n",
    "    for x in thelist:\n",
    "        nums = pd.Series(x.strip('mpd.slice.json').split('-')).astype(int)\n",
    "        if nums[0] <= 9999:\n",
    "            eligible.append(x)\n",
    "    return eligible"
   ]
  },
  {
   "cell_type": "code",
   "execution_count": 15,
   "id": "e2fb1c7b",
   "metadata": {},
   "outputs": [],
   "source": [
    "def get_random_playlist():\n",
    "    data_path = (os.path.join(os.path.expanduser('~'), '/teams/DSC180A_FA21_A00/a13group1/data/'))\n",
    "    file_samp = np.random.choice(get_eligible(pd.Series(os.listdir(os.path.join(os.path.expanduser('~'), '/teams/DSC180A_FA21_A00/a13group1/data/')))), replace=True)\n",
    "    fname = os.path.join(data_path, file_samp)\n",
    "    with open(fname) as f:\n",
    "        data = json.load(f)\n",
    "        item = np.random.choice(data['playlists'])\n",
    "    print(fname)    \n",
    "    return item"
   ]
  },
  {
   "cell_type": "code",
   "execution_count": 16,
   "id": "7eeffa9a",
   "metadata": {},
   "outputs": [],
   "source": [
    "'''\n",
    "Gets random playlist\n",
    "Gets the track names of the original tracks in the playlist\n",
    "'''\n",
    "def get_playlist_info(item):\n",
    "    print('Playlist ID:', item['pid'])\n",
    "    print('Playlist Length:', len(item['tracks']))\n",
    "    \n",
    "    # Get track names---artist\n",
    "    original_tracks = []\n",
    "    for i in range(len(item['tracks'])):\n",
    "        name = item['tracks'][i]['track_name']+'---'+item['tracks'][i]['artist_name']\n",
    "        original_tracks.append(name)\n",
    "        \n",
    "    # Get track uris\n",
    "    seeds = []\n",
    "    for i in item['tracks']:\n",
    "        uri = i['track_uri'].split(':')[-1]\n",
    "        seeds.append(uri)\n",
    "        \n",
    "    return item, original_tracks, seeds"
   ]
  },
  {
   "cell_type": "code",
   "execution_count": 17,
   "id": "1ee677ca",
   "metadata": {},
   "outputs": [
    {
     "name": "stdout",
     "output_type": "stream",
     "text": [
      "/teams/DSC180A_FA21_A00/a13group1/data/mpd.slice.7000-7999.json\n"
     ]
    }
   ],
   "source": [
    "item = get_random_playlist()"
   ]
  },
  {
   "cell_type": "code",
   "execution_count": 18,
   "id": "8ab0ae69",
   "metadata": {},
   "outputs": [
    {
     "name": "stdout",
     "output_type": "stream",
     "text": [
      "Playlist ID: 7009\n",
      "Playlist Length: 20\n"
     ]
    },
    {
     "data": {
      "text/plain": [
       "['Sneakin’---Drake',\n",
       " 'Gassed Up---Nebu Kiniza',\n",
       " 'You Was Right---Lil Uzi Vert',\n",
       " 'Fire Squad - Live---J. Cole',\n",
       " 'A Tale of 2 Citiez - Live---J. Cole',\n",
       " 'Deja Vu---J. Cole',\n",
       " '20 Joints---Berner',\n",
       " 'Moves---Big Sean',\n",
       " 'Look At Me!---XXXTENTACION',\n",
       " 'Rent Money---Future',\n",
       " 'No Heart---21 Savage',\n",
       " 'Dear Mama---2Pac',\n",
       " 'Neighbors---J. Cole',\n",
       " '4 Your Eyez Only---J. Cole',\n",
       " 'Miss America---J. Cole',\n",
       " 'Like Toy Soldiers---Eminem',\n",
       " 'T-Shirt---Migos',\n",
       " 'Get Your Walk On---Xzibit',\n",
       " 'X---Xzibit',\n",
       " 'I Need A Doctor---Dr. Dre']"
      ]
     },
     "execution_count": 18,
     "metadata": {},
     "output_type": "execute_result"
    }
   ],
   "source": [
    "item, original_tracks, seeds = get_playlist_info(item)\n",
    "original_tracks"
   ]
  },
  {
   "cell_type": "markdown",
   "id": "ac955157",
   "metadata": {},
   "source": [
    "# Recommend"
   ]
  },
  {
   "cell_type": "code",
   "execution_count": 19,
   "id": "d0207620",
   "metadata": {},
   "outputs": [],
   "source": [
    "'''\n",
    "Creates dictionary of highest scored recommendation (of songs not in playlist) for each song in playlist\n",
    "seeds: list of track uris from user's playlist\n",
    "dgl_G: DGL Graph\n",
    "z: embeddings generated from model\n",
    "pred: predictor from model\n",
    "feat_data: matrix of feature data\n",
    "'''\n",
    "def recommend(seeds, dgl_G, z, pred, neigh, feat_data, uri_map):\n",
    "\n",
    "    listed = list(uri_map) #parse through uri map for uri --> integer\n",
    "\n",
    "    score_dict = defaultdict(dict)\n",
    "    for s in seeds:\n",
    "        s = uri_map[s]\n",
    "        _, candidates = dgl_G.out_edges(s, form='uv')\n",
    "        s_embed = z[s].unsqueeze(dim=0)\n",
    "        edge_embeds = [torch.cat([s_embed, z[c.item()].unsqueeze(dim=0)],1) for c in candidates]\n",
    "        #print('Node Value:', s, 'Possible Recs:', len(edge_embeds))\n",
    "        edge_embeds = torch.cat(edge_embeds, 0)\n",
    "        scores = pred.W2(F.relu(pred.W1(edge_embeds))).squeeze(1)\n",
    "        val = list(zip(candidates.detach().numpy(), scores.detach().numpy()))\n",
    "        val.sort(key=lambda x:x[1], reverse=True)\n",
    "        \n",
    "        # Make sure the song is not already in the playlist\n",
    "        # score_dict[s] = val[0]\n",
    "        inc = 0\n",
    "        while True and inc < len(val):\n",
    "            if listed[val[inc][0]] not in seeds:\n",
    "                score_dict[s] = val[inc][0]\n",
    "                break\n",
    "            if inc == (len(val) - 1):\n",
    "                # If no co-occurence, use 5-NN based on features -- COLD START\n",
    "                # print('Cold Start, Using Feature Data Instead')\n",
    "                closest = neigh.kneighbors(feat_data[[s]], 25, return_distance=False)[0]\n",
    "                for i in closest:\n",
    "                    if listed[i] not in seeds:\n",
    "                        score_dict[s] = i\n",
    "                        break\n",
    "                break\n",
    "                    \n",
    "            else:\n",
    "                inc += 1\n",
    "                \n",
    "    # Get uris            \n",
    "    uri_recs = []\n",
    "    for i in score_dict.keys():\n",
    "        cur_uri = listed[score_dict[i]]\n",
    "        uri_recs.append(cur_uri)\n",
    "        \n",
    "    return uri_recs"
   ]
  },
  {
   "cell_type": "code",
   "execution_count": 20,
   "id": "fabac1df",
   "metadata": {},
   "outputs": [
    {
     "data": {
      "text/plain": [
       "['3U9uz6rqqN68P2ZfuYs9RI',\n",
       " '7nQFMZ3IbTFeIA8RxRnzBy',\n",
       " '6B0FIZm6Xs4qYRyTjsuU0Y',\n",
       " '6jalstnZd8hEJuLGFFjL9L',\n",
       " '5rSH2YlI18D4mmgP0tQbs9',\n",
       " '7dEYcnW1YSBpiKofefCFCf',\n",
       " '7y5zXpTN4J7K0PngQYa655',\n",
       " '3hxsFtkwEx6rZ310ROjwPD',\n",
       " '08azaGQ1YKWvajMDARPSeZ',\n",
       " '7dEYcnW1YSBpiKofefCFCf',\n",
       " '06qwPtnc9J0a75Z0l6jj8b',\n",
       " '0pSaDwrMLM7F82LWJg9v6s',\n",
       " '7crrp07AQujRvbOoIGitk8',\n",
       " '5XlpERwWF8SuVUL9AghEIh',\n",
       " '1WT11QmhZutciEv1NsHt1R',\n",
       " '3VHflEWMd4lsoeqfHTFyTK',\n",
       " '5XlpERwWF8SuVUL9AghEIh',\n",
       " '5eGEc27nnhtmcOh6RC890a',\n",
       " '7crrp07AQujRvbOoIGitk8',\n",
       " '6B0FIZm6Xs4qYRyTjsuU0Y']"
      ]
     },
     "execution_count": 20,
     "metadata": {},
     "output_type": "execute_result"
    }
   ],
   "source": [
    "uri_recs = recommend(seeds, dgl_G, z, pred, neigh, feat_data, uri_map)\n",
    "uri_recs"
   ]
  },
  {
   "cell_type": "code",
   "execution_count": 21,
   "id": "5205b7ee",
   "metadata": {},
   "outputs": [],
   "source": [
    "listed = list(uri_map) #parse through uri map for uri --> integer"
   ]
  },
  {
   "cell_type": "markdown",
   "id": "27bed56f",
   "metadata": {},
   "source": [
    "# Translate Codes with Spotify API"
   ]
  },
  {
   "cell_type": "code",
   "execution_count": 21,
   "id": "56d5ee4b",
   "metadata": {},
   "outputs": [],
   "source": [
    "client_id = ''\n",
    "client_secret = ''\n",
    "\n",
    "spotify = SpotifyAPI(client_id, client_secret)"
   ]
  },
  {
   "cell_type": "code",
   "execution_count": 22,
   "id": "34ee2b86",
   "metadata": {},
   "outputs": [],
   "source": [
    "def get_data_spotify(query, api, num):\n",
    "    chunk = api.get_resource(query, 'tracks', 'v1')\n",
    "    return chunk"
   ]
  },
  {
   "cell_type": "code",
   "execution_count": 23,
   "id": "d210b58a",
   "metadata": {},
   "outputs": [],
   "source": [
    "def get_rec_names(uri_recs, api, sleep_time):\n",
    "    rec_track_names = []\n",
    "    for i in uri_recs:\n",
    "        one = get_data_spotify(i, api, 1)\n",
    "        trackname = one['tracks'][0]['name']\n",
    "\n",
    "        firstartist = one['tracks'][0]['artists'][0]['name']\n",
    "\n",
    "        the_rec = trackname+'---'+firstartist\n",
    "        rec_track_names.append(the_rec)\n",
    "\n",
    "\n",
    "        time.sleep(sleep_time)\n",
    "    return rec_track_names"
   ]
  },
  {
   "cell_type": "code",
   "execution_count": 24,
   "id": "651264c7",
   "metadata": {},
   "outputs": [
    {
     "name": "stdout",
     "output_type": "stream",
     "text": [
      "CPU times: user 562 ms, sys: 58.4 ms, total: 620 ms\n",
      "Wall time: 43.8 s\n"
     ]
    }
   ],
   "source": [
    "%%time\n",
    "rec_track_names = get_rec_names(uri_recs, spotify, 2)"
   ]
  },
  {
   "cell_type": "code",
   "execution_count": 25,
   "id": "0c543868",
   "metadata": {},
   "outputs": [
    {
     "data": {
      "text/plain": [
       "['Sneakin’---Drake',\n",
       " 'Gassed Up---Nebu Kiniza',\n",
       " 'You Was Right---Lil Uzi Vert',\n",
       " 'Fire Squad - Live---J. Cole',\n",
       " 'A Tale of 2 Citiez - Live---J. Cole',\n",
       " 'Deja Vu---J. Cole',\n",
       " '20 Joints---Berner',\n",
       " 'Moves---Big Sean',\n",
       " 'Look At Me!---XXXTENTACION',\n",
       " 'Rent Money---Future',\n",
       " 'No Heart---21 Savage',\n",
       " 'Dear Mama---2Pac',\n",
       " 'Neighbors---J. Cole',\n",
       " '4 Your Eyez Only---J. Cole',\n",
       " 'Miss America---J. Cole',\n",
       " 'Like Toy Soldiers---Eminem',\n",
       " 'T-Shirt---Migos',\n",
       " 'Get Your Walk On---Xzibit',\n",
       " 'X---Xzibit',\n",
       " 'I Need A Doctor---Dr. Dre']"
      ]
     },
     "execution_count": 25,
     "metadata": {},
     "output_type": "execute_result"
    }
   ],
   "source": [
    "original_tracks"
   ]
  },
  {
   "cell_type": "code",
   "execution_count": 26,
   "id": "028a6360",
   "metadata": {},
   "outputs": [
    {
     "data": {
      "text/plain": [
       "The Truth---Kevin Gates                                                                                3\n",
       "Bad Meets Evil---Eminem                                                                                3\n",
       "Ka-Bang! (feat. MF Doom)---CZARFACE                                                                    2\n",
       "Fade Away (feat. Kevin Gates & Mook Boy)---Bezz Believe                                                1\n",
       "Inertia---ARTY                                                                                         1\n",
       "03' Adolescence - Live---J. Cole                                                                       1\n",
       "Yamborghini High (feat. Juicy J)---A$AP Mob                                                            1\n",
       "Doowutchyalike---Digital Underground                                                                   1\n",
       "Rap Up 2016---Uncle Murda                                                                              1\n",
       "Got It (feat. Snoop Dogg)---Boys Noize                                                                 1\n",
       "Kick in the Door - 2014 Remaster---The Notorious B.I.G.                                                1\n",
       "Mafia Music III---Rick Ross                                                                            1\n",
       "Lil Bit---K CAMP                                                                                       1\n",
       "We Right Here---DMX                                                                                    1\n",
       "Dangerous MC's (feat. Mark Curry, Snoop Dogg & Busta Rhymes) - 2005 Remaster---The Notorious B.I.G.    1\n",
       "dtype: int64"
      ]
     },
     "execution_count": 26,
     "metadata": {},
     "output_type": "execute_result"
    }
   ],
   "source": [
    "pd.Series(rec_track_names).value_counts()"
   ]
  },
  {
   "cell_type": "markdown",
   "id": "cef99d11",
   "metadata": {},
   "source": [
    "Note: We kept repeats because a song that is recommended as the best more than once throughout the playlist should be ranked higher"
   ]
  },
  {
   "cell_type": "markdown",
   "id": "67a919e7",
   "metadata": {},
   "source": [
    "# Batch Recommendation"
   ]
  },
  {
   "cell_type": "markdown",
   "id": "40dd5588",
   "metadata": {},
   "source": [
    "### Create json file of recommendations"
   ]
  },
  {
   "cell_type": "code",
   "execution_count": 54,
   "id": "4f6830d3",
   "metadata": {},
   "outputs": [
    {
     "name": "stdout",
     "output_type": "stream",
     "text": [
      "/teams/DSC180A_FA21_A00/a13group1/data/mpd.slice.6000-6999.json\n",
      "Playlist ID: 6853\n",
      "Playlist Length: 190\n",
      "/teams/DSC180A_FA21_A00/a13group1/data/mpd.slice.4000-4999.json\n",
      "Playlist ID: 4153\n",
      "Playlist Length: 148\n",
      "/teams/DSC180A_FA21_A00/a13group1/data/mpd.slice.0-999.json\n",
      "Playlist ID: 193\n",
      "Playlist Length: 14\n",
      "/teams/DSC180A_FA21_A00/a13group1/data/mpd.slice.3000-3999.json\n",
      "Playlist ID: 3268\n",
      "Playlist Length: 8\n",
      "/teams/DSC180A_FA21_A00/a13group1/data/mpd.slice.7000-7999.json\n",
      "Playlist ID: 7423\n",
      "Playlist Length: 38\n",
      "/teams/DSC180A_FA21_A00/a13group1/data/mpd.slice.6000-6999.json\n",
      "Playlist ID: 6151\n",
      "Playlist Length: 15\n",
      "/teams/DSC180A_FA21_A00/a13group1/data/mpd.slice.9000-9999.json\n",
      "Playlist ID: 9266\n",
      "Playlist Length: 11\n",
      "/teams/DSC180A_FA21_A00/a13group1/data/mpd.slice.0-999.json\n",
      "Playlist ID: 161\n",
      "Playlist Length: 161\n",
      "/teams/DSC180A_FA21_A00/a13group1/data/mpd.slice.4000-4999.json\n",
      "Playlist ID: 4692\n",
      "Playlist Length: 7\n",
      "/teams/DSC180A_FA21_A00/a13group1/data/mpd.slice.2000-2999.json\n",
      "Playlist ID: 2809\n",
      "Playlist Length: 31\n",
      "/teams/DSC180A_FA21_A00/a13group1/data/mpd.slice.0-999.json\n",
      "Playlist ID: 729\n",
      "Playlist Length: 104\n",
      "/teams/DSC180A_FA21_A00/a13group1/data/mpd.slice.4000-4999.json\n",
      "Playlist ID: 4393\n",
      "Playlist Length: 41\n",
      "/teams/DSC180A_FA21_A00/a13group1/data/mpd.slice.0-999.json\n",
      "Playlist ID: 158\n",
      "Playlist Length: 102\n",
      "/teams/DSC180A_FA21_A00/a13group1/data/mpd.slice.0-999.json\n",
      "Playlist ID: 34\n",
      "Playlist Length: 80\n",
      "/teams/DSC180A_FA21_A00/a13group1/data/mpd.slice.4000-4999.json\n",
      "Playlist ID: 4000\n",
      "Playlist Length: 70\n",
      "/teams/DSC180A_FA21_A00/a13group1/data/mpd.slice.6000-6999.json\n",
      "Playlist ID: 6480\n",
      "Playlist Length: 21\n",
      "/teams/DSC180A_FA21_A00/a13group1/data/mpd.slice.5000-5999.json\n",
      "Playlist ID: 5105\n",
      "Playlist Length: 93\n",
      "/teams/DSC180A_FA21_A00/a13group1/data/mpd.slice.6000-6999.json\n",
      "Playlist ID: 6097\n",
      "Playlist Length: 22\n",
      "/teams/DSC180A_FA21_A00/a13group1/data/mpd.slice.7000-7999.json\n",
      "Playlist ID: 7614\n",
      "Playlist Length: 91\n",
      "/teams/DSC180A_FA21_A00/a13group1/data/mpd.slice.2000-2999.json\n",
      "Playlist ID: 2545\n",
      "Playlist Length: 143\n",
      "/teams/DSC180A_FA21_A00/a13group1/data/mpd.slice.1000-1999.json\n",
      "Playlist ID: 1540\n",
      "Playlist Length: 64\n",
      "/teams/DSC180A_FA21_A00/a13group1/data/mpd.slice.4000-4999.json\n",
      "Playlist ID: 4979\n",
      "Playlist Length: 33\n",
      "/teams/DSC180A_FA21_A00/a13group1/data/mpd.slice.3000-3999.json\n",
      "Playlist ID: 3624\n",
      "Playlist Length: 11\n",
      "/teams/DSC180A_FA21_A00/a13group1/data/mpd.slice.9000-9999.json\n",
      "Playlist ID: 9710\n",
      "Playlist Length: 94\n",
      "/teams/DSC180A_FA21_A00/a13group1/data/mpd.slice.1000-1999.json\n",
      "Playlist ID: 1536\n",
      "Playlist Length: 97\n",
      "/teams/DSC180A_FA21_A00/a13group1/data/mpd.slice.5000-5999.json\n",
      "Playlist ID: 5021\n",
      "Playlist Length: 26\n",
      "/teams/DSC180A_FA21_A00/a13group1/data/mpd.slice.1000-1999.json\n",
      "Playlist ID: 1240\n",
      "Playlist Length: 32\n",
      "/teams/DSC180A_FA21_A00/a13group1/data/mpd.slice.4000-4999.json\n",
      "Playlist ID: 4480\n",
      "Playlist Length: 77\n",
      "/teams/DSC180A_FA21_A00/a13group1/data/mpd.slice.0-999.json\n",
      "Playlist ID: 171\n",
      "Playlist Length: 29\n",
      "/teams/DSC180A_FA21_A00/a13group1/data/mpd.slice.2000-2999.json\n",
      "Playlist ID: 2357\n",
      "Playlist Length: 38\n",
      "/teams/DSC180A_FA21_A00/a13group1/data/mpd.slice.3000-3999.json\n",
      "Playlist ID: 3202\n",
      "Playlist Length: 213\n",
      "/teams/DSC180A_FA21_A00/a13group1/data/mpd.slice.8000-8999.json\n",
      "Playlist ID: 8001\n",
      "Playlist Length: 19\n",
      "/teams/DSC180A_FA21_A00/a13group1/data/mpd.slice.9000-9999.json\n",
      "Playlist ID: 9273\n",
      "Playlist Length: 142\n",
      "/teams/DSC180A_FA21_A00/a13group1/data/mpd.slice.9000-9999.json\n",
      "Playlist ID: 9592\n",
      "Playlist Length: 34\n",
      "/teams/DSC180A_FA21_A00/a13group1/data/mpd.slice.0-999.json\n",
      "Playlist ID: 459\n",
      "Playlist Length: 102\n",
      "/teams/DSC180A_FA21_A00/a13group1/data/mpd.slice.0-999.json\n",
      "Playlist ID: 756\n",
      "Playlist Length: 18\n",
      "/teams/DSC180A_FA21_A00/a13group1/data/mpd.slice.6000-6999.json\n",
      "Playlist ID: 6922\n",
      "Playlist Length: 26\n",
      "/teams/DSC180A_FA21_A00/a13group1/data/mpd.slice.4000-4999.json\n",
      "Playlist ID: 4459\n",
      "Playlist Length: 14\n",
      "/teams/DSC180A_FA21_A00/a13group1/data/mpd.slice.9000-9999.json\n",
      "Playlist ID: 9517\n",
      "Playlist Length: 118\n",
      "/teams/DSC180A_FA21_A00/a13group1/data/mpd.slice.3000-3999.json\n",
      "Playlist ID: 3696\n",
      "Playlist Length: 68\n",
      "/teams/DSC180A_FA21_A00/a13group1/data/mpd.slice.3000-3999.json\n",
      "Playlist ID: 3439\n",
      "Playlist Length: 14\n",
      "/teams/DSC180A_FA21_A00/a13group1/data/mpd.slice.6000-6999.json\n",
      "Playlist ID: 6680\n",
      "Playlist Length: 39\n",
      "/teams/DSC180A_FA21_A00/a13group1/data/mpd.slice.6000-6999.json\n",
      "Playlist ID: 6831\n",
      "Playlist Length: 164\n",
      "/teams/DSC180A_FA21_A00/a13group1/data/mpd.slice.8000-8999.json\n",
      "Playlist ID: 8478\n",
      "Playlist Length: 31\n",
      "/teams/DSC180A_FA21_A00/a13group1/data/mpd.slice.6000-6999.json\n",
      "Playlist ID: 6921\n",
      "Playlist Length: 7\n",
      "/teams/DSC180A_FA21_A00/a13group1/data/mpd.slice.4000-4999.json\n",
      "Playlist ID: 4348\n",
      "Playlist Length: 6\n",
      "/teams/DSC180A_FA21_A00/a13group1/data/mpd.slice.6000-6999.json\n",
      "Playlist ID: 6059\n",
      "Playlist Length: 27\n",
      "/teams/DSC180A_FA21_A00/a13group1/data/mpd.slice.4000-4999.json\n",
      "Playlist ID: 4552\n",
      "Playlist Length: 124\n",
      "/teams/DSC180A_FA21_A00/a13group1/data/mpd.slice.7000-7999.json\n",
      "Playlist ID: 7019\n",
      "Playlist Length: 34\n",
      "/teams/DSC180A_FA21_A00/a13group1/data/mpd.slice.4000-4999.json\n",
      "Playlist ID: 4008\n",
      "Playlist Length: 152\n",
      "CPU times: user 12min 40s, sys: 1min 3s, total: 13min 44s\n",
      "Wall time: 10min 41s\n"
     ]
    }
   ],
   "source": [
    "# %%time\n",
    "# all_accs = []\n",
    "# for each in range(50):\n",
    "#     item = get_random_playlist()\n",
    "#     item, original_tracks, seeds = get_playlist_info(item)\n",
    "#     uri_recs = recommend(seeds, dgl_G, z, pred, neigh, feat_data, uri_map)\n",
    "    \n",
    "#     checks = []\n",
    "#     for i in range(len(uri_recs)):\n",
    "#         well = uri_map[uri_recs[i]] in dgl_G.out_edges(uri_map[seeds[i]])[1]\n",
    "#         checks.append(well)\n",
    "        \n",
    "#     acc = np.count_nonzero(checks) / len(checks)\n",
    "#     all_accs.append({'pid': item['pid'], 'seeds': seeds, 'recs':uri_recs, 'accuracy': acc})\n",
    "    \n",
    "# with open(\"sample_recommendations.json\", \"w\") as final:\n",
    "#     json.dump(all_accs, final)"
   ]
  }
 ],
 "metadata": {
  "kernelspec": {
   "display_name": "Python 3 (ipykernel)",
   "language": "python",
   "name": "python3"
  },
  "language_info": {
   "codemirror_mode": {
    "name": "ipython",
    "version": 3
   },
   "file_extension": ".py",
   "mimetype": "text/x-python",
   "name": "python",
   "nbconvert_exporter": "python",
   "pygments_lexer": "ipython3",
   "version": "3.9.5"
  }
 },
 "nbformat": 4,
 "nbformat_minor": 5
}
