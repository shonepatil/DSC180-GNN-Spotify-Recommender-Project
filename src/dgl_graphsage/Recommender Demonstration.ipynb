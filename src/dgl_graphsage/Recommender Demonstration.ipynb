{
 "cells": [
  {
   "cell_type": "code",
   "execution_count": 1,
   "id": "400225ac",
   "metadata": {},
   "outputs": [
    {
     "name": "stderr",
     "output_type": "stream",
     "text": [
      "Using backend: pytorch\n"
     ]
    }
   ],
   "source": [
    "import sys\n",
    "import time\n",
    "import json\n",
    "import os\n",
    "\n",
    "import recommend as r\n",
    "from train_updated import train\n",
    "from api.spotifyAPI import SpotifyAPI\n",
    "from utils import load_graph\n",
    "from utils import load_features\n",
    "from sklearn.neighbors import NearestNeighbors\n",
    "import pandas as pd\n",
    "from dgl import load_graphs\n",
    "import matplotlib.pyplot as plt\n",
    "import networkx as nx\n",
    "import dgl\n",
    "\n",
    "import torch\n",
    "import numpy as np"
   ]
  },
  {
   "cell_type": "markdown",
   "id": "dac41843",
   "metadata": {},
   "source": [
    "# Loading Data"
   ]
  },
  {
   "cell_type": "code",
   "execution_count": 2,
   "id": "bd12870d",
   "metadata": {},
   "outputs": [
    {
     "name": "stdout",
     "output_type": "stream",
     "text": [
      "Loading feature data...\n",
      "Feature data shape: torch.Size([461880, 13])\n",
      "Loading graph data...\n",
      "Graph Info:\n",
      " Name: G\n",
      "Type: Graph\n",
      "Number of nodes: 461880\n",
      "Number of edges: 106486690\n",
      "Average degree: 461.1011\n",
      "CPU times: user 8min 13s, sys: 1min 24s, total: 9min 37s\n",
      "Wall time: 9min 23s\n"
     ]
    }
   ],
   "source": [
    "%%time\n",
    "# Loading Graph ~ 3min\n",
    "feat_dir = \"../../data/a13group1/460k_songset_features.csv\"\n",
    "scratch_pickle_dir = \"../../data/a13group1/\"\n",
    "feat_data, uri_map = load_features(feat_dir, scratch_pickle_dir, False, playlist_num=100000)\n",
    "graph_dir = (\"../../data/a13group1/graph_460k.gpickle\")\n",
    "dgl_G, weights = load_graph(graph_dir, uri_map)"
   ]
  },
  {
   "cell_type": "code",
   "execution_count": 3,
   "id": "8b1889a1",
   "metadata": {},
   "outputs": [],
   "source": [
    "#dgl_G_cuda = dgl_G.to('cuda')\n",
    "#weights = weights.to('cuda')\n",
    "#feat_data = feat_data.to('cuda')"
   ]
  },
  {
   "cell_type": "markdown",
   "id": "444f1788",
   "metadata": {},
   "source": [
    "# Training Model (optional)"
   ]
  },
  {
   "cell_type": "code",
   "execution_count": 4,
   "id": "c3405d91",
   "metadata": {
    "scrolled": true
   },
   "outputs": [],
   "source": [
    "# %%time\n",
    "# # Training the Model. GPU ~ 00:00:40. CPU ~ 00:53:00.\n",
    "# with open('../../config/model-params.json') as fh:\n",
    "#             model_cfg = json.load(fh)\n",
    "# model, pred, measures = train(dgl_G, weights.to('cpu'), feat_data, cuda=False, feat_dim=13, emb_dim=10, test_data=False)\n",
    "\n",
    "# # Put everything on CPU\n",
    "# model = model.to('cpu')\n",
    "# pred = pred.to('cpu')\n",
    "\n",
    "# torch.save(model, '460k_1epoch_model.pt')\n",
    "# torch.save(pred, '460k_1epoch_pred.pt')\n",
    "\n",
    "# with open(\"460k_1epoch_measures.json\", \"w\") as out_measures:\n",
    "#     json.dump(measures, out_measures)"
   ]
  },
  {
   "cell_type": "code",
   "execution_count": 5,
   "id": "5717386d",
   "metadata": {},
   "outputs": [],
   "source": [
    "# print('Final Training Classification Report: ')\n",
    "# print('AUC: 0.8236135679618413')\n",
    "# print('Final Loss: 0.5051630735397339')\n",
    "# print('Training Time: ~ 1 Hour (CPU)')\n",
    "# pd.DataFrame(data={'Measure': [0.0, 1.0, 'accuracy', 'macro avg', 'weighted avg'], 'Precision': [0.49, 0.90, None, 0.69, 0.80], 'Recall': [0.75, 0.74, None, 0.75, 0.75], 'F1-Score': [0.59, 0.82, 0.75, 0.70, 0.76], 'Support': [168110, 518464, 686574, 686574, 686574]})"
   ]
  },
  {
   "cell_type": "code",
   "execution_count": null,
   "id": "dd653ce9",
   "metadata": {},
   "outputs": [],
   "source": []
  },
  {
   "cell_type": "code",
   "execution_count": null,
   "id": "2e3f76db",
   "metadata": {},
   "outputs": [],
   "source": []
  },
  {
   "cell_type": "markdown",
   "id": "32ef7eda",
   "metadata": {},
   "source": [
    "# Loading Pre-Existing Model"
   ]
  },
  {
   "cell_type": "code",
   "execution_count": 6,
   "id": "58ecc517",
   "metadata": {},
   "outputs": [
    {
     "data": {
      "text/plain": [
       "MLPPredictor(\n",
       "  (W1): Linear(in_features=20, out_features=10, bias=True)\n",
       "  (W2): Linear(in_features=10, out_features=1, bias=True)\n",
       ")"
      ]
     },
     "execution_count": 6,
     "metadata": {},
     "output_type": "execute_result"
    }
   ],
   "source": [
    "# Load Pre-Existing Model\n",
    "model = torch.load('460k_model.pt')\n",
    "pred = torch.load('460k_pred.pt')\n",
    "model.eval()\n",
    "pred.eval()"
   ]
  },
  {
   "cell_type": "markdown",
   "id": "58bcf653",
   "metadata": {},
   "source": [
    "# Create Predictions"
   ]
  },
  {
   "cell_type": "code",
   "execution_count": 7,
   "id": "24c2522f",
   "metadata": {},
   "outputs": [],
   "source": [
    "dgl_G.edata[dgl.EID] = torch.tensor(np.arange(dgl_G.number_of_edges()))"
   ]
  },
  {
   "cell_type": "code",
   "execution_count": null,
   "id": "bcacfc62",
   "metadata": {},
   "outputs": [],
   "source": [
    "\n",
    "# Create Embeddings\n",
    "z = model(dgl_G, feat_data, weights)\n",
    "\n",
    "# Create Predictions\n",
    "# In the form of the strength of the connection between source, destination from dgl_G.edges()\n",
    "preds = pred(dgl_G, z)"
   ]
  },
  {
   "cell_type": "code",
   "execution_count": null,
   "id": "cab2db78",
   "metadata": {},
   "outputs": [],
   "source": [
    "# Create Nearest Neighbors\n",
    "neigh = NearestNeighbors(n_neighbors=25, radius=0.4)\n",
    "neigh.fit(feat_data)"
   ]
  },
  {
   "cell_type": "code",
   "execution_count": null,
   "id": "37ed1b29",
   "metadata": {
    "scrolled": true
   },
   "outputs": [],
   "source": [
    "# Get a random playlist\n",
    "item = r.get_random_playlist()"
   ]
  },
  {
   "cell_type": "code",
   "execution_count": null,
   "id": "cb304c09",
   "metadata": {
    "scrolled": true
   },
   "outputs": [],
   "source": [
    "item"
   ]
  },
  {
   "cell_type": "code",
   "execution_count": null,
   "id": "758dec48",
   "metadata": {},
   "outputs": [],
   "source": [
    "# Get playlist information\n",
    "item, original_tracks, seeds = r.get_playlist_info(item)\n",
    "original_tracks"
   ]
  },
  {
   "cell_type": "code",
   "execution_count": null,
   "id": "e5e156a1",
   "metadata": {
    "scrolled": true
   },
   "outputs": [],
   "source": [
    "# Get recommendations\n",
    "uri_recs = r.recommend(seeds, dgl_G, z, pred, neigh, feat_data, uri_map)\n",
    "uri_recs"
   ]
  },
  {
   "cell_type": "markdown",
   "id": "4614707a",
   "metadata": {},
   "source": [
    "# Decode Results with Spotify API"
   ]
  },
  {
   "cell_type": "code",
   "execution_count": null,
   "id": "c8020ff5",
   "metadata": {},
   "outputs": [],
   "source": [
    "# Translate to Song Names\n",
    "client_id = 'ad2536ed7a914d66b89b80fb3a500787'\n",
    "client_secret = '8c5f45fb008d4bc5bf909ec46d076b65'\n",
    "\n",
    "spotify = SpotifyAPI(client_id, client_secret)"
   ]
  },
  {
   "cell_type": "code",
   "execution_count": null,
   "id": "952c2353",
   "metadata": {},
   "outputs": [],
   "source": [
    "%%time\n",
    "rec_track_names = r.get_rec_names(uri_recs, spotify, 2)"
   ]
  },
  {
   "cell_type": "code",
   "execution_count": null,
   "id": "13a45169",
   "metadata": {},
   "outputs": [],
   "source": [
    "original_tracks"
   ]
  },
  {
   "cell_type": "code",
   "execution_count": null,
   "id": "83bff400",
   "metadata": {},
   "outputs": [],
   "source": [
    "rec_track_names.sort(reverse=True, key=lambda x: x[1])"
   ]
  },
  {
   "cell_type": "code",
   "execution_count": null,
   "id": "38919f31",
   "metadata": {},
   "outputs": [],
   "source": [
    "rec_track_names"
   ]
  },
  {
   "cell_type": "markdown",
   "id": "27d582a0",
   "metadata": {},
   "source": [
    "Note: We kept repeats because a song that is recommended as the best more than once throughout the playlist should be ranked higher"
   ]
  },
  {
   "cell_type": "markdown",
   "id": "8fa7c442",
   "metadata": {},
   "source": [
    "# Making Batch Recommendations ~ 15 min"
   ]
  },
  {
   "cell_type": "code",
   "execution_count": null,
   "id": "6c4ce21d",
   "metadata": {
    "scrolled": true
   },
   "outputs": [],
   "source": [
    "# %%time \n",
    "# all_accs = []\n",
    "# for each in range(200):\n",
    "#     item = r.get_random_playlist()\n",
    "#     item, original_tracks, seeds = r.get_playlist_info(item)\n",
    "#     uri_recs = r.recommend(seeds, dgl_G, z, pred, neigh, feat_data, uri_map)\n",
    "    \n",
    "#     checks = []\n",
    "#     for i in range(len(uri_recs)):\n",
    "#         well = uri_map[uri_recs[i]] in dgl_G.out_edges(uri_map[seeds[i]])[1]\n",
    "#         checks.append(well)\n",
    "        \n",
    "#     acc = np.count_nonzero(checks) / len(checks)\n",
    "#     all_accs.append({'pid': item['pid'], 'seeds': seeds, 'recs':uri_recs, 'accuracy': acc})\n",
    "    \n",
    "# with open(\"../analysis/batch_recommendations.json\", \"w\") as final:\n",
    "#     json.dump(all_accs, final)"
   ]
  },
  {
   "cell_type": "code",
   "execution_count": null,
   "id": "ae9b59c2",
   "metadata": {},
   "outputs": [],
   "source": [
    "# with open(\"../analysis/uri_map_170k.json\", \"w\") as final:\n",
    "#     json.dump([uri_map], final)"
   ]
  }
 ],
 "metadata": {
  "kernelspec": {
   "display_name": "Python 3 (ipykernel)",
   "language": "python",
   "name": "python3"
  },
  "language_info": {
   "codemirror_mode": {
    "name": "ipython",
    "version": 3
   },
   "file_extension": ".py",
   "mimetype": "text/x-python",
   "name": "python",
   "nbconvert_exporter": "python",
   "pygments_lexer": "ipython3",
   "version": "3.9.5"
  }
 },
 "nbformat": 4,
 "nbformat_minor": 5
}
