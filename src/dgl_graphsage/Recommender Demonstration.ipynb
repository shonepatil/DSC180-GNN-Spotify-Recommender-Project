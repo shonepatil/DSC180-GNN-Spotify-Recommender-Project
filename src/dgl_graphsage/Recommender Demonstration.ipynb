{
 "cells": [
  {
   "cell_type": "code",
   "execution_count": 1,
   "id": "400225ac",
   "metadata": {},
   "outputs": [
    {
     "name": "stderr",
     "output_type": "stream",
     "text": [
      "Using backend: pytorch\n"
     ]
    }
   ],
   "source": [
    "import sys\n",
    "import time\n",
    "import json\n",
    "import os\n",
    "#sys.path.insert(0, 'src/data')\n",
    "#sys.path.insert(0, 'src/dgl_graphsage')\n",
    "\n",
    "import recommend as r\n",
    "from train_updated import train\n",
    "from api.spotifyAPI import SpotifyAPI\n",
    "from utils import load_graph\n",
    "from utils import load_features\n",
    "from sklearn.neighbors import NearestNeighbors\n",
    "import pandas as pd\n",
    "from dgl import load_graphs\n",
    "import matplotlib.pyplot as plt\n",
    "import networkx as nx\n",
    "import dgl\n",
    "\n",
    "import torch\n",
    "import numpy as np"
   ]
  },
  {
   "cell_type": "markdown",
   "id": "dac41843",
   "metadata": {},
   "source": [
    "# Loading Data"
   ]
  },
  {
   "cell_type": "code",
   "execution_count": 2,
   "id": "bd12870d",
   "metadata": {},
   "outputs": [
    {
     "name": "stdout",
     "output_type": "stream",
     "text": [
      "CPU times: user 1min 58s, sys: 28.4 s, total: 2min 27s\n",
      "Wall time: 2min 25s\n"
     ]
    }
   ],
   "source": [
    "%%time\n",
    "# Loading Graph ~ 3min\n",
    "feat_dir = \"../../data/a13group1/features/merged_features.csv\"\n",
    "double_edge_dir = \"../../data/a13group1/double_edges_170k.bin\"\n",
    "feat_data, uri_map = load_features(feat_dir)\n",
    "dgl_G = nx.read_gpickle(\"../../data/a13group1/graph_170k.gpickle\")\n",
    "dgl_G, weights = load_graph(dgl_G, uri_map)"
   ]
  },
  {
   "cell_type": "code",
   "execution_count": 3,
   "id": "8b1889a1",
   "metadata": {},
   "outputs": [],
   "source": [
    "#dgl_G_cuda = dgl_G.to('cuda')\n",
    "#weights = weights.to('cuda')\n",
    "#feat_data = feat_data.to('cuda')"
   ]
  },
  {
   "cell_type": "markdown",
   "id": "444f1788",
   "metadata": {},
   "source": [
    "# Training Model (optional)"
   ]
  },
  {
   "cell_type": "code",
   "execution_count": 4,
   "id": "c3405d91",
   "metadata": {
    "scrolled": true
   },
   "outputs": [],
   "source": [
    "# %%time\n",
    "# # Training the Model. GPU ~ 00:00:40. CPU ~ 00:53:00.\n",
    "# with open('../../config/model-params.json') as fh:\n",
    "#             model_cfg = json.load(fh)\n",
    "# model, pred, losses = train(dgl_G, weights.to('cpu'), feat_data, cuda=False, feat_dim=14, emb_dim=10, test_data=False)\n",
    "\n",
    "# # Put everything on CPU\n",
    "# model = model.to('cpu')\n",
    "# pred = pred.to('cpu')\n",
    "\n",
    "# torch.save(model, '170k_model.pt')\n",
    "# torch.save(pred, '170k_pred.pt')"
   ]
  },
  {
   "cell_type": "markdown",
   "id": "32ef7eda",
   "metadata": {},
   "source": [
    "# Loading Pre-Existing Model"
   ]
  },
  {
   "cell_type": "code",
   "execution_count": 5,
   "id": "58ecc517",
   "metadata": {},
   "outputs": [
    {
     "data": {
      "text/plain": [
       "MLPPredictor(\n",
       "  (W1): Linear(in_features=20, out_features=10, bias=True)\n",
       "  (W2): Linear(in_features=10, out_features=1, bias=True)\n",
       ")"
      ]
     },
     "execution_count": 5,
     "metadata": {},
     "output_type": "execute_result"
    }
   ],
   "source": [
    "# Load Pre-Existing Model\n",
    "model = torch.load('170k_1epoch_model.pt')\n",
    "pred = torch.load('170k_1epoch_pred.pt')\n",
    "model.eval()\n",
    "pred.eval()"
   ]
  },
  {
   "cell_type": "markdown",
   "id": "58bcf653",
   "metadata": {},
   "source": [
    "# Create Predictions"
   ]
  },
  {
   "cell_type": "code",
   "execution_count": 6,
   "id": "24c2522f",
   "metadata": {},
   "outputs": [],
   "source": [
    "dgl_G.edata[dgl.EID] = torch.tensor(np.arange(dgl_G.number_of_edges()))"
   ]
  },
  {
   "cell_type": "code",
   "execution_count": 7,
   "id": "bcacfc62",
   "metadata": {},
   "outputs": [],
   "source": [
    "# Create Embeddings\n",
    "z = model(dgl_G, feat_data, weights)\n",
    "\n",
    "# Create Predictions\n",
    "# In the form of the strength of the connection between source, destination from dgl_G.edges()\n",
    "preds = pred(dgl_G, z)"
   ]
  },
  {
   "cell_type": "code",
   "execution_count": 8,
   "id": "cab2db78",
   "metadata": {},
   "outputs": [
    {
     "data": {
      "text/plain": [
       "NearestNeighbors(n_neighbors=25, radius=0.4)"
      ]
     },
     "execution_count": 8,
     "metadata": {},
     "output_type": "execute_result"
    }
   ],
   "source": [
    "# Create Nearest Neighbors\n",
    "neigh = NearestNeighbors(n_neighbors=25, radius=0.4)\n",
    "neigh.fit(feat_data)"
   ]
  },
  {
   "cell_type": "code",
   "execution_count": 9,
   "id": "37ed1b29",
   "metadata": {
    "scrolled": true
   },
   "outputs": [
    {
     "name": "stdout",
     "output_type": "stream",
     "text": [
      "/teams/DSC180A_FA21_A00/a13group1/data/mpd.slice.0-999.json\n"
     ]
    }
   ],
   "source": [
    "# Get a random playlist\n",
    "item = r.get_random_playlist()"
   ]
  },
  {
   "cell_type": "code",
   "execution_count": 10,
   "id": "cb304c09",
   "metadata": {
    "scrolled": true
   },
   "outputs": [
    {
     "data": {
      "text/plain": [
       "{'name': 'Best',\n",
       " 'collaborative': 'false',\n",
       " 'pid': 739,\n",
       " 'modified_at': 1435190400,\n",
       " 'num_tracks': 42,\n",
       " 'num_albums': 39,\n",
       " 'num_followers': 3,\n",
       " 'tracks': [{'pos': 0,\n",
       "   'artist_name': 'Sub Focus',\n",
       "   'track_uri': 'spotify:track:3VLi4kIsnLMHd2bB5mPlfi',\n",
       "   'artist_uri': 'spotify:artist:0QaSiI5TLA4N7mcsdxShDO',\n",
       "   'track_name': 'Endorphins',\n",
       "   'album_uri': 'spotify:album:6qeDiApbWmoxPIDHnM2r98',\n",
       "   'duration_ms': 246889,\n",
       "   'album_name': 'Endorphins'},\n",
       "  {'pos': 1,\n",
       "   'artist_name': 'Sub Focus',\n",
       "   'track_uri': 'spotify:track:0iJs2bd00pmNa4RNFn18I8',\n",
       "   'artist_uri': 'spotify:artist:0QaSiI5TLA4N7mcsdxShDO',\n",
       "   'track_name': 'Turn It Around',\n",
       "   'album_uri': 'spotify:album:5VDg2zP4jsc8Ufj1dPEA3d',\n",
       "   'duration_ms': 194560,\n",
       "   'album_name': 'Torus'},\n",
       "  {'pos': 2,\n",
       "   'artist_name': 'Bassnectar',\n",
       "   'track_uri': 'spotify:track:3x94KfC5QAsqFKjUGQBH4k',\n",
       "   'artist_uri': 'spotify:artist:1JPy5PsJtkhftfdr6saN2i',\n",
       "   'track_name': 'You & Me (feat. W. Darling)',\n",
       "   'album_uri': 'spotify:album:7gYsqd3NQTi6d7wdm1sY0E',\n",
       "   'duration_ms': 244285,\n",
       "   'album_name': 'Noise vs Beauty'},\n",
       "  {'pos': 3,\n",
       "   'artist_name': 'Zeds Dead',\n",
       "   'track_uri': 'spotify:track:77ufFFJSnLcqS6m69zJtxz',\n",
       "   'artist_uri': 'spotify:artist:67qogtRNI0GjUr8PlaG6Zh',\n",
       "   'track_name': 'Collapse',\n",
       "   'album_uri': 'spotify:album:2yGXyA860QYiwCYDJIFC14',\n",
       "   'duration_ms': 284444,\n",
       "   'album_name': 'Somewhere Else'},\n",
       "  {'pos': 4,\n",
       "   'artist_name': 'CAZZETTE',\n",
       "   'track_uri': 'spotify:track:2lSF7zzFlFoV1oZmTnCLP2',\n",
       "   'artist_uri': 'spotify:artist:1IELhvOMg5VQlU7syRm6CS',\n",
       "   'track_name': 'Sleepless - Oliver Nelson Remix',\n",
       "   'album_uri': 'spotify:album:1DiSLlhbniVumVlc6WCQQy',\n",
       "   'duration_ms': 217536,\n",
       "   'album_name': 'Sleepless ft. The High'},\n",
       "  {'pos': 5,\n",
       "   'artist_name': 'What So Not',\n",
       "   'track_uri': 'spotify:track:6zpCJDhdpHPZCcFCJZDqX5',\n",
       "   'artist_uri': 'spotify:artist:4AA8eXtzqh5ykxtafLaPOi',\n",
       "   'track_name': 'High You Are',\n",
       "   'album_uri': 'spotify:album:5FAFTIaf9DBYcmDkYB3F3g',\n",
       "   'duration_ms': 213340,\n",
       "   'album_name': 'High You Are'},\n",
       "  {'pos': 6,\n",
       "   'artist_name': 'Seven Lions',\n",
       "   'track_uri': 'spotify:track:1QbbNXFnzqBH0NKULhkgsJ',\n",
       "   'artist_uri': 'spotify:artist:6fcTRFpz0yH79qSKfof7lp',\n",
       "   'track_name': 'Don’t Leave',\n",
       "   'album_uri': 'spotify:album:3ZLP4gT36JCBPH0PZUUcPj',\n",
       "   'duration_ms': 362040,\n",
       "   'album_name': 'Worlds Apart'},\n",
       "  {'pos': 7,\n",
       "   'artist_name': 'Daft Punk',\n",
       "   'track_uri': 'spotify:track:1rn6JIHBuBZiwvA57jeoOB',\n",
       "   'artist_uri': 'spotify:artist:4tZwfgrHOc3mvqYlEYSvVi',\n",
       "   'track_name': 'Derezzed - Remixed by Avicii',\n",
       "   'album_uri': 'spotify:album:382ObEPsp2rxGrnsizN5TX',\n",
       "   'duration_ms': 303946,\n",
       "   'album_name': 'TRON: Legacy Reconfigured'},\n",
       "  {'pos': 8,\n",
       "   'artist_name': 'Coyote Kisses',\n",
       "   'track_uri': 'spotify:track:4NW3s4s2CKXKhLB2ipHGgd',\n",
       "   'artist_uri': 'spotify:artist:1wnrdpW8B0rNCtX5uOSIVL',\n",
       "   'track_name': 'This Is How You Know',\n",
       "   'album_uri': 'spotify:album:4Sbl22yvFzgezsjgDfdIDh',\n",
       "   'duration_ms': 302863,\n",
       "   'album_name': 'Thundercolor - EP'},\n",
       "  {'pos': 9,\n",
       "   'artist_name': 'Astronaut',\n",
       "   'track_uri': 'spotify:track:4OKyO9llxfBS3CFJRY97Fo',\n",
       "   'artist_uri': 'spotify:artist:7lcbOlKjk4gLsCxd481hik',\n",
       "   'track_name': 'Rain (MitiS Remix)',\n",
       "   'album_uri': 'spotify:album:7cO4cBBp1bv6mqfNDuYAfV',\n",
       "   'duration_ms': 220689,\n",
       "   'album_name': 'Quantum EP'},\n",
       "  {'pos': 10,\n",
       "   'artist_name': 'Panama',\n",
       "   'track_uri': 'spotify:track:7MseaPAvwomCTMgH7Z1MtT',\n",
       "   'artist_uri': 'spotify:artist:3W9UldYu0xJcaOAw2SUTDI',\n",
       "   'track_name': 'Always - Classixx Remix',\n",
       "   'album_uri': 'spotify:album:6ABkacBzpf0AQ7z7xfUtt2',\n",
       "   'duration_ms': 331640,\n",
       "   'album_name': 'Always EP'},\n",
       "  {'pos': 11,\n",
       "   'artist_name': 'The Knocks',\n",
       "   'track_uri': 'spotify:track:42TrdbXsmLybxUGJczYbrJ',\n",
       "   'artist_uri': 'spotify:artist:2x7EATekOPhFGRx3syMGEC',\n",
       "   'track_name': 'Classic (feat. POWERS)',\n",
       "   'album_uri': 'spotify:album:66eHI59X5UEaLrEqrEDKTx',\n",
       "   'duration_ms': 248506,\n",
       "   'album_name': '55'},\n",
       "  {'pos': 12,\n",
       "   'artist_name': 'Keys N Krates',\n",
       "   'track_uri': 'spotify:track:5iFW7AIqPCcaeKGfaAo38w',\n",
       "   'artist_uri': 'spotify:artist:6c1pBXHYjFcGQQNO5MMsdd',\n",
       "   'track_name': 'Treat Me Right',\n",
       "   'album_uri': 'spotify:album:1dwPrDP194LOraPnGYajdO',\n",
       "   'duration_ms': 282000,\n",
       "   'album_name': 'Treat Me Right'},\n",
       "  {'pos': 13,\n",
       "   'artist_name': 'Exmag',\n",
       "   'track_uri': 'spotify:track:2JvrwCONvIMmmtYXIZgl13',\n",
       "   'artist_uri': 'spotify:artist:3ubv8WIA649ar6dwEH6ATm',\n",
       "   'track_name': 'Tilt Mode (feat. Gibbz)',\n",
       "   'album_uri': 'spotify:album:2XVyyz5OmN7YOuYwrorh67',\n",
       "   'duration_ms': 218333,\n",
       "   'album_name': 'Proportions'},\n",
       "  {'pos': 14,\n",
       "   'artist_name': 'ODESZA',\n",
       "   'track_uri': 'spotify:track:2IDHoSlbG0CKH9rhq68wTb',\n",
       "   'artist_uri': 'spotify:artist:21mKp7DqtSNHhCAU2ugvUw',\n",
       "   'track_name': 'Say My Name (feat. Zyra) - RAC Mix',\n",
       "   'album_uri': 'spotify:album:7Eg6srmG6BVIEiUmiRjzI4',\n",
       "   'duration_ms': 243090,\n",
       "   'album_name': 'Say My Name Remixes'},\n",
       "  {'pos': 15,\n",
       "   'artist_name': 'Keys N Krates',\n",
       "   'track_uri': 'spotify:track:699vOszRdjcB6aRPE11b2n',\n",
       "   'artist_uri': 'spotify:artist:6c1pBXHYjFcGQQNO5MMsdd',\n",
       "   'track_name': 'Understand Why - Original Mix',\n",
       "   'album_uri': 'spotify:album:6ZO1dLgX860q45PZQPAEiW',\n",
       "   'duration_ms': 188689,\n",
       "   'album_name': 'Every Nite EP'},\n",
       "  {'pos': 16,\n",
       "   'artist_name': 'Hippie Sabotage',\n",
       "   'track_uri': 'spotify:track:5iyFrZpv5f4oWQCWMKfj52',\n",
       "   'artist_uri': 'spotify:artist:4dM6NDYSfLcspt8GLoT5aE',\n",
       "   'track_name': 'Ridin Solo - Njomza Remix',\n",
       "   'album_uri': 'spotify:album:2VmLk5bAd5QjLtX7cHm594',\n",
       "   'duration_ms': 239754,\n",
       "   'album_name': 'The Sunny Album (Deluxe Edition)'},\n",
       "  {'pos': 17,\n",
       "   'artist_name': 'RAC',\n",
       "   'track_uri': 'spotify:track:4ZAOTRpT8PKmnpfECUtKHI',\n",
       "   'artist_uri': 'spotify:artist:4AGwPDdh1y8hochNzHy5HC',\n",
       "   'track_name': 'Let Go - Sir Sly Remix',\n",
       "   'album_uri': 'spotify:album:32MHZbkOvC4WKQnYQSivvA',\n",
       "   'duration_ms': 228733,\n",
       "   'album_name': 'Let Go'},\n",
       "  {'pos': 18,\n",
       "   'artist_name': 'RAC',\n",
       "   'track_uri': 'spotify:track:3gueKPIuEW27uburLdX0Nw',\n",
       "   'artist_uri': 'spotify:artist:4AGwPDdh1y8hochNzHy5HC',\n",
       "   'track_name': 'Cheap Sunglasses - Le Youth Remix',\n",
       "   'album_uri': 'spotify:album:3tvsx1anPaK31Hb7IUvvcL',\n",
       "   'duration_ms': 283360,\n",
       "   'album_name': 'Cheap Sunglasses'},\n",
       "  {'pos': 19,\n",
       "   'artist_name': 'Classixx',\n",
       "   'track_uri': 'spotify:track:4DizYQms4WWpncmn6dvrI9',\n",
       "   'artist_uri': 'spotify:artist:0vUTfcBDZZo2OUQJci5UNZ',\n",
       "   'track_name': 'A Stranger Love (Salva Remix)',\n",
       "   'album_uri': 'spotify:album:588cLqVxUN0HuVeKJJnBbH',\n",
       "   'duration_ms': 250746,\n",
       "   'album_name': 'A Stranger Love (Remixes) - EP'},\n",
       "  {'pos': 20,\n",
       "   'artist_name': 'Anna Of The North',\n",
       "   'track_uri': 'spotify:track:08qjPXZBdEyif5PxU2AY9S',\n",
       "   'artist_uri': 'spotify:artist:1mSJCvDX0W7Dn7S9C6vmvI',\n",
       "   'track_name': 'Sway - Chainsmokers Remix',\n",
       "   'album_uri': 'spotify:album:31x1096qReQebv3YyADEp6',\n",
       "   'duration_ms': 180571,\n",
       "   'album_name': 'Sway'},\n",
       "  {'pos': 21,\n",
       "   'artist_name': 'Zak Waters',\n",
       "   'track_uri': 'spotify:track:2xE5IBk3p68N0WxAOzI6jP',\n",
       "   'artist_uri': 'spotify:artist:0B8XBGloduGCBtRK8nm2YF',\n",
       "   'track_name': 'Out Of My Head - Tobtok Remix',\n",
       "   'album_uri': 'spotify:album:1Tmw0qx3Z23cCoYosuV4Ti',\n",
       "   'duration_ms': 297729,\n",
       "   'album_name': 'Out Of My Head (The Remixes)'},\n",
       "  {'pos': 22,\n",
       "   'artist_name': 'Dawn Golden',\n",
       "   'track_uri': 'spotify:track:5NKIECLAnlwUSI3EtTYiHo',\n",
       "   'artist_uri': 'spotify:artist:6MzxeKydmXufvX7HYPknFW',\n",
       "   'track_name': 'All I Want - Manila Killa Remix',\n",
       "   'album_uri': 'spotify:album:0szEHgK4uEjj94h0dtpuLX',\n",
       "   'duration_ms': 213913,\n",
       "   'album_name': 'Still Life'},\n",
       "  {'pos': 23,\n",
       "   'artist_name': '12th Planet',\n",
       "   'track_uri': 'spotify:track:5Gz6YzDviufVHUol06RdZc',\n",
       "   'artist_uri': 'spotify:artist:3V1h3kAdiVDBiwlY2i6dJz',\n",
       "   'track_name': 'Whoops (feat. Pennybirdrabbit)',\n",
       "   'album_uri': 'spotify:album:6WUQb1dTH4QVBd95bIVsKP',\n",
       "   'duration_ms': 314560,\n",
       "   'album_name': 'Murdaaa / Whoops'},\n",
       "  {'pos': 24,\n",
       "   'artist_name': 'Sub Focus',\n",
       "   'track_uri': 'spotify:track:3NKLPcvDM0pefpLNcmui2W',\n",
       "   'artist_uri': 'spotify:artist:0QaSiI5TLA4N7mcsdxShDO',\n",
       "   'track_name': 'Tidal Wave',\n",
       "   'album_uri': 'spotify:album:5VDg2zP4jsc8Ufj1dPEA3d',\n",
       "   'duration_ms': 228826,\n",
       "   'album_name': 'Torus'},\n",
       "  {'pos': 25,\n",
       "   'artist_name': 'Moby',\n",
       "   'track_uri': 'spotify:track:6tKXGkdEl5eYux6YYNcXdY',\n",
       "   'artist_uri': 'spotify:artist:3OsRAKCvk37zwYcnzRf5XF',\n",
       "   'track_name': 'Almost Home - feat. Damien Jurado [Sebastien Edit]',\n",
       "   'album_uri': 'spotify:album:0mVagdWQTMLMbRrf4ibbBe',\n",
       "   'duration_ms': 260533,\n",
       "   'album_name': 'Almost Home (feat. Damien Jurado)'},\n",
       "  {'pos': 26,\n",
       "   'artist_name': 'Peking Duk',\n",
       "   'track_uri': 'spotify:track:48ByhmhBjgyWIRzdHDuQMD',\n",
       "   'artist_uri': 'spotify:artist:0UZ1nu3kcdNlCoiKRjmSSY',\n",
       "   'track_name': 'High - Original Mix',\n",
       "   'album_uri': 'spotify:album:743OdX8tEleANbq4TrHjgI',\n",
       "   'duration_ms': 228000,\n",
       "   'album_name': 'High'},\n",
       "  {'pos': 27,\n",
       "   'artist_name': 'GRiZ',\n",
       "   'track_uri': 'spotify:track:6ZDk3PGFkRKGgk6aSkw2T9',\n",
       "   'artist_uri': 'spotify:artist:25oLRSUjJk4YHNUsQXk7Ut',\n",
       "   'track_name': 'A Fine Way to Die',\n",
       "   'album_uri': 'spotify:album:4HhSc1Q56OOKGtEOr0BFhT',\n",
       "   'duration_ms': 400982,\n",
       "   'album_name': 'Say It Loud'},\n",
       "  {'pos': 28,\n",
       "   'artist_name': 'Madeon',\n",
       "   'track_uri': 'spotify:track:1Z1ziaHJ4FWNqrw14GVDI5',\n",
       "   'artist_uri': 'spotify:artist:4pb4rqWSoGUgxm63xmJ8xc',\n",
       "   'track_name': \"You're On\",\n",
       "   'album_uri': 'spotify:album:5BBqRKxs1tGwtYr3X3akKD',\n",
       "   'duration_ms': 192720,\n",
       "   'album_name': 'Adventure'},\n",
       "  {'pos': 29,\n",
       "   'artist_name': 'The Griswolds',\n",
       "   'track_uri': 'spotify:track:3SJv9Gmnq6VXM9xNITfIw1',\n",
       "   'artist_uri': 'spotify:artist:3nUbzTTtP2w4HqvT5y5vkV',\n",
       "   'track_name': 'Live This Nightmare - NGHTMRE Remix',\n",
       "   'album_uri': 'spotify:album:5O6eyEwxEHIkQnbIFYfcwb',\n",
       "   'duration_ms': 222857,\n",
       "   'album_name': 'Live This Nightmare'},\n",
       "  {'pos': 30,\n",
       "   'artist_name': 'The Griswolds',\n",
       "   'track_uri': 'spotify:track:57AiehxdEDIhlpd0m5KIja',\n",
       "   'artist_uri': 'spotify:artist:3nUbzTTtP2w4HqvT5y5vkV',\n",
       "   'track_name': 'Beware The Dog - Autograf Remix',\n",
       "   'album_uri': 'spotify:album:7awfvMRznHRKG4JpJ4KwKT',\n",
       "   'duration_ms': 262622,\n",
       "   'album_name': 'Beware The Dog'},\n",
       "  {'pos': 31,\n",
       "   'artist_name': 'GRiZ',\n",
       "   'track_uri': 'spotify:track:0A5cDtbeMHUHpRBvYrGQqc',\n",
       "   'artist_uri': 'spotify:artist:25oLRSUjJk4YHNUsQXk7Ut',\n",
       "   'track_name': \"Stop Trippin'\",\n",
       "   'album_uri': 'spotify:album:4HhSc1Q56OOKGtEOr0BFhT',\n",
       "   'duration_ms': 230689,\n",
       "   'album_name': 'Say It Loud'},\n",
       "  {'pos': 32,\n",
       "   'artist_name': 'GRiZ',\n",
       "   'track_uri': 'spotify:track:1rdctgxtXiXOYOqikuq6AY',\n",
       "   'artist_uri': 'spotify:artist:25oLRSUjJk4YHNUsQXk7Ut',\n",
       "   'track_name': 'The Anthem',\n",
       "   'album_uri': 'spotify:album:4HhSc1Q56OOKGtEOr0BFhT',\n",
       "   'duration_ms': 289476,\n",
       "   'album_name': 'Say It Loud'},\n",
       "  {'pos': 33,\n",
       "   'artist_name': 'Major Lazer',\n",
       "   'track_uri': 'spotify:track:4WjH9Bzt3kx7z8kl0awxh4',\n",
       "   'artist_uri': 'spotify:artist:738wLrAtLtCtFOLvQBXOXp',\n",
       "   'track_name': 'Lean On (feat. MØ & DJ Snake)',\n",
       "   'album_uri': 'spotify:album:2XBnxKeRZi76u2iyGcMych',\n",
       "   'duration_ms': 176561,\n",
       "   'album_name': 'Peace Is The Mission'},\n",
       "  {'pos': 34,\n",
       "   'artist_name': 'Ghost Loft',\n",
       "   'track_uri': 'spotify:track:3pzmGlzQeAkyjKEfR33yec',\n",
       "   'artist_uri': 'spotify:artist:4fQHCuys7JZvaQzRvB1kPR',\n",
       "   'track_name': 'Talk to Me (Bearson Remix)',\n",
       "   'album_uri': 'spotify:album:4xRIx4NMCJ0Lryzj4VVHD2',\n",
       "   'duration_ms': 264742,\n",
       "   'album_name': 'Talk to Me (Bearson Remix)'},\n",
       "  {'pos': 35,\n",
       "   'artist_name': 'Viceroy',\n",
       "   'track_uri': 'spotify:track:1DQMwm6KhYrNEJH7jrSEEO',\n",
       "   'artist_uri': 'spotify:artist:5PzC9pOeviQlNF6iGlUF5C',\n",
       "   'track_name': 'Back at the Start (feat. K. Flay)',\n",
       "   'album_uri': 'spotify:album:3JHLvzNHvnBkYxOopVPxmM',\n",
       "   'duration_ms': 215655,\n",
       "   'album_name': 'Back at the Start (feat. K. Flay)'},\n",
       "  {'pos': 36,\n",
       "   'artist_name': 'Tobtok',\n",
       "   'track_uri': 'spotify:track:0mF5ecWb5z3S5Fzn3aW9IL',\n",
       "   'artist_uri': 'spotify:artist:6pcxIOhQCNb7DX2iuEXgxL',\n",
       "   'track_name': 'Higher (feat. Emil Heró) - Oliver Nelson & Skogsrå Remix',\n",
       "   'album_uri': 'spotify:album:5ZKx47XhPwLKK8hArRm9i1',\n",
       "   'duration_ms': 248470,\n",
       "   'album_name': 'Higher (feat. Emil Hero) [Remixes] EP'},\n",
       "  {'pos': 37,\n",
       "   'artist_name': 'Calvin Harris',\n",
       "   'track_uri': 'spotify:track:0wRaAh1Km76Blq4qMJjjvN',\n",
       "   'artist_uri': 'spotify:artist:7CajNmpbOovFoOoasH2HaY',\n",
       "   'track_name': 'Blame - R3HAB Trap Remix',\n",
       "   'album_uri': 'spotify:album:5X3IU4MDu4t0ErDR4VrPBW',\n",
       "   'duration_ms': 212093,\n",
       "   'album_name': 'Blame (Remixes)'},\n",
       "  {'pos': 38,\n",
       "   'artist_name': 'Dooqu',\n",
       "   'track_uri': 'spotify:track:6tFrW9qaMapmmoXhvwjILm',\n",
       "   'artist_uri': 'spotify:artist:6Ytnandp3KSDg0msjBZ7wC',\n",
       "   'track_name': 'Made of Water',\n",
       "   'album_uri': 'spotify:album:3TCR22Utbg5mmr5aw46wf8',\n",
       "   'duration_ms': 202285,\n",
       "   'album_name': 'LoveLust EP'},\n",
       "  {'pos': 39,\n",
       "   'artist_name': 'Imad Royal',\n",
       "   'track_uri': 'spotify:track:1Q9bBa6KEoUnBNaBuldQ3d',\n",
       "   'artist_uri': 'spotify:artist:6OgklJh1e1Z9S1Q2IQsHgy',\n",
       "   'track_name': 'Passenger',\n",
       "   'album_uri': 'spotify:album:0ONBq6b6MjYnwuFF4MbCJe',\n",
       "   'duration_ms': 195692,\n",
       "   'album_name': 'Cycles'},\n",
       "  {'pos': 40,\n",
       "   'artist_name': 'Cappa Regime',\n",
       "   'track_uri': 'spotify:track:1vUjKX8N9nP7QkAzqi3u8k',\n",
       "   'artist_uri': 'spotify:artist:6nsRu4qU6Q7JxNzF9k83WW',\n",
       "   'track_name': 'The Water',\n",
       "   'album_uri': 'spotify:album:2dtYxqpIWMfOToxTsXeWGb',\n",
       "   'duration_ms': 312010,\n",
       "   'album_name': 'Cappa Regime Compilation 2013-2014'},\n",
       "  {'pos': 41,\n",
       "   'artist_name': 'The Chainsmokers',\n",
       "   'track_uri': 'spotify:track:1zLPAYWeOc3GWqKQTOyppz',\n",
       "   'artist_uri': 'spotify:artist:69GGBxA162lTqCwzJG5jLp',\n",
       "   'track_name': 'Let You Go - A-Trak Remix',\n",
       "   'album_uri': 'spotify:album:5ZXzZhZQZP9zXNB2OqTRH2',\n",
       "   'duration_ms': 266612,\n",
       "   'album_name': 'Let You Go'}],\n",
       " 'num_edits': 11,\n",
       " 'duration_ms': 10523041,\n",
       " 'num_artists': 35}"
      ]
     },
     "execution_count": 10,
     "metadata": {},
     "output_type": "execute_result"
    }
   ],
   "source": [
    "item"
   ]
  },
  {
   "cell_type": "code",
   "execution_count": 11,
   "id": "758dec48",
   "metadata": {},
   "outputs": [
    {
     "name": "stdout",
     "output_type": "stream",
     "text": [
      "Playlist ID: 739\n",
      "Playlist Length: 42\n"
     ]
    },
    {
     "data": {
      "text/plain": [
       "['Endorphins---Sub Focus',\n",
       " 'Turn It Around---Sub Focus',\n",
       " 'You & Me (feat. W. Darling)---Bassnectar',\n",
       " 'Collapse---Zeds Dead',\n",
       " 'Sleepless - Oliver Nelson Remix---CAZZETTE',\n",
       " 'High You Are---What So Not',\n",
       " 'Don’t Leave---Seven Lions',\n",
       " 'Derezzed - Remixed by Avicii---Daft Punk',\n",
       " 'This Is How You Know---Coyote Kisses',\n",
       " 'Rain (MitiS Remix)---Astronaut',\n",
       " 'Always - Classixx Remix---Panama',\n",
       " 'Classic (feat. POWERS)---The Knocks',\n",
       " 'Treat Me Right---Keys N Krates',\n",
       " 'Tilt Mode (feat. Gibbz)---Exmag',\n",
       " 'Say My Name (feat. Zyra) - RAC Mix---ODESZA',\n",
       " 'Understand Why - Original Mix---Keys N Krates',\n",
       " 'Ridin Solo - Njomza Remix---Hippie Sabotage',\n",
       " 'Let Go - Sir Sly Remix---RAC',\n",
       " 'Cheap Sunglasses - Le Youth Remix---RAC',\n",
       " 'A Stranger Love (Salva Remix)---Classixx',\n",
       " 'Sway - Chainsmokers Remix---Anna Of The North',\n",
       " 'Out Of My Head - Tobtok Remix---Zak Waters',\n",
       " 'All I Want - Manila Killa Remix---Dawn Golden',\n",
       " 'Whoops (feat. Pennybirdrabbit)---12th Planet',\n",
       " 'Tidal Wave---Sub Focus',\n",
       " 'Almost Home - feat. Damien Jurado [Sebastien Edit]---Moby',\n",
       " 'High - Original Mix---Peking Duk',\n",
       " 'A Fine Way to Die---GRiZ',\n",
       " \"You're On---Madeon\",\n",
       " 'Live This Nightmare - NGHTMRE Remix---The Griswolds',\n",
       " 'Beware The Dog - Autograf Remix---The Griswolds',\n",
       " \"Stop Trippin'---GRiZ\",\n",
       " 'The Anthem---GRiZ',\n",
       " 'Lean On (feat. MØ & DJ Snake)---Major Lazer',\n",
       " 'Talk to Me (Bearson Remix)---Ghost Loft',\n",
       " 'Back at the Start (feat. K. Flay)---Viceroy',\n",
       " 'Higher (feat. Emil Heró) - Oliver Nelson & Skogsrå Remix---Tobtok',\n",
       " 'Blame - R3HAB Trap Remix---Calvin Harris',\n",
       " 'Made of Water---Dooqu',\n",
       " 'Passenger---Imad Royal',\n",
       " 'The Water---Cappa Regime',\n",
       " 'Let You Go - A-Trak Remix---The Chainsmokers']"
      ]
     },
     "execution_count": 11,
     "metadata": {},
     "output_type": "execute_result"
    }
   ],
   "source": [
    "# Get playlist information\n",
    "item, original_tracks, seeds = r.get_playlist_info(item)\n",
    "original_tracks"
   ]
  },
  {
   "cell_type": "code",
   "execution_count": 12,
   "id": "e5e156a1",
   "metadata": {
    "scrolled": true
   },
   "outputs": [
    {
     "data": {
      "text/plain": [
       "['7CMSR4t19k6UAL2sHXUQ9X',\n",
       " '29oqqEp0tTjMbSnExkuNFC',\n",
       " '1wHZx0LgzFHyeIZkUydNXq',\n",
       " '6p8NuHm8uCGnn2Dtbtf7zE',\n",
       " '78SAVldsO3Xzm2R2Ko6E66',\n",
       " '6p8NuHm8uCGnn2Dtbtf7zE',\n",
       " '7BKLCZ1jbUBVqRi2FVlTVw',\n",
       " '4X5f3vT8MRuXF68pfjNte5',\n",
       " '5dNfHmqgr128gMY2tc5CeJ',\n",
       " '6OTUZuPrTU8nVYjJM3LYw8',\n",
       " '3JtmRIkVK95rmf4kWKA3ON',\n",
       " '03fT3OHB9KyMtGMt2zwqCT',\n",
       " '4X5f3vT8MRuXF68pfjNte5',\n",
       " '7yyRTcZmCiyzzJlNzGC9Ol',\n",
       " '2EEeOnHehOozLq4aS0n6SL',\n",
       " '4Kzrd46VFJIYhY3CinY7bQ',\n",
       " '6p8NuHm8uCGnn2Dtbtf7zE',\n",
       " '7KXjTSCq5nL1LoYtL7XAwS',\n",
       " '7BKLCZ1jbUBVqRi2FVlTVw',\n",
       " '7BKLCZ1jbUBVqRi2FVlTVw',\n",
       " '1zWZvrk13cL8Sl3VLeG57F',\n",
       " '6q5dZkmPJKaW0GXKHY9uoK',\n",
       " '6p8NuHm8uCGnn2Dtbtf7zE',\n",
       " '66hayvUbTotekKU3H4ta1f',\n",
       " '7KXjTSCq5nL1LoYtL7XAwS',\n",
       " '6DNtNfH8hXkqOX1sjqmI7p',\n",
       " '4Km5HrUvYTaSUfiSGPJeQR',\n",
       " '7BKLCZ1jbUBVqRi2FVlTVw',\n",
       " '7yyRTcZmCiyzzJlNzGC9Ol',\n",
       " '1zWZvrk13cL8Sl3VLeG57F',\n",
       " '4w7yrP4RAeeyhfG9nJqQvS',\n",
       " '743H2NCU4LvZ0gh014GUxK',\n",
       " '5NQbUaeTEOGdD6hHcre0dZ',\n",
       " '4O1CExxinEpKZi3861NlTK',\n",
       " '2tux1s5FVabQQKpz7GEXbI',\n",
       " '7yyRTcZmCiyzzJlNzGC9Ol',\n",
       " '787fe3dyhuG04cYV3gUE39',\n",
       " '7JYsArznYOjX2jsrT3UEnL',\n",
       " '0CKjWP2RVFKgoE2MBKNBrZ',\n",
       " '6O6M7pJLABmfBRoGZMu76Y',\n",
       " '5FTtPfcnxadyHErFQR9oc6',\n",
       " '6p8NuHm8uCGnn2Dtbtf7zE']"
      ]
     },
     "execution_count": 12,
     "metadata": {},
     "output_type": "execute_result"
    }
   ],
   "source": [
    "# Get recommendations\n",
    "uri_recs = r.recommend(seeds, dgl_G, z, pred, neigh, feat_data, uri_map)\n",
    "uri_recs"
   ]
  },
  {
   "cell_type": "markdown",
   "id": "4614707a",
   "metadata": {},
   "source": [
    "# Decode Results with Spotify API"
   ]
  },
  {
   "cell_type": "code",
   "execution_count": 13,
   "id": "c8020ff5",
   "metadata": {},
   "outputs": [],
   "source": [
    "# Translate to Song Names\n",
    "client_id = 'ad2536ed7a914d66b89b80fb3a500787'\n",
    "client_secret = '8c5f45fb008d4bc5bf909ec46d076b65'\n",
    "\n",
    "spotify = SpotifyAPI(client_id, client_secret)"
   ]
  },
  {
   "cell_type": "code",
   "execution_count": 14,
   "id": "952c2353",
   "metadata": {},
   "outputs": [
    {
     "name": "stdout",
     "output_type": "stream",
     "text": [
      "CPU times: user 45.8 ms, sys: 5.63 ms, total: 51.5 ms\n",
      "Wall time: 2.38 s\n"
     ]
    }
   ],
   "source": [
    "%%time\n",
    "rec_track_names = r.get_rec_names(uri_recs, spotify, 2)"
   ]
  },
  {
   "cell_type": "code",
   "execution_count": 15,
   "id": "13a45169",
   "metadata": {},
   "outputs": [
    {
     "data": {
      "text/plain": [
       "['Endorphins---Sub Focus',\n",
       " 'Turn It Around---Sub Focus',\n",
       " 'You & Me (feat. W. Darling)---Bassnectar',\n",
       " 'Collapse---Zeds Dead',\n",
       " 'Sleepless - Oliver Nelson Remix---CAZZETTE',\n",
       " 'High You Are---What So Not',\n",
       " 'Don’t Leave---Seven Lions',\n",
       " 'Derezzed - Remixed by Avicii---Daft Punk',\n",
       " 'This Is How You Know---Coyote Kisses',\n",
       " 'Rain (MitiS Remix)---Astronaut',\n",
       " 'Always - Classixx Remix---Panama',\n",
       " 'Classic (feat. POWERS)---The Knocks',\n",
       " 'Treat Me Right---Keys N Krates',\n",
       " 'Tilt Mode (feat. Gibbz)---Exmag',\n",
       " 'Say My Name (feat. Zyra) - RAC Mix---ODESZA',\n",
       " 'Understand Why - Original Mix---Keys N Krates',\n",
       " 'Ridin Solo - Njomza Remix---Hippie Sabotage',\n",
       " 'Let Go - Sir Sly Remix---RAC',\n",
       " 'Cheap Sunglasses - Le Youth Remix---RAC',\n",
       " 'A Stranger Love (Salva Remix)---Classixx',\n",
       " 'Sway - Chainsmokers Remix---Anna Of The North',\n",
       " 'Out Of My Head - Tobtok Remix---Zak Waters',\n",
       " 'All I Want - Manila Killa Remix---Dawn Golden',\n",
       " 'Whoops (feat. Pennybirdrabbit)---12th Planet',\n",
       " 'Tidal Wave---Sub Focus',\n",
       " 'Almost Home - feat. Damien Jurado [Sebastien Edit]---Moby',\n",
       " 'High - Original Mix---Peking Duk',\n",
       " 'A Fine Way to Die---GRiZ',\n",
       " \"You're On---Madeon\",\n",
       " 'Live This Nightmare - NGHTMRE Remix---The Griswolds',\n",
       " 'Beware The Dog - Autograf Remix---The Griswolds',\n",
       " \"Stop Trippin'---GRiZ\",\n",
       " 'The Anthem---GRiZ',\n",
       " 'Lean On (feat. MØ & DJ Snake)---Major Lazer',\n",
       " 'Talk to Me (Bearson Remix)---Ghost Loft',\n",
       " 'Back at the Start (feat. K. Flay)---Viceroy',\n",
       " 'Higher (feat. Emil Heró) - Oliver Nelson & Skogsrå Remix---Tobtok',\n",
       " 'Blame - R3HAB Trap Remix---Calvin Harris',\n",
       " 'Made of Water---Dooqu',\n",
       " 'Passenger---Imad Royal',\n",
       " 'The Water---Cappa Regime',\n",
       " 'Let You Go - A-Trak Remix---The Chainsmokers']"
      ]
     },
     "execution_count": 15,
     "metadata": {},
     "output_type": "execute_result"
    }
   ],
   "source": [
    "original_tracks"
   ]
  },
  {
   "cell_type": "code",
   "execution_count": 16,
   "id": "83bff400",
   "metadata": {},
   "outputs": [],
   "source": [
    "rec_track_names.sort(reverse=True, key=lambda x: x[1])"
   ]
  },
  {
   "cell_type": "code",
   "execution_count": 17,
   "id": "38919f31",
   "metadata": {},
   "outputs": [
    {
     "data": {
      "text/plain": [
       "[('Slippery (feat. Gucci Mane)---Migos', 5),\n",
       " ('Closer---The Chainsmokers', 4),\n",
       " ('Broccoli (feat. Lil Yachty)---Shelley FKA DRAM', 3),\n",
       " ('T-Shirt---Thomas Rhett', 2),\n",
       " (\"F**kin' Problems (feat. Drake, 2 Chainz & Kendrick Lamar)---A$AP Rocky\", 2),\n",
       " ('HUMBLE.---Kendrick Lamar', 2),\n",
       " ('Play It Again---Luke Bryan', 1),\n",
       " ('One Mississippi---WHY?', 1),\n",
       " ('Antidote---Travis Scott', 1),\n",
       " ('Secrets Inside---Swain', 1),\n",
       " ('iSpy (feat. Lil Yachty)---KYLE', 1),\n",
       " ('Lost, Scared & Tired---Jared & The Mill', 1),\n",
       " ('Stay A Little Longer---Brothers Osborne', 1),\n",
       " ('Bad and Boujee (feat. Lil Uzi Vert)---Migos', 1),\n",
       " ('Riot---Designer Drugs', 1),\n",
       " ('Get Me Some Of That---Thomas Rhett', 1),\n",
       " (\"I Don't Fuck With You---Big Sean\", 1),\n",
       " ('Alone - Amtrac Remix---Amtrac', 1),\n",
       " ('679 (feat. Remy Boyz)---Fetty Wap', 1),\n",
       " ('Ignition - Remix---R. Kelly', 1),\n",
       " ('Where Are Ü Now (with Justin Bieber)---Jack Ü', 1),\n",
       " ('Cold Water (feat. Justin Bieber & MØ)---Major Lazer', 1),\n",
       " ('Roses (feat. ROZES)---The Chainsmokers', 1),\n",
       " ('Overcome---Creed', 1),\n",
       " ('Best for Last (feat. Walk the Moon)---The Knocks', 1),\n",
       " ('Down---Breathe Carolina', 1),\n",
       " ('Love Me Like You---Chris Rene', 1),\n",
       " ('Sirens (feat. Nevve)---Elephante', 1),\n",
       " ('Give Up The Ghost---Immature', 1),\n",
       " ('OOOUUU---Young M.A', 1)]"
      ]
     },
     "execution_count": 17,
     "metadata": {},
     "output_type": "execute_result"
    }
   ],
   "source": [
    "rec_track_names"
   ]
  },
  {
   "cell_type": "markdown",
   "id": "27d582a0",
   "metadata": {},
   "source": [
    "Note: We kept repeats because a song that is recommended as the best more than once throughout the playlist should be ranked higher"
   ]
  },
  {
   "cell_type": "markdown",
   "id": "8fa7c442",
   "metadata": {},
   "source": [
    "# Making Batch Recommendations"
   ]
  },
  {
   "cell_type": "code",
   "execution_count": 22,
   "id": "6c4ce21d",
   "metadata": {},
   "outputs": [
    {
     "name": "stdout",
     "output_type": "stream",
     "text": [
      "/teams/DSC180A_FA21_A00/a13group1/data/mpd.slice.8000-8999.json\n",
      "Playlist ID: 8710\n",
      "Playlist Length: 34\n",
      "CPU times: user 2.36 s, sys: 144 ms, total: 2.5 s\n",
      "Wall time: 1.72 s\n"
     ]
    }
   ],
   "source": [
    "%%time\n",
    "all_accs = []\n",
    "for each in range(50):\n",
    "    item = r.get_random_playlist()\n",
    "    item, original_tracks, seeds = r.get_playlist_info(item)\n",
    "    uri_recs = r.recommend(seeds, dgl_G, z, pred, neigh, feat_data, uri_map)\n",
    "    \n",
    "    checks = []\n",
    "    for i in range(len(uri_recs)):\n",
    "        well = uri_map[uri_recs[i]] in dgl_G.out_edges(uri_map[seeds[i]])[1]\n",
    "        checks.append(well)\n",
    "        \n",
    "    acc = np.count_nonzero(checks) / len(checks)\n",
    "    all_accs.append({'pid': item['pid'], 'seeds': seeds, 'recs':uri_recs, 'accuracy': acc})\n",
    "    \n",
    "with open(\"../analysis/batch_recommendations.json\", \"w\") as final:\n",
    "    json.dump(all_accs, final)"
   ]
  },
  {
   "cell_type": "code",
   "execution_count": null,
   "id": "ae9b59c2",
   "metadata": {},
   "outputs": [],
   "source": []
  }
 ],
 "metadata": {
  "kernelspec": {
   "display_name": "Python 3 (ipykernel)",
   "language": "python",
   "name": "python3"
  },
  "language_info": {
   "codemirror_mode": {
    "name": "ipython",
    "version": 3
   },
   "file_extension": ".py",
   "mimetype": "text/x-python",
   "name": "python",
   "nbconvert_exporter": "python",
   "pygments_lexer": "ipython3",
   "version": "3.9.5"
  }
 },
 "nbformat": 4,
 "nbformat_minor": 5
}
