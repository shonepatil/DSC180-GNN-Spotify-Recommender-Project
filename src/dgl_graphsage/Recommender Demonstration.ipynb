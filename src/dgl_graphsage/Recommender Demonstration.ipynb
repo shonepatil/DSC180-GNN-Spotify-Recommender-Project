{
 "cells": [
  {
   "cell_type": "code",
   "execution_count": 2,
   "id": "400225ac",
   "metadata": {},
   "outputs": [
    {
     "name": "stderr",
     "output_type": "stream",
     "text": [
      "Using backend: pytorch\n"
     ]
    }
   ],
   "source": [
    "import sys\n",
    "import time\n",
    "import json\n",
    "import os\n",
    "\n",
    "import recommend as r\n",
    "from train_updated import train\n",
    "from api.spotifyAPI import SpotifyAPI\n",
    "from utils import load_graph\n",
    "from utils import load_features\n",
    "from sklearn.neighbors import NearestNeighbors\n",
    "import pandas as pd\n",
    "from dgl import load_graphs\n",
    "import matplotlib.pyplot as plt\n",
    "import networkx as nx\n",
    "import dgl\n",
    "\n",
    "import torch\n",
    "import numpy as np"
   ]
  },
  {
   "cell_type": "markdown",
   "id": "dac41843",
   "metadata": {},
   "source": [
    "# Loading Data"
   ]
  },
  {
   "cell_type": "code",
   "execution_count": 5,
   "id": "bd12870d",
   "metadata": {},
   "outputs": [
    {
     "name": "stdout",
     "output_type": "stream",
     "text": [
      "Loading feature data...\n",
      "Feature data shape: torch.Size([461880, 13])\n",
      "Loading graph data...\n",
      "Graph Info:\n",
      " Name: G\n",
      "Type: Graph\n",
      "Number of nodes: 461880\n",
      "Number of edges: 106486690\n",
      "Average degree: 461.1011\n",
      "CPU times: user 6min 13s, sys: 31.9 s, total: 6min 45s\n",
      "Wall time: 6min 34s\n"
     ]
    }
   ],
   "source": [
    "%%time\n",
    "# Loading Graph ~ 3min\n",
    "feat_dir = \"../../data/a13group1/460k_songset_features.csv\"\n",
    "scratch_pickle_dir = \"../../data/a13group1/\"\n",
    "feat_data, uri_map = load_features(feat_dir, scratch_pickle_dir, False, playlist_num=100000)\n",
    "graph_dir = (\"../../data/a13group1/graph_460k.gpickle\")\n",
    "dgl_G, weights = load_graph(graph_dir, uri_map)"
   ]
  },
  {
   "cell_type": "code",
   "execution_count": 3,
   "id": "8b1889a1",
   "metadata": {},
   "outputs": [],
   "source": [
    "#dgl_G_cuda = dgl_G.to('cuda')\n",
    "#weights = weights.to('cuda')\n",
    "#feat_data = feat_data.to('cuda')"
   ]
  },
  {
   "cell_type": "markdown",
   "id": "444f1788",
   "metadata": {},
   "source": [
    "# Training Model (optional)"
   ]
  },
  {
   "cell_type": "code",
   "execution_count": null,
   "id": "c3405d91",
   "metadata": {
    "scrolled": true
   },
   "outputs": [
    {
     "name": "stdout",
     "output_type": "stream",
     "text": [
      "Train pos edge: 168589834\n",
      "Validation pos edge: 306960\n",
      "Cuda enabled: False\n",
      "\n",
      "Training starts:\n",
      "-----\n",
      "In epoch 1 batch 1, loss: 0.6922053098678589\n",
      "-----\n",
      "In epoch 1 batch 2, loss: 0.6965621709823608\n",
      "-----\n",
      "In epoch 1 batch 3, loss: 0.6925550699234009\n",
      "-----\n",
      "In epoch 1 batch 4, loss: 0.6910004019737244\n",
      "-----\n",
      "In epoch 1 batch 5, loss: 0.6893577575683594\n",
      "-----\n",
      "In epoch 1 batch 6, loss: 0.6879245042800903\n",
      "-----\n",
      "In epoch 1 batch 7, loss: 0.6840960383415222\n",
      "-----\n",
      "In epoch 1 batch 8, loss: 0.6814653873443604\n",
      "-----\n",
      "In epoch 1 batch 9, loss: 0.6781801581382751\n",
      "-----\n",
      "In epoch 1 batch 10, loss: 0.67368084192276\n",
      "-----\n",
      "In epoch 1 batch 11, loss: 0.667395830154419\n",
      "-----\n",
      "In epoch 1 batch 12, loss: 0.6607205271720886\n",
      "-----\n",
      "In epoch 1 batch 13, loss: 0.6496045589447021\n",
      "-----\n",
      "In epoch 1 batch 14, loss: 0.6448951959609985\n",
      "-----\n",
      "In epoch 1 batch 15, loss: 0.6294053792953491\n",
      "-----\n",
      "In epoch 1 batch 16, loss: 0.6173455715179443\n",
      "-----\n",
      "In epoch 1 batch 17, loss: 0.6101223230361938\n",
      "-----\n",
      "In epoch 1 batch 18, loss: 0.5941802263259888\n",
      "-----\n",
      "In epoch 1 batch 19, loss: 0.5738444924354553\n",
      "-----\n",
      "In epoch 1 batch 20, loss: 0.5614572763442993\n",
      "-----\n",
      "In epoch 1 batch 21, loss: 0.5499374270439148\n",
      "-----\n",
      "In epoch 1 batch 22, loss: 0.5354710817337036\n",
      "-----\n",
      "In epoch 1 batch 23, loss: 0.5128142237663269\n",
      "-----\n",
      "In epoch 1 batch 24, loss: 0.5015305876731873\n",
      "-----\n",
      "In epoch 1 batch 25, loss: 0.4980125427246094\n",
      "-----\n",
      "In epoch 1 batch 26, loss: 0.4941823482513428\n",
      "-----\n",
      "In epoch 1 batch 27, loss: 0.49860429763793945\n",
      "-----\n",
      "In epoch 1 batch 28, loss: 0.47571057081222534\n",
      "-----\n",
      "In epoch 1 batch 29, loss: 0.4891127645969391\n",
      "-----\n",
      "In epoch 1 batch 30, loss: 0.49504706263542175\n",
      "-----\n",
      "In epoch 1 batch 31, loss: 0.48750874400138855\n",
      "-----\n",
      "In epoch 1 batch 32, loss: 0.4689215421676636\n",
      "-----\n",
      "In epoch 1 batch 33, loss: 0.4759579002857208\n",
      "-----\n",
      "In epoch 1 batch 34, loss: 0.49009865522384644\n",
      "-----\n",
      "In epoch 1 batch 35, loss: 0.49504122138023376\n",
      "-----\n",
      "In epoch 1 batch 36, loss: 0.47882187366485596\n",
      "-----\n",
      "In epoch 1 batch 37, loss: 0.48442256450653076\n",
      "-----\n",
      "In epoch 1 batch 38, loss: 0.49906638264656067\n",
      "-----\n",
      "In epoch 1 batch 39, loss: 0.4964550733566284\n",
      "-----\n",
      "In epoch 1 batch 40, loss: 0.48964470624923706\n",
      "-----\n",
      "In epoch 1 batch 41, loss: 0.4870549738407135\n",
      "-----\n",
      "In epoch 1 batch 42, loss: 0.4865359961986542\n",
      "-----\n",
      "In epoch 1 batch 43, loss: 0.4679213762283325\n",
      "-----\n",
      "In epoch 1 batch 44, loss: 0.4794706106185913\n",
      "-----\n",
      "In epoch 1 batch 45, loss: 0.47803547978401184\n",
      "-----\n",
      "In epoch 1 batch 46, loss: 0.4776572585105896\n",
      "-----\n",
      "In epoch 1 batch 47, loss: 0.4838699698448181\n",
      "-----\n",
      "In epoch 1 batch 48, loss: 0.4584440290927887\n",
      "-----\n",
      "In epoch 1 batch 49, loss: 0.4699544310569763\n",
      "-----\n",
      "In epoch 1 batch 50, loss: 0.4748125374317169\n",
      "-----\n",
      "In epoch 1 batch 51, loss: 0.4572758674621582\n",
      "-----\n",
      "In epoch 1 batch 52, loss: 0.47513347864151\n",
      "-----\n",
      "In epoch 1 batch 53, loss: 0.4824606478214264\n",
      "-----\n",
      "In epoch 1 batch 54, loss: 0.46753424406051636\n",
      "-----\n",
      "In epoch 1 batch 55, loss: 0.4843452572822571\n",
      "-----\n",
      "In epoch 1 batch 56, loss: 0.4744509756565094\n",
      "-----\n",
      "In epoch 1 batch 57, loss: 0.47651776671409607\n",
      "-----\n",
      "In epoch 1 batch 58, loss: 0.47217869758605957\n",
      "-----\n",
      "In epoch 1 batch 59, loss: 0.45710405707359314\n",
      "-----\n",
      "In epoch 1 batch 60, loss: 0.4507107436656952\n",
      "-----\n",
      "In epoch 1 batch 61, loss: 0.4575788974761963\n"
     ]
    }
   ],
   "source": [
    "%%time\n",
    "# Training the Model. GPU ~ 00:00:40. CPU ~ 00:53:00.\n",
    "with open('../../config/model-params.json') as fh:\n",
    "            model_cfg = json.load(fh)\n",
    "model, pred, measures = train(dgl_G, weights.to('cpu'), feat_data, cuda=False, feat_dim=13, emb_dim=10, test_data=False)\n",
    "\n",
    "# Put everything on CPU\n",
    "model = model.to('cpu')\n",
    "pred = pred.to('cpu')\n",
    "\n",
    "torch.save(model, '460k_1epoch_model.pt')\n",
    "torch.save(pred, '460k_1epoch_pred.pt')\n",
    "\n",
    "with open(\"460k_1epoch_measures.json\", \"w\") as out_measures:\n",
    "    json.dump(measures, out_measures)"
   ]
  },
  {
   "cell_type": "code",
   "execution_count": null,
   "id": "2dea54f0",
   "metadata": {},
   "outputs": [],
   "source": [
    "measures"
   ]
  },
  {
   "cell_type": "code",
   "execution_count": 5,
   "id": "5717386d",
   "metadata": {},
   "outputs": [
    {
     "name": "stdout",
     "output_type": "stream",
     "text": [
      "Final Training Classification Report: \n",
      "AUC: 0.8236135679618413\n",
      "Final Loss: 0.5051630735397339\n",
      "Training Time: ~ 1 Hour (CPU)\n"
     ]
    },
    {
     "data": {
      "text/html": [
       "<div>\n",
       "<style scoped>\n",
       "    .dataframe tbody tr th:only-of-type {\n",
       "        vertical-align: middle;\n",
       "    }\n",
       "\n",
       "    .dataframe tbody tr th {\n",
       "        vertical-align: top;\n",
       "    }\n",
       "\n",
       "    .dataframe thead th {\n",
       "        text-align: right;\n",
       "    }\n",
       "</style>\n",
       "<table border=\"1\" class=\"dataframe\">\n",
       "  <thead>\n",
       "    <tr style=\"text-align: right;\">\n",
       "      <th></th>\n",
       "      <th>Measure</th>\n",
       "      <th>Precision</th>\n",
       "      <th>Recall</th>\n",
       "      <th>F1-Score</th>\n",
       "      <th>Support</th>\n",
       "    </tr>\n",
       "  </thead>\n",
       "  <tbody>\n",
       "    <tr>\n",
       "      <th>0</th>\n",
       "      <td>0.0</td>\n",
       "      <td>0.49</td>\n",
       "      <td>0.75</td>\n",
       "      <td>0.59</td>\n",
       "      <td>168110</td>\n",
       "    </tr>\n",
       "    <tr>\n",
       "      <th>1</th>\n",
       "      <td>1.0</td>\n",
       "      <td>0.90</td>\n",
       "      <td>0.74</td>\n",
       "      <td>0.82</td>\n",
       "      <td>518464</td>\n",
       "    </tr>\n",
       "    <tr>\n",
       "      <th>2</th>\n",
       "      <td>accuracy</td>\n",
       "      <td>NaN</td>\n",
       "      <td>NaN</td>\n",
       "      <td>0.75</td>\n",
       "      <td>686574</td>\n",
       "    </tr>\n",
       "    <tr>\n",
       "      <th>3</th>\n",
       "      <td>macro avg</td>\n",
       "      <td>0.69</td>\n",
       "      <td>0.75</td>\n",
       "      <td>0.70</td>\n",
       "      <td>686574</td>\n",
       "    </tr>\n",
       "    <tr>\n",
       "      <th>4</th>\n",
       "      <td>weighted avg</td>\n",
       "      <td>0.80</td>\n",
       "      <td>0.75</td>\n",
       "      <td>0.76</td>\n",
       "      <td>686574</td>\n",
       "    </tr>\n",
       "  </tbody>\n",
       "</table>\n",
       "</div>"
      ],
      "text/plain": [
       "        Measure  Precision  Recall  F1-Score  Support\n",
       "0           0.0       0.49    0.75      0.59   168110\n",
       "1           1.0       0.90    0.74      0.82   518464\n",
       "2      accuracy        NaN     NaN      0.75   686574\n",
       "3     macro avg       0.69    0.75      0.70   686574\n",
       "4  weighted avg       0.80    0.75      0.76   686574"
      ]
     },
     "execution_count": 5,
     "metadata": {},
     "output_type": "execute_result"
    }
   ],
   "source": [
    "print('Final Training Classification Report: ')\n",
    "print('AUC: 0.8236135679618413')\n",
    "print('Final Loss: 0.5051630735397339')\n",
    "print('Training Time: ~ 1 Hour (CPU)')\n",
    "pd.DataFrame(data={'Measure': [0.0, 1.0, 'accuracy', 'macro avg', 'weighted avg'], 'Precision': [0.49, 0.90, None, 0.69, 0.80], 'Recall': [0.75, 0.74, None, 0.75, 0.75], 'F1-Score': [0.59, 0.82, 0.75, 0.70, 0.76], 'Support': [168110, 518464, 686574, 686574, 686574]})"
   ]
  },
  {
   "cell_type": "code",
   "execution_count": null,
   "id": "dd653ce9",
   "metadata": {},
   "outputs": [],
   "source": []
  },
  {
   "cell_type": "code",
   "execution_count": null,
   "id": "2e3f76db",
   "metadata": {},
   "outputs": [],
   "source": []
  },
  {
   "cell_type": "markdown",
   "id": "32ef7eda",
   "metadata": {},
   "source": [
    "# Loading Pre-Existing Model"
   ]
  },
  {
   "cell_type": "code",
   "execution_count": 9,
   "id": "58ecc517",
   "metadata": {},
   "outputs": [
    {
     "data": {
      "text/plain": [
       "MLPPredictor(\n",
       "  (W1): Linear(in_features=20, out_features=10, bias=True)\n",
       "  (W2): Linear(in_features=10, out_features=1, bias=True)\n",
       ")"
      ]
     },
     "execution_count": 9,
     "metadata": {},
     "output_type": "execute_result"
    }
   ],
   "source": [
    "# Load Pre-Existing Model\n",
    "model = torch.load('170k_model.pt')\n",
    "pred = torch.load('170k_pred.pt')\n",
    "model.eval()\n",
    "pred.eval()"
   ]
  },
  {
   "cell_type": "markdown",
   "id": "58bcf653",
   "metadata": {},
   "source": [
    "# Create Predictions"
   ]
  },
  {
   "cell_type": "code",
   "execution_count": 10,
   "id": "24c2522f",
   "metadata": {},
   "outputs": [],
   "source": [
    "dgl_G.edata[dgl.EID] = torch.tensor(np.arange(dgl_G.number_of_edges()))"
   ]
  },
  {
   "cell_type": "code",
   "execution_count": 11,
   "id": "bcacfc62",
   "metadata": {},
   "outputs": [],
   "source": [
    "# Create Embeddings\n",
    "z = model(dgl_G, feat_data, weights)\n",
    "\n",
    "# Create Predictions\n",
    "# In the form of the strength of the connection between source, destination from dgl_G.edges()\n",
    "preds = pred(dgl_G, z)"
   ]
  },
  {
   "cell_type": "code",
   "execution_count": 12,
   "id": "cab2db78",
   "metadata": {},
   "outputs": [
    {
     "data": {
      "text/plain": [
       "NearestNeighbors(n_neighbors=25, radius=0.4)"
      ]
     },
     "execution_count": 12,
     "metadata": {},
     "output_type": "execute_result"
    }
   ],
   "source": [
    "# Create Nearest Neighbors\n",
    "neigh = NearestNeighbors(n_neighbors=25, radius=0.4)\n",
    "neigh.fit(feat_data)"
   ]
  },
  {
   "cell_type": "code",
   "execution_count": 13,
   "id": "37ed1b29",
   "metadata": {
    "scrolled": true
   },
   "outputs": [
    {
     "name": "stdout",
     "output_type": "stream",
     "text": [
      "/teams/DSC180A_FA21_A00/a13group1/data/mpd.slice.7000-7999.json\n"
     ]
    }
   ],
   "source": [
    "# Get a random playlist\n",
    "item = r.get_random_playlist()"
   ]
  },
  {
   "cell_type": "code",
   "execution_count": 14,
   "id": "cb304c09",
   "metadata": {
    "scrolled": true
   },
   "outputs": [
    {
     "data": {
      "text/plain": [
       "{'name': 'idk',\n",
       " 'collaborative': 'false',\n",
       " 'pid': 7009,\n",
       " 'modified_at': 1492041600,\n",
       " 'num_tracks': 20,\n",
       " 'num_albums': 17,\n",
       " 'num_followers': 1,\n",
       " 'tracks': [{'pos': 0,\n",
       "   'artist_name': 'Drake',\n",
       "   'track_uri': 'spotify:track:4ckuS4Nj4FZ7i3Def3Br8W',\n",
       "   'artist_uri': 'spotify:artist:3TVXtAsR1Inumwj472S9r4',\n",
       "   'track_name': 'Sneakin’',\n",
       "   'album_uri': 'spotify:album:2z3NlPY0n0gHJPCPqrzA6V',\n",
       "   'duration_ms': 251333,\n",
       "   'album_name': 'Sneakin’'},\n",
       "  {'pos': 1,\n",
       "   'artist_name': 'Nebu Kiniza',\n",
       "   'track_uri': 'spotify:track:6JjEVlMkfHWMeYavkEYzNO',\n",
       "   'artist_uri': 'spotify:artist:5lCY3tqdQxbeg5igSlObaT',\n",
       "   'track_name': 'Gassed Up',\n",
       "   'album_uri': 'spotify:album:6YCcGxz3l1shgr3F7XbNee',\n",
       "   'duration_ms': 193911,\n",
       "   'album_name': 'Gassed Up'},\n",
       "  {'pos': 2,\n",
       "   'artist_name': 'Lil Uzi Vert',\n",
       "   'track_uri': 'spotify:track:2ANLarE8yHVsLWW21nj79M',\n",
       "   'artist_uri': 'spotify:artist:4O15NlyKLIASxsJ0PrXPfz',\n",
       "   'track_name': 'You Was Right',\n",
       "   'album_uri': 'spotify:album:7mgdTKTCdfnLoa1HXHvLYM',\n",
       "   'duration_ms': 163944,\n",
       "   'album_name': 'Lil Uzi Vert Vs. The World'},\n",
       "  {'pos': 3,\n",
       "   'artist_name': 'J. Cole',\n",
       "   'track_uri': 'spotify:track:77aasEzxEXE13suFG6npRE',\n",
       "   'artist_uri': 'spotify:artist:6l3HvQ5sa6mXTsMTB19rO5',\n",
       "   'track_name': 'Fire Squad - Live',\n",
       "   'album_uri': 'spotify:album:1yZC8xZwv4gsmCZ4p4JWdI',\n",
       "   'duration_ms': 219480,\n",
       "   'album_name': 'Forest Hills Drive: Live from Fayetteville, NC'},\n",
       "  {'pos': 4,\n",
       "   'artist_name': 'J. Cole',\n",
       "   'track_uri': 'spotify:track:5EPp5oygWvFf08qCFBAZcV',\n",
       "   'artist_uri': 'spotify:artist:6l3HvQ5sa6mXTsMTB19rO5',\n",
       "   'track_name': 'A Tale of 2 Citiez - Live',\n",
       "   'album_uri': 'spotify:album:1yZC8xZwv4gsmCZ4p4JWdI',\n",
       "   'duration_ms': 284960,\n",
       "   'album_name': 'Forest Hills Drive: Live from Fayetteville, NC'},\n",
       "  {'pos': 5,\n",
       "   'artist_name': 'J. Cole',\n",
       "   'track_uri': 'spotify:track:6I6NX6tjGsxFAsIfGzY9lJ',\n",
       "   'artist_uri': 'spotify:artist:6l3HvQ5sa6mXTsMTB19rO5',\n",
       "   'track_name': 'Deja Vu',\n",
       "   'album_uri': 'spotify:album:3CCnGldVQ90c26aFATC1PW',\n",
       "   'duration_ms': 264746,\n",
       "   'album_name': '4 Your Eyez Only'},\n",
       "  {'pos': 6,\n",
       "   'artist_name': 'Berner',\n",
       "   'track_uri': 'spotify:track:6vSmfVyxYCm6D1VVXp2knn',\n",
       "   'artist_uri': 'spotify:artist:2lrtGWxNXWjd0JzDLKXubI',\n",
       "   'track_name': '20 Joints',\n",
       "   'album_uri': 'spotify:album:3foc9z8KL9D4DmIuE5IWEM',\n",
       "   'duration_ms': 190287,\n",
       "   'album_name': '20 Joints - Single'},\n",
       "  {'pos': 7,\n",
       "   'artist_name': 'Big Sean',\n",
       "   'track_uri': 'spotify:track:0Fv5N0cHBsl4bzCbollCAS',\n",
       "   'artist_uri': 'spotify:artist:0c173mlxpT3dSFRgMO8XPh',\n",
       "   'track_name': 'Moves',\n",
       "   'album_uri': 'spotify:album:0XAIjjN5qxViVS0Y5fYkar',\n",
       "   'duration_ms': 142906,\n",
       "   'album_name': 'I Decided.'},\n",
       "  {'pos': 8,\n",
       "   'artist_name': 'XXXTENTACION',\n",
       "   'track_uri': 'spotify:track:7floNISpH8VF4z4459Qo18',\n",
       "   'artist_uri': 'spotify:artist:15UsOTVnJzReFVN1VCnxy4',\n",
       "   'track_name': 'Look At Me!',\n",
       "   'album_uri': 'spotify:album:3cyyJALrHc8LawnQNFYRWL',\n",
       "   'duration_ms': 126345,\n",
       "   'album_name': 'Look At Me!'},\n",
       "  {'pos': 9,\n",
       "   'artist_name': 'Future',\n",
       "   'track_uri': 'spotify:track:5W9QCBJ6Em0XWX333YrNhc',\n",
       "   'artist_uri': 'spotify:artist:1RyvyyTE3xzB2ZywiAwp0i',\n",
       "   'track_name': 'Rent Money',\n",
       "   'album_uri': 'spotify:album:17FBoXK1NU2rvJBbzdzw0r',\n",
       "   'duration_ms': 265366,\n",
       "   'album_name': 'FUTURE'},\n",
       "  {'pos': 10,\n",
       "   'artist_name': '21 Savage',\n",
       "   'track_uri': 'spotify:track:4gmmRb6bZJffOOiww1JGTO',\n",
       "   'artist_uri': 'spotify:artist:1URnnhqYAYcrqrcwql10ft',\n",
       "   'track_name': 'No Heart',\n",
       "   'album_uri': 'spotify:album:4I3EcXD4e3KcEoDJfFEZ5b',\n",
       "   'duration_ms': 235040,\n",
       "   'album_name': 'Savage Mode'},\n",
       "  {'pos': 11,\n",
       "   'artist_name': '2Pac',\n",
       "   'track_uri': 'spotify:track:6tDxrq4FxEL2q15y37tXT9',\n",
       "   'artist_uri': 'spotify:artist:1ZwdS5xdxEREPySFridCfh',\n",
       "   'track_name': 'Dear Mama',\n",
       "   'album_uri': 'spotify:album:3OrucS4sHv6Bl9GS4rafEk',\n",
       "   'duration_ms': 280000,\n",
       "   'album_name': 'Me Against The World'},\n",
       "  {'pos': 12,\n",
       "   'artist_name': 'J. Cole',\n",
       "   'track_uri': 'spotify:track:0utlOiJy2weVl9WTkcEWHy',\n",
       "   'artist_uri': 'spotify:artist:6l3HvQ5sa6mXTsMTB19rO5',\n",
       "   'track_name': 'Neighbors',\n",
       "   'album_uri': 'spotify:album:3CCnGldVQ90c26aFATC1PW',\n",
       "   'duration_ms': 216520,\n",
       "   'album_name': '4 Your Eyez Only'},\n",
       "  {'pos': 13,\n",
       "   'artist_name': 'J. Cole',\n",
       "   'track_uri': 'spotify:track:1vvnYpYEMVB4aq9I6tHIEB',\n",
       "   'artist_uri': 'spotify:artist:6l3HvQ5sa6mXTsMTB19rO5',\n",
       "   'track_name': '4 Your Eyez Only',\n",
       "   'album_uri': 'spotify:album:3CCnGldVQ90c26aFATC1PW',\n",
       "   'duration_ms': 530253,\n",
       "   'album_name': '4 Your Eyez Only'},\n",
       "  {'pos': 14,\n",
       "   'artist_name': 'J. Cole',\n",
       "   'track_uri': 'spotify:track:0aKjN6mBKSMmP3TpfezOxM',\n",
       "   'artist_uri': 'spotify:artist:6l3HvQ5sa6mXTsMTB19rO5',\n",
       "   'track_name': 'Miss America',\n",
       "   'album_uri': 'spotify:album:1NfrmcXk8xNennyxQ57JcW',\n",
       "   'duration_ms': 225866,\n",
       "   'album_name': 'Born Sinner'},\n",
       "  {'pos': 15,\n",
       "   'artist_name': 'Eminem',\n",
       "   'track_uri': 'spotify:track:30Gd3snWllczPbz2Gd0JMe',\n",
       "   'artist_uri': 'spotify:artist:7dGJo4pcD2V6oG8kP0tJRR',\n",
       "   'track_name': 'Like Toy Soldiers',\n",
       "   'album_uri': 'spotify:album:4F1k3oxk5iTQKenjkBpDe4',\n",
       "   'duration_ms': 296880,\n",
       "   'album_name': 'Encore'},\n",
       "  {'pos': 16,\n",
       "   'artist_name': 'Migos',\n",
       "   'track_uri': 'spotify:track:7KOlJ92bu51cltsD9KU5I7',\n",
       "   'artist_uri': 'spotify:artist:6oMuImdp5ZcFhWP0ESe6mG',\n",
       "   'track_name': 'T-Shirt',\n",
       "   'album_uri': 'spotify:album:2AvupjUeMnSffKEV05x222',\n",
       "   'duration_ms': 242407,\n",
       "   'album_name': 'Culture'},\n",
       "  {'pos': 17,\n",
       "   'artist_name': 'Xzibit',\n",
       "   'track_uri': 'spotify:track:1RPhSs2lDYKjDsELKtPvQd',\n",
       "   'artist_uri': 'spotify:artist:4tujQJicOnuZRLiBFdp3Ou',\n",
       "   'track_name': 'Get Your Walk On',\n",
       "   'album_uri': 'spotify:album:6FbOJTOKgRkWSh8kcV9NG3',\n",
       "   'duration_ms': 219840,\n",
       "   'album_name': 'Restless'},\n",
       "  {'pos': 18,\n",
       "   'artist_name': 'Xzibit',\n",
       "   'track_uri': 'spotify:track:16LnNR25rqcvQVNv5UEQ7g',\n",
       "   'artist_uri': 'spotify:artist:4tujQJicOnuZRLiBFdp3Ou',\n",
       "   'track_name': 'X',\n",
       "   'album_uri': 'spotify:album:1dxyoIAlE2NS77K3nzei6Y',\n",
       "   'duration_ms': 255546,\n",
       "   'album_name': 'The Greatest'},\n",
       "  {'pos': 19,\n",
       "   'artist_name': 'Dr. Dre',\n",
       "   'track_uri': 'spotify:track:1aUT4xl8iiYNr6emik4qTB',\n",
       "   'artist_uri': 'spotify:artist:6DPYiyq5kWVQS4RGwxzPC7',\n",
       "   'track_name': 'I Need A Doctor',\n",
       "   'album_uri': 'spotify:album:2IS597VgU3PdBGeMpJOZ1K',\n",
       "   'duration_ms': 283733,\n",
       "   'album_name': 'I Need A Doctor'}],\n",
       " 'num_edits': 8,\n",
       " 'duration_ms': 4889363,\n",
       " 'num_artists': 14}"
      ]
     },
     "execution_count": 14,
     "metadata": {},
     "output_type": "execute_result"
    }
   ],
   "source": [
    "item"
   ]
  },
  {
   "cell_type": "code",
   "execution_count": 15,
   "id": "758dec48",
   "metadata": {},
   "outputs": [
    {
     "name": "stdout",
     "output_type": "stream",
     "text": [
      "Playlist ID: 7009\n",
      "Playlist Length: 20\n"
     ]
    },
    {
     "data": {
      "text/plain": [
       "['Sneakin’---Drake',\n",
       " 'Gassed Up---Nebu Kiniza',\n",
       " 'You Was Right---Lil Uzi Vert',\n",
       " 'Fire Squad - Live---J. Cole',\n",
       " 'A Tale of 2 Citiez - Live---J. Cole',\n",
       " 'Deja Vu---J. Cole',\n",
       " '20 Joints---Berner',\n",
       " 'Moves---Big Sean',\n",
       " 'Look At Me!---XXXTENTACION',\n",
       " 'Rent Money---Future',\n",
       " 'No Heart---21 Savage',\n",
       " 'Dear Mama---2Pac',\n",
       " 'Neighbors---J. Cole',\n",
       " '4 Your Eyez Only---J. Cole',\n",
       " 'Miss America---J. Cole',\n",
       " 'Like Toy Soldiers---Eminem',\n",
       " 'T-Shirt---Migos',\n",
       " 'Get Your Walk On---Xzibit',\n",
       " 'X---Xzibit',\n",
       " 'I Need A Doctor---Dr. Dre']"
      ]
     },
     "execution_count": 15,
     "metadata": {},
     "output_type": "execute_result"
    }
   ],
   "source": [
    "# Get playlist information\n",
    "item, original_tracks, seeds = r.get_playlist_info(item)\n",
    "original_tracks"
   ]
  },
  {
   "cell_type": "code",
   "execution_count": 16,
   "id": "e5e156a1",
   "metadata": {
    "scrolled": true
   },
   "outputs": [
    {
     "data": {
      "text/plain": [
       "['5CG9Ps5ynNjpKJHmwc95pa',\n",
       " '6p8NuHm8uCGnn2Dtbtf7zE',\n",
       " '03fT3OHB9KyMtGMt2zwqCT',\n",
       " '6u36hRCvYdPyPBB4oAQs7B',\n",
       " '4Km5HrUvYTaSUfiSGPJeQR',\n",
       " '4O1CExxinEpKZi3861NlTK',\n",
       " '1zWZvrk13cL8Sl3VLeG57F',\n",
       " '6p8NuHm8uCGnn2Dtbtf7zE',\n",
       " '6p8NuHm8uCGnn2Dtbtf7zE',\n",
       " '6p8NuHm8uCGnn2Dtbtf7zE',\n",
       " '5CG9Ps5ynNjpKJHmwc95pa',\n",
       " '6p8NuHm8uCGnn2Dtbtf7zE',\n",
       " '6p8NuHm8uCGnn2Dtbtf7zE',\n",
       " '6p8NuHm8uCGnn2Dtbtf7zE',\n",
       " '6p8NuHm8uCGnn2Dtbtf7zE',\n",
       " '1soxUgYIZb1qx1c7o1Lc7z',\n",
       " '5HGibWoxnkYSkl6mHmAlOE',\n",
       " '6ltPEsP4edATzvinHOzvk2',\n",
       " '4Km5HrUvYTaSUfiSGPJeQR',\n",
       " '6p8NuHm8uCGnn2Dtbtf7zE']"
      ]
     },
     "execution_count": 16,
     "metadata": {},
     "output_type": "execute_result"
    }
   ],
   "source": [
    "# Get recommendations\n",
    "uri_recs = r.recommend(seeds, dgl_G, z, pred, neigh, feat_data, uri_map)\n",
    "uri_recs"
   ]
  },
  {
   "cell_type": "markdown",
   "id": "4614707a",
   "metadata": {},
   "source": [
    "# Decode Results with Spotify API"
   ]
  },
  {
   "cell_type": "code",
   "execution_count": 17,
   "id": "c8020ff5",
   "metadata": {},
   "outputs": [],
   "source": [
    "# Translate to Song Names\n",
    "client_id = 'ad2536ed7a914d66b89b80fb3a500787'\n",
    "client_secret = '8c5f45fb008d4bc5bf909ec46d076b65'\n",
    "\n",
    "spotify = SpotifyAPI(client_id, client_secret)"
   ]
  },
  {
   "cell_type": "code",
   "execution_count": 18,
   "id": "952c2353",
   "metadata": {},
   "outputs": [
    {
     "name": "stdout",
     "output_type": "stream",
     "text": [
      "CPU times: user 53.9 ms, sys: 15.8 ms, total: 69.7 ms\n",
      "Wall time: 2.43 s\n"
     ]
    }
   ],
   "source": [
    "%%time\n",
    "rec_track_names = r.get_rec_names(uri_recs, spotify, 2)"
   ]
  },
  {
   "cell_type": "code",
   "execution_count": 19,
   "id": "13a45169",
   "metadata": {},
   "outputs": [
    {
     "data": {
      "text/plain": [
       "['Sneakin’---Drake',\n",
       " 'Gassed Up---Nebu Kiniza',\n",
       " 'You Was Right---Lil Uzi Vert',\n",
       " 'Fire Squad - Live---J. Cole',\n",
       " 'A Tale of 2 Citiez - Live---J. Cole',\n",
       " 'Deja Vu---J. Cole',\n",
       " '20 Joints---Berner',\n",
       " 'Moves---Big Sean',\n",
       " 'Look At Me!---XXXTENTACION',\n",
       " 'Rent Money---Future',\n",
       " 'No Heart---21 Savage',\n",
       " 'Dear Mama---2Pac',\n",
       " 'Neighbors---J. Cole',\n",
       " '4 Your Eyez Only---J. Cole',\n",
       " 'Miss America---J. Cole',\n",
       " 'Like Toy Soldiers---Eminem',\n",
       " 'T-Shirt---Migos',\n",
       " 'Get Your Walk On---Xzibit',\n",
       " 'X---Xzibit',\n",
       " 'I Need A Doctor---Dr. Dre']"
      ]
     },
     "execution_count": 19,
     "metadata": {},
     "output_type": "execute_result"
    }
   ],
   "source": [
    "original_tracks"
   ]
  },
  {
   "cell_type": "code",
   "execution_count": 20,
   "id": "83bff400",
   "metadata": {},
   "outputs": [],
   "source": [
    "rec_track_names.sort(reverse=True, key=lambda x: x[1])"
   ]
  },
  {
   "cell_type": "code",
   "execution_count": 21,
   "id": "38919f31",
   "metadata": {},
   "outputs": [
    {
     "data": {
      "text/plain": [
       "[('Slippery (feat. Gucci Mane)---Migos', 9),\n",
       " ('Bad and Boujee (feat. Lil Uzi Vert)---Migos', 2),\n",
       " ('Somewhere On A Beach---Dierks Bentley', 2),\n",
       " ('Play It Again---Luke Bryan', 1),\n",
       " ('Drunk On A Plane---Dierks Bentley', 1),\n",
       " ('T-Shirt---Thomas Rhett', 1),\n",
       " ('Get Me Some Of That---Thomas Rhett', 1),\n",
       " (\"That's My Kind Of Night---Luke Bryan\", 1),\n",
       " ('Still D.R.E.---Dr. Dre', 1),\n",
       " ('Game Got Switched---Ludacris', 1)]"
      ]
     },
     "execution_count": 21,
     "metadata": {},
     "output_type": "execute_result"
    }
   ],
   "source": [
    "rec_track_names"
   ]
  },
  {
   "cell_type": "markdown",
   "id": "27d582a0",
   "metadata": {},
   "source": [
    "Note: We kept repeats because a song that is recommended as the best more than once throughout the playlist should be ranked higher"
   ]
  },
  {
   "cell_type": "markdown",
   "id": "8fa7c442",
   "metadata": {},
   "source": [
    "# Making Batch Recommendations ~ 15 min"
   ]
  },
  {
   "cell_type": "code",
   "execution_count": 19,
   "id": "6c4ce21d",
   "metadata": {
    "scrolled": true
   },
   "outputs": [],
   "source": [
    "# %%time \n",
    "# all_accs = []\n",
    "# for each in range(200):\n",
    "#     item = r.get_random_playlist()\n",
    "#     item, original_tracks, seeds = r.get_playlist_info(item)\n",
    "#     uri_recs = r.recommend(seeds, dgl_G, z, pred, neigh, feat_data, uri_map)\n",
    "    \n",
    "#     checks = []\n",
    "#     for i in range(len(uri_recs)):\n",
    "#         well = uri_map[uri_recs[i]] in dgl_G.out_edges(uri_map[seeds[i]])[1]\n",
    "#         checks.append(well)\n",
    "        \n",
    "#     acc = np.count_nonzero(checks) / len(checks)\n",
    "#     all_accs.append({'pid': item['pid'], 'seeds': seeds, 'recs':uri_recs, 'accuracy': acc})\n",
    "    \n",
    "# with open(\"../analysis/batch_recommendations.json\", \"w\") as final:\n",
    "#     json.dump(all_accs, final)"
   ]
  },
  {
   "cell_type": "code",
   "execution_count": 20,
   "id": "ae9b59c2",
   "metadata": {},
   "outputs": [],
   "source": [
    "# with open(\"../analysis/uri_map_170k.json\", \"w\") as final:\n",
    "#     json.dump([uri_map], final)"
   ]
  }
 ],
 "metadata": {
  "kernelspec": {
   "display_name": "Python 3 (ipykernel)",
   "language": "python",
   "name": "python3"
  },
  "language_info": {
   "codemirror_mode": {
    "name": "ipython",
    "version": 3
   },
   "file_extension": ".py",
   "mimetype": "text/x-python",
   "name": "python",
   "nbconvert_exporter": "python",
   "pygments_lexer": "ipython3",
   "version": "3.9.5"
  }
 },
 "nbformat": 4,
 "nbformat_minor": 5
}
