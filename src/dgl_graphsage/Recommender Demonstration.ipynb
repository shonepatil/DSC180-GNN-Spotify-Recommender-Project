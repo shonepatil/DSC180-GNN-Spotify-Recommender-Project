{
 "cells": [
  {
   "cell_type": "code",
   "execution_count": 1,
   "id": "400225ac",
   "metadata": {},
   "outputs": [
    {
     "name": "stderr",
     "output_type": "stream",
     "text": [
      "Using backend: pytorch\n"
     ]
    }
   ],
   "source": [
    "import sys\n",
    "import time\n",
    "import json\n",
    "import os\n",
    "sys.path.insert(0, 'src/data')\n",
    "sys.path.insert(0, 'src/dgl_graphsage')\n",
    "\n",
    "import recommend as r\n",
    "from train_updated import train\n",
    "from api.spotifyAPI import SpotifyAPI\n",
    "\n",
    "from sklearn.neighbors import NearestNeighbors\n",
    "import pandas as pd\n",
    "\n",
    "import matplotlib.pyplot as plt"
   ]
  },
  {
   "cell_type": "code",
   "execution_count": 2,
   "id": "bd12870d",
   "metadata": {},
   "outputs": [
    {
     "name": "stdout",
     "output_type": "stream",
     "text": [
      "Loading feature data...\n",
      "Loaded DGL Graph\n",
      "adj list created\n",
      "CPU times: user 4min 6s, sys: 24.6 s, total: 4min 31s\n",
      "Wall time: 4min 31s\n"
     ]
    }
   ],
   "source": [
    "%%time\n",
    "# Loading Graph ~ 3min\n",
    "feat_dir = \"../../data/a13group1/features/merged_features.csv\"\n",
    "double_edge_dir = \"../../data/a13group1/double_edges_170k.bin\"\n",
    "feat_data, adj_list, dgl_G, uri_map = r.load_double_edge(feat_dir, double_edge_dir)"
   ]
  },
  {
   "cell_type": "code",
   "execution_count": 3,
   "id": "c3405d91",
   "metadata": {},
   "outputs": [
    {
     "name": "stdout",
     "output_type": "stream",
     "text": [
      "Train pos edge: 26413580\n",
      "Validation pos edge: 518464\n",
      "Cuda enabled: True\n",
      "\n",
      "Training starts:\n",
      "In epoch 1 batch 1, loss: 0.611471951007843\n",
      "In epoch 1 batch 6, loss: 0.502029299736023\n",
      "In epoch 1 batch 11, loss: 0.3098103702068329\n",
      "In epoch 1 batch 16, loss: 0.12996090948581696\n",
      "In epoch 1 batch 21, loss: 0.1140880212187767\n",
      "\n",
      "Epoch 1 AUC:  0.4110690675401437\n",
      "In epoch 2 batch 1, loss: 0.1353190690279007\n",
      "In epoch 2 batch 6, loss: 0.13941128551959991\n",
      "In epoch 2 batch 11, loss: 0.1258445531129837\n",
      "In epoch 2 batch 16, loss: 0.10559317469596863\n",
      "In epoch 2 batch 21, loss: 0.10683856159448624\n",
      "\n",
      "Epoch 2 AUC:  0.4323803597582683\n",
      "In epoch 3 batch 1, loss: 0.1090640053153038\n",
      "In epoch 3 batch 6, loss: 0.11176826804876328\n",
      "In epoch 3 batch 11, loss: 0.10881184041500092\n",
      "In epoch 3 batch 16, loss: 0.10278636962175369\n",
      "In epoch 3 batch 21, loss: 0.10576053708791733\n",
      "\n",
      "Epoch 3 AUC:  0.4561122345903865\n",
      "In epoch 4 batch 1, loss: 0.10427933186292648\n",
      "In epoch 4 batch 6, loss: 0.11137913912534714\n",
      "In epoch 4 batch 11, loss: 0.10668929666280746\n",
      "In epoch 4 batch 16, loss: 0.1073814332485199\n",
      "In epoch 4 batch 21, loss: 0.11078981310129166\n",
      "\n",
      "Epoch 4 AUC:  0.4956844083778791\n",
      "In epoch 5 batch 1, loss: 0.11095665395259857\n",
      "In epoch 5 batch 6, loss: 0.10669028013944626\n",
      "In epoch 5 batch 11, loss: 0.11022397130727768\n",
      "In epoch 5 batch 16, loss: 0.10354025661945343\n",
      "In epoch 5 batch 21, loss: 0.10530354082584381\n",
      "\n",
      "Epoch 5 AUC:  0.5395975519633599\n",
      "In epoch 6 batch 1, loss: 0.10761556774377823\n",
      "In epoch 6 batch 6, loss: 0.10387101024389267\n",
      "In epoch 6 batch 11, loss: 0.10780172795057297\n",
      "In epoch 6 batch 16, loss: 0.10813368111848831\n",
      "In epoch 6 batch 21, loss: 0.10540319234132767\n",
      "\n",
      "Epoch 6 AUC:  0.5746944264139959\n",
      "In epoch 7 batch 1, loss: 0.1063094511628151\n",
      "In epoch 7 batch 6, loss: 0.09927967935800552\n",
      "In epoch 7 batch 11, loss: 0.1062760055065155\n",
      "In epoch 7 batch 16, loss: 0.10270252078771591\n",
      "In epoch 7 batch 21, loss: 0.10746591538190842\n",
      "\n",
      "Epoch 7 AUC:  0.5982023135936764\n",
      "In epoch 8 batch 1, loss: 0.10698499530553818\n",
      "In epoch 8 batch 6, loss: 0.10759395360946655\n",
      "In epoch 8 batch 11, loss: 0.1050199642777443\n",
      "In epoch 8 batch 16, loss: 0.1096462532877922\n",
      "In epoch 8 batch 21, loss: 0.10635581612586975\n",
      "\n",
      "Epoch 8 AUC:  0.6133668611698387\n",
      "In epoch 9 batch 1, loss: 0.10394380986690521\n",
      "In epoch 9 batch 6, loss: 0.10292720794677734\n",
      "In epoch 9 batch 11, loss: 0.10434619337320328\n",
      "In epoch 9 batch 16, loss: 0.10901911556720734\n",
      "In epoch 9 batch 21, loss: 0.10456372797489166\n",
      "\n",
      "Epoch 9 AUC:  0.6235750850610201\n",
      "In epoch 10 batch 1, loss: 0.10793838649988174\n",
      "In epoch 10 batch 6, loss: 0.10335811972618103\n",
      "In epoch 10 batch 11, loss: 0.10154211521148682\n",
      "In epoch 10 batch 16, loss: 0.10224924236536026\n",
      "In epoch 10 batch 21, loss: 0.10624223947525024\n",
      "\n",
      "Epoch 10 AUC:  0.6304103193446347\n",
      "CPU times: user 1min 1s, sys: 10.9 s, total: 1min 12s\n",
      "Wall time: 32.4 s\n"
     ]
    }
   ],
   "source": [
    "%%time\n",
    "# Training the Model. GPU ~ 00:00:40\n",
    "with open('../../config/model-params.json') as fh:\n",
    "            model_cfg = json.load(fh)\n",
    "model, pred = train(dgl_G, feat_data, adj_list, **model_cfg)\n",
    "\n",
    "# Put everything on CPU\n",
    "model = model.to('cpu')\n",
    "pred = pred.to('cpu')"
   ]
  },
  {
   "cell_type": "code",
   "execution_count": 4,
   "id": "bcacfc62",
   "metadata": {},
   "outputs": [],
   "source": [
    "# Create Embeddings\n",
    "z = model(dgl_G, feat_data)\n",
    "\n",
    "# Create Predictions\n",
    "# In the form of the strength of the connection between source, destination from dgl_G.edges()\n",
    "preds = pred(dgl_G, z)"
   ]
  },
  {
   "cell_type": "code",
   "execution_count": 8,
   "id": "cab2db78",
   "metadata": {},
   "outputs": [
    {
     "data": {
      "text/plain": [
       "NearestNeighbors(n_neighbors=25, radius=0.4)"
      ]
     },
     "execution_count": 8,
     "metadata": {},
     "output_type": "execute_result"
    }
   ],
   "source": [
    "# Create Nearest Neighbors\n",
    "neigh = NearestNeighbors(n_neighbors=25, radius=0.4)\n",
    "neigh.fit(feat_data)"
   ]
  },
  {
   "cell_type": "code",
   "execution_count": 9,
   "id": "37ed1b29",
   "metadata": {},
   "outputs": [
    {
     "name": "stdout",
     "output_type": "stream",
     "text": [
      "/teams/DSC180A_FA21_A00/a13group1/data/mpd.slice.7000-7999.json\n"
     ]
    }
   ],
   "source": [
    "# Get a random playlist\n",
    "item = r.get_random_playlist()"
   ]
  },
  {
   "cell_type": "code",
   "execution_count": 10,
   "id": "758dec48",
   "metadata": {},
   "outputs": [
    {
     "name": "stdout",
     "output_type": "stream",
     "text": [
      "Playlist ID: 7009\n",
      "Playlist Length: 20\n"
     ]
    },
    {
     "data": {
      "text/plain": [
       "['Sneakin’---Drake',\n",
       " 'Gassed Up---Nebu Kiniza',\n",
       " 'You Was Right---Lil Uzi Vert',\n",
       " 'Fire Squad - Live---J. Cole',\n",
       " 'A Tale of 2 Citiez - Live---J. Cole',\n",
       " 'Deja Vu---J. Cole',\n",
       " '20 Joints---Berner',\n",
       " 'Moves---Big Sean',\n",
       " 'Look At Me!---XXXTENTACION',\n",
       " 'Rent Money---Future',\n",
       " 'No Heart---21 Savage',\n",
       " 'Dear Mama---2Pac',\n",
       " 'Neighbors---J. Cole',\n",
       " '4 Your Eyez Only---J. Cole',\n",
       " 'Miss America---J. Cole',\n",
       " 'Like Toy Soldiers---Eminem',\n",
       " 'T-Shirt---Migos',\n",
       " 'Get Your Walk On---Xzibit',\n",
       " 'X---Xzibit',\n",
       " 'I Need A Doctor---Dr. Dre']"
      ]
     },
     "execution_count": 10,
     "metadata": {},
     "output_type": "execute_result"
    }
   ],
   "source": [
    "# Get playlist information\n",
    "item, original_tracks, seeds = r.get_playlist_info(item)\n",
    "original_tracks"
   ]
  },
  {
   "cell_type": "code",
   "execution_count": 11,
   "id": "e5e156a1",
   "metadata": {},
   "outputs": [
    {
     "data": {
      "text/plain": [
       "['47jNy3vE0aBM8nWWFAZaX2',\n",
       " '47jNy3vE0aBM8nWWFAZaX2',\n",
       " '5XlpERwWF8SuVUL9AghEIh',\n",
       " '6jalstnZd8hEJuLGFFjL9L',\n",
       " '5rSH2YlI18D4mmgP0tQbs9',\n",
       " '7dEYcnW1YSBpiKofefCFCf',\n",
       " '1eLU27PPFxBhbp1CBjPh9J',\n",
       " '3hxsFtkwEx6rZ310ROjwPD',\n",
       " '08azaGQ1YKWvajMDARPSeZ',\n",
       " '7dEYcnW1YSBpiKofefCFCf',\n",
       " '63Zqn50wQCs8G1fci05C8a',\n",
       " '0pSaDwrMLM7F82LWJg9v6s',\n",
       " '20WsdoJsGsjVOLtA0GB5hL',\n",
       " '5XlpERwWF8SuVUL9AghEIh',\n",
       " '7bFElqzAlHXnnINRBXRQbK',\n",
       " '7mcPcohfR96oIGbv6dxS3Q',\n",
       " '5XlpERwWF8SuVUL9AghEIh',\n",
       " '71u5SjnkSQgzIt1UzHchbi',\n",
       " '7crrp07AQujRvbOoIGitk8',\n",
       " '6B0FIZm6Xs4qYRyTjsuU0Y']"
      ]
     },
     "execution_count": 11,
     "metadata": {},
     "output_type": "execute_result"
    }
   ],
   "source": [
    "# Get recommendations\n",
    "uri_recs = r.recommend(seeds, dgl_G, z, pred, neigh, feat_data, uri_map)\n",
    "uri_recs"
   ]
  },
  {
   "cell_type": "code",
   "execution_count": 12,
   "id": "c8020ff5",
   "metadata": {},
   "outputs": [],
   "source": [
    "# Translate to Song Names\n",
    "client_id = ''\n",
    "client_secret = ''\n",
    "\n",
    "spotify = SpotifyAPI(client_id, client_secret)"
   ]
  },
  {
   "cell_type": "code",
   "execution_count": 13,
   "id": "952c2353",
   "metadata": {},
   "outputs": [
    {
     "ename": "Exception",
     "evalue": "Could not authenticate client.",
     "output_type": "error",
     "traceback": [
      "\u001b[0;31m---------------------------------------------------------------------------\u001b[0m",
      "\u001b[0;31mException\u001b[0m                                 Traceback (most recent call last)",
      "\u001b[0;32m<timed exec>\u001b[0m in \u001b[0;36m<module>\u001b[0;34m\u001b[0m\n",
      "\u001b[0;32m~/GNN-Spotify-Recommender-Project/src/dgl_graphsage/recommend.py\u001b[0m in \u001b[0;36mget_rec_names\u001b[0;34m(uri_recs, api, sleep_time)\u001b[0m\n\u001b[1;32m    232\u001b[0m     \u001b[0mrec_track_names\u001b[0m \u001b[0;34m=\u001b[0m \u001b[0;34m[\u001b[0m\u001b[0;34m]\u001b[0m\u001b[0;34m\u001b[0m\u001b[0;34m\u001b[0m\u001b[0m\n\u001b[1;32m    233\u001b[0m     \u001b[0;32mfor\u001b[0m \u001b[0mi\u001b[0m \u001b[0;32min\u001b[0m \u001b[0muri_recs\u001b[0m\u001b[0;34m:\u001b[0m\u001b[0;34m\u001b[0m\u001b[0;34m\u001b[0m\u001b[0m\n\u001b[0;32m--> 234\u001b[0;31m         \u001b[0mone\u001b[0m \u001b[0;34m=\u001b[0m \u001b[0mget_data_spotify\u001b[0m\u001b[0;34m(\u001b[0m\u001b[0mi\u001b[0m\u001b[0;34m,\u001b[0m \u001b[0mapi\u001b[0m\u001b[0;34m,\u001b[0m \u001b[0;36m1\u001b[0m\u001b[0;34m)\u001b[0m\u001b[0;34m\u001b[0m\u001b[0;34m\u001b[0m\u001b[0m\n\u001b[0m\u001b[1;32m    235\u001b[0m         \u001b[0mtrackname\u001b[0m \u001b[0;34m=\u001b[0m \u001b[0mone\u001b[0m\u001b[0;34m[\u001b[0m\u001b[0;34m'tracks'\u001b[0m\u001b[0;34m]\u001b[0m\u001b[0;34m[\u001b[0m\u001b[0;36m0\u001b[0m\u001b[0;34m]\u001b[0m\u001b[0;34m[\u001b[0m\u001b[0;34m'name'\u001b[0m\u001b[0;34m]\u001b[0m\u001b[0;34m\u001b[0m\u001b[0;34m\u001b[0m\u001b[0m\n\u001b[1;32m    236\u001b[0m \u001b[0;34m\u001b[0m\u001b[0m\n",
      "\u001b[0;32m~/GNN-Spotify-Recommender-Project/src/dgl_graphsage/recommend.py\u001b[0m in \u001b[0;36mget_data_spotify\u001b[0;34m(query, api, num)\u001b[0m\n\u001b[1;32m    226\u001b[0m \u001b[0;34m\u001b[0m\u001b[0m\n\u001b[1;32m    227\u001b[0m \u001b[0;32mdef\u001b[0m \u001b[0mget_data_spotify\u001b[0m\u001b[0;34m(\u001b[0m\u001b[0mquery\u001b[0m\u001b[0;34m,\u001b[0m \u001b[0mapi\u001b[0m\u001b[0;34m,\u001b[0m \u001b[0mnum\u001b[0m\u001b[0;34m)\u001b[0m\u001b[0;34m:\u001b[0m\u001b[0;34m\u001b[0m\u001b[0;34m\u001b[0m\u001b[0m\n\u001b[0;32m--> 228\u001b[0;31m     \u001b[0mchunk\u001b[0m \u001b[0;34m=\u001b[0m \u001b[0mapi\u001b[0m\u001b[0;34m.\u001b[0m\u001b[0mget_resource\u001b[0m\u001b[0;34m(\u001b[0m\u001b[0mquery\u001b[0m\u001b[0;34m,\u001b[0m \u001b[0;34m'tracks'\u001b[0m\u001b[0;34m,\u001b[0m \u001b[0;34m'v1'\u001b[0m\u001b[0;34m)\u001b[0m\u001b[0;34m\u001b[0m\u001b[0;34m\u001b[0m\u001b[0m\n\u001b[0m\u001b[1;32m    229\u001b[0m     \u001b[0;32mreturn\u001b[0m \u001b[0mchunk\u001b[0m\u001b[0;34m\u001b[0m\u001b[0;34m\u001b[0m\u001b[0m\n\u001b[1;32m    230\u001b[0m \u001b[0;34m\u001b[0m\u001b[0m\n",
      "\u001b[0;32m~/GNN-Spotify-Recommender-Project/src/dgl_graphsage/../api/spotifyAPI.py\u001b[0m in \u001b[0;36mget_resource\u001b[0;34m(self, lookup_id, resource_type, version)\u001b[0m\n\u001b[1;32m     87\u001b[0m     \u001b[0;32mdef\u001b[0m \u001b[0mget_resource\u001b[0m\u001b[0;34m(\u001b[0m\u001b[0mself\u001b[0m\u001b[0;34m,\u001b[0m \u001b[0mlookup_id\u001b[0m\u001b[0;34m,\u001b[0m \u001b[0mresource_type\u001b[0m\u001b[0;34m=\u001b[0m\u001b[0;34m'albums'\u001b[0m\u001b[0;34m,\u001b[0m \u001b[0mversion\u001b[0m\u001b[0;34m=\u001b[0m\u001b[0;34m'v1'\u001b[0m\u001b[0;34m)\u001b[0m\u001b[0;34m:\u001b[0m\u001b[0;34m\u001b[0m\u001b[0;34m\u001b[0m\u001b[0m\n\u001b[1;32m     88\u001b[0m         \u001b[0mendpoint\u001b[0m \u001b[0;34m=\u001b[0m \u001b[0;34mf\"https://api.spotify.com/{version}/{resource_type}?ids={lookup_id}\"\u001b[0m\u001b[0;34m\u001b[0m\u001b[0;34m\u001b[0m\u001b[0m\n\u001b[0;32m---> 89\u001b[0;31m         \u001b[0mheaders\u001b[0m \u001b[0;34m=\u001b[0m \u001b[0mself\u001b[0m\u001b[0;34m.\u001b[0m\u001b[0mget_resource_header\u001b[0m\u001b[0;34m(\u001b[0m\u001b[0;34m)\u001b[0m\u001b[0;34m\u001b[0m\u001b[0;34m\u001b[0m\u001b[0m\n\u001b[0m\u001b[1;32m     90\u001b[0m         \u001b[0mr\u001b[0m \u001b[0;34m=\u001b[0m \u001b[0mrequests\u001b[0m\u001b[0;34m.\u001b[0m\u001b[0mget\u001b[0m\u001b[0;34m(\u001b[0m\u001b[0mendpoint\u001b[0m\u001b[0;34m,\u001b[0m \u001b[0mheaders\u001b[0m\u001b[0;34m=\u001b[0m\u001b[0mheaders\u001b[0m\u001b[0;34m)\u001b[0m\u001b[0;34m\u001b[0m\u001b[0;34m\u001b[0m\u001b[0m\n\u001b[1;32m     91\u001b[0m         \u001b[0;32mif\u001b[0m \u001b[0mr\u001b[0m\u001b[0;34m.\u001b[0m\u001b[0mstatus_code\u001b[0m \u001b[0;32mnot\u001b[0m \u001b[0;32min\u001b[0m \u001b[0mrange\u001b[0m\u001b[0;34m(\u001b[0m\u001b[0;36m200\u001b[0m\u001b[0;34m,\u001b[0m \u001b[0;36m299\u001b[0m\u001b[0;34m)\u001b[0m\u001b[0;34m:\u001b[0m\u001b[0;34m\u001b[0m\u001b[0;34m\u001b[0m\u001b[0m\n",
      "\u001b[0;32m~/GNN-Spotify-Recommender-Project/src/dgl_graphsage/../api/spotifyAPI.py\u001b[0m in \u001b[0;36mget_resource_header\u001b[0;34m(self)\u001b[0m\n\u001b[1;32m     78\u001b[0m \u001b[0;34m\u001b[0m\u001b[0m\n\u001b[1;32m     79\u001b[0m     \u001b[0;32mdef\u001b[0m \u001b[0mget_resource_header\u001b[0m\u001b[0;34m(\u001b[0m\u001b[0mself\u001b[0m\u001b[0;34m)\u001b[0m\u001b[0;34m:\u001b[0m\u001b[0;34m\u001b[0m\u001b[0;34m\u001b[0m\u001b[0m\n\u001b[0;32m---> 80\u001b[0;31m         \u001b[0maccess_token\u001b[0m \u001b[0;34m=\u001b[0m \u001b[0mself\u001b[0m\u001b[0;34m.\u001b[0m\u001b[0mget_access_token\u001b[0m\u001b[0;34m(\u001b[0m\u001b[0;34m)\u001b[0m\u001b[0;34m\u001b[0m\u001b[0;34m\u001b[0m\u001b[0m\n\u001b[0m\u001b[1;32m     81\u001b[0m         headers = {\n\u001b[1;32m     82\u001b[0m             \u001b[0;34m\"Authorization\"\u001b[0m\u001b[0;34m:\u001b[0m \u001b[0;34mf\"Bearer {access_token}\"\u001b[0m\u001b[0;34m\u001b[0m\u001b[0;34m\u001b[0m\u001b[0m\n",
      "\u001b[0;32m~/GNN-Spotify-Recommender-Project/src/dgl_graphsage/../api/spotifyAPI.py\u001b[0m in \u001b[0;36mget_access_token\u001b[0;34m(self)\u001b[0m\n\u001b[1;32m     70\u001b[0m         \u001b[0mnow\u001b[0m \u001b[0;34m=\u001b[0m \u001b[0mdatetime\u001b[0m\u001b[0;34m.\u001b[0m\u001b[0mdatetime\u001b[0m\u001b[0;34m.\u001b[0m\u001b[0mnow\u001b[0m\u001b[0;34m(\u001b[0m\u001b[0;34m)\u001b[0m\u001b[0;34m\u001b[0m\u001b[0;34m\u001b[0m\u001b[0m\n\u001b[1;32m     71\u001b[0m         \u001b[0;32mif\u001b[0m \u001b[0mexpires\u001b[0m \u001b[0;34m<\u001b[0m \u001b[0mnow\u001b[0m\u001b[0;34m:\u001b[0m\u001b[0;34m\u001b[0m\u001b[0;34m\u001b[0m\u001b[0m\n\u001b[0;32m---> 72\u001b[0;31m             \u001b[0mself\u001b[0m\u001b[0;34m.\u001b[0m\u001b[0mperform_auth\u001b[0m\u001b[0;34m(\u001b[0m\u001b[0;34m)\u001b[0m\u001b[0;34m\u001b[0m\u001b[0;34m\u001b[0m\u001b[0m\n\u001b[0m\u001b[1;32m     73\u001b[0m             \u001b[0;32mreturn\u001b[0m \u001b[0mself\u001b[0m\u001b[0;34m.\u001b[0m\u001b[0mget_access_token\u001b[0m\u001b[0;34m(\u001b[0m\u001b[0;34m)\u001b[0m\u001b[0;34m\u001b[0m\u001b[0;34m\u001b[0m\u001b[0m\n\u001b[1;32m     74\u001b[0m         \u001b[0;32melif\u001b[0m \u001b[0mtoken\u001b[0m \u001b[0;34m==\u001b[0m \u001b[0;32mNone\u001b[0m\u001b[0;34m:\u001b[0m\u001b[0;34m\u001b[0m\u001b[0;34m\u001b[0m\u001b[0m\n",
      "\u001b[0;32m~/GNN-Spotify-Recommender-Project/src/dgl_graphsage/../api/spotifyAPI.py\u001b[0m in \u001b[0;36mperform_auth\u001b[0;34m(self)\u001b[0m\n\u001b[1;32m     53\u001b[0m         \u001b[0mr\u001b[0m \u001b[0;34m=\u001b[0m \u001b[0mrequests\u001b[0m\u001b[0;34m.\u001b[0m\u001b[0mpost\u001b[0m\u001b[0;34m(\u001b[0m\u001b[0mtoken_url\u001b[0m\u001b[0;34m,\u001b[0m \u001b[0mdata\u001b[0m\u001b[0;34m=\u001b[0m\u001b[0mtoken_data\u001b[0m\u001b[0;34m,\u001b[0m \u001b[0mheaders\u001b[0m\u001b[0;34m=\u001b[0m\u001b[0mtoken_headers\u001b[0m\u001b[0;34m)\u001b[0m\u001b[0;34m\u001b[0m\u001b[0;34m\u001b[0m\u001b[0m\n\u001b[1;32m     54\u001b[0m         \u001b[0;32mif\u001b[0m \u001b[0mr\u001b[0m\u001b[0;34m.\u001b[0m\u001b[0mstatus_code\u001b[0m \u001b[0;32mnot\u001b[0m \u001b[0;32min\u001b[0m \u001b[0mrange\u001b[0m\u001b[0;34m(\u001b[0m\u001b[0;36m200\u001b[0m\u001b[0;34m,\u001b[0m \u001b[0;36m299\u001b[0m\u001b[0;34m)\u001b[0m\u001b[0;34m:\u001b[0m\u001b[0;34m\u001b[0m\u001b[0;34m\u001b[0m\u001b[0m\n\u001b[0;32m---> 55\u001b[0;31m             \u001b[0;32mraise\u001b[0m \u001b[0mException\u001b[0m\u001b[0;34m(\u001b[0m\u001b[0;34m\"Could not authenticate client.\"\u001b[0m\u001b[0;34m)\u001b[0m\u001b[0;34m\u001b[0m\u001b[0;34m\u001b[0m\u001b[0m\n\u001b[0m\u001b[1;32m     56\u001b[0m             \u001b[0;31m# return False\u001b[0m\u001b[0;34m\u001b[0m\u001b[0;34m\u001b[0m\u001b[0;34m\u001b[0m\u001b[0m\n\u001b[1;32m     57\u001b[0m         \u001b[0mdata\u001b[0m \u001b[0;34m=\u001b[0m \u001b[0mr\u001b[0m\u001b[0;34m.\u001b[0m\u001b[0mjson\u001b[0m\u001b[0;34m(\u001b[0m\u001b[0;34m)\u001b[0m\u001b[0;34m\u001b[0m\u001b[0;34m\u001b[0m\u001b[0m\n",
      "\u001b[0;31mException\u001b[0m: Could not authenticate client."
     ]
    }
   ],
   "source": [
    "%%time\n",
    "rec_track_names = r.get_rec_names(uri_recs, spotify, 2)"
   ]
  },
  {
   "cell_type": "code",
   "execution_count": 14,
   "id": "13a45169",
   "metadata": {},
   "outputs": [
    {
     "data": {
      "text/plain": [
       "['Sneakin’---Drake',\n",
       " 'Gassed Up---Nebu Kiniza',\n",
       " 'You Was Right---Lil Uzi Vert',\n",
       " 'Fire Squad - Live---J. Cole',\n",
       " 'A Tale of 2 Citiez - Live---J. Cole',\n",
       " 'Deja Vu---J. Cole',\n",
       " '20 Joints---Berner',\n",
       " 'Moves---Big Sean',\n",
       " 'Look At Me!---XXXTENTACION',\n",
       " 'Rent Money---Future',\n",
       " 'No Heart---21 Savage',\n",
       " 'Dear Mama---2Pac',\n",
       " 'Neighbors---J. Cole',\n",
       " '4 Your Eyez Only---J. Cole',\n",
       " 'Miss America---J. Cole',\n",
       " 'Like Toy Soldiers---Eminem',\n",
       " 'T-Shirt---Migos',\n",
       " 'Get Your Walk On---Xzibit',\n",
       " 'X---Xzibit',\n",
       " 'I Need A Doctor---Dr. Dre']"
      ]
     },
     "execution_count": 14,
     "metadata": {},
     "output_type": "execute_result"
    }
   ],
   "source": [
    "original_tracks"
   ]
  },
  {
   "cell_type": "code",
   "execution_count": 18,
   "id": "83bff400",
   "metadata": {},
   "outputs": [
    {
     "data": {
      "text/plain": [
       "Got It (feat. Snoop Dogg)---Boys Noize                                                                           3\n",
       "Bad Meets Evil---Eminem                                                                                          2\n",
       "Ka-Bang! (feat. MF Doom)---CZARFACE                                                                              2\n",
       "Just Life---Mark Battles                                                                                         1\n",
       "Inertia---ARTY                                                                                                   1\n",
       "Love Yourz - Live---J. Cole                                                                                      1\n",
       "1Train (feat. Kendrick Lamar, Joey Bada$$, Yelawolf, Danny Brown, Action Bronson & Big K.R.I.T.)---A$AP Rocky    1\n",
       "Rap Up 2016---Uncle Murda                                                                                        1\n",
       "Do Your Time---Ludacris                                                                                          1\n",
       "Whateva Man---Redman                                                                                             1\n",
       "Pressure---Killer Mike                                                                                           1\n",
       "Dope Bitch Skit---Rick Ross                                                                                      1\n",
       "Lil Bit---K CAMP                                                                                                 1\n",
       "Paul - Skit---Eminem                                                                                             1\n",
       "What's My Name---DMX                                                                                             1\n",
       "Dangerous MC's (feat. Mark Curry, Snoop Dogg & Busta Rhymes) - 2005 Remaster---The Notorious B.I.G.              1\n",
       "dtype: int64"
      ]
     },
     "execution_count": 18,
     "metadata": {},
     "output_type": "execute_result"
    }
   ],
   "source": [
    "pd.Series(rec_track_names).value_counts()"
   ]
  },
  {
   "cell_type": "markdown",
   "id": "27d582a0",
   "metadata": {},
   "source": [
    "Note: We kept repeats because a song that is recommended as the best more than once throughout the playlist should be ranked higher"
   ]
  },
  {
   "cell_type": "code",
   "execution_count": null,
   "id": "139678c1",
   "metadata": {},
   "outputs": [],
   "source": []
  }
 ],
 "metadata": {
  "kernelspec": {
   "display_name": "Python 3 (ipykernel)",
   "language": "python",
   "name": "python3"
  },
  "language_info": {
   "codemirror_mode": {
    "name": "ipython",
    "version": 3
   },
   "file_extension": ".py",
   "mimetype": "text/x-python",
   "name": "python",
   "nbconvert_exporter": "python",
   "pygments_lexer": "ipython3",
   "version": "3.9.5"
  }
 },
 "nbformat": 4,
 "nbformat_minor": 5
}
