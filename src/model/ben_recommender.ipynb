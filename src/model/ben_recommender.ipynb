{
 "cells": [
  {
   "cell_type": "code",
   "execution_count": 1,
   "id": "29df4dc1",
   "metadata": {},
   "outputs": [
    {
     "name": "stderr",
     "output_type": "stream",
     "text": [
      "Using backend: pytorch\n"
     ]
    }
   ],
   "source": [
    "import networkx as nx\n",
    "import pandas as pd\n",
    "import os\n",
    "import random\n",
    "import torch\n",
    "import torch.nn.functional as F\n",
    "import torch.nn as nn\n",
    "from torch.nn import init\n",
    "from torch.autograd import Variable\n",
    "import itertools\n",
    "from sklearn.preprocessing import StandardScaler\n",
    "from sklearn.preprocessing import OneHotEncoder\n",
    "\n",
    "import numpy as np\n",
    "import time\n",
    "import random\n",
    "from sklearn.metrics import f1_score\n",
    "from collections import defaultdict \n",
    "from dgl.nn import SAGEConv\n",
    "import scipy.sparse as sp\n",
    "import json\n",
    "import seaborn as sns\n",
    "import matplotlib.pyplot as plt\n",
    "\n",
    "import dgl\n",
    "from dgl.data.utils import save_graphs\n",
    "from dgl import load_graphs\n",
    "\n",
    "from dgl.nn import SAGEConv\n",
    "import dgl.data"
   ]
  },
  {
   "cell_type": "markdown",
   "id": "e857d0ed",
   "metadata": {},
   "source": [
    "# Recommender Pipeline\n",
    "\n",
    "The recommender will load in the trained model.\n",
    "\n",
    "Select all songs from a playlist, get ranked song recommendations for each\n",
    "\n",
    "Each set of ranked song recommendations will be an edgelist of (source, destination) where destination is the recommended song.\n",
    "\n",
    "Get the highest rank from each song each set of recommendations and rank those\n",
    "\n",
    "Return those songs"
   ]
  },
  {
   "cell_type": "code",
   "execution_count": null,
   "id": "14e2be1a",
   "metadata": {},
   "outputs": [],
   "source": [
    "from collections import defaultdict"
   ]
  },
  {
   "cell_type": "code",
   "execution_count": null,
   "id": "e867500e",
   "metadata": {},
   "outputs": [],
   "source": [
    "fname = (os.path.join(os.path.expanduser('~'), '/teams/DSC180A_FA21_A00/a13group1/data/mpd.slice.0-999.json'))\n",
    "'''\n",
    "Get int ids for each track in playlist\n",
    "'''\n",
    "def pull_tracks(fname, label_to_int):\n",
    "    with open(fname) as f:\n",
    "        data = json.load(f)\n",
    "        item = np.random.choice(data['playlists']) # Get a random playlist to recommend for\n",
    "    \n",
    "    # Get int values from track labels\n",
    "    int_vals = []\n",
    "    for track in item['tracks']:\n",
    "        code = track['track_uri'].replace('spotify:track:', '')\n",
    "        int_vals.append(label_to_int[code])\n",
    "        \n",
    "    return int_vals"
   ]
  },
  {
   "cell_type": "code",
   "execution_count": null,
   "id": "a8686738",
   "metadata": {},
   "outputs": [],
   "source": [
    "'''\n",
    "Create recommendations for each song in the playlist.\n",
    "'''\n",
    "def recommend(int_vals, model):\n",
    "    recs = defaultdict(list) # dictionary of recommendations in form {'id': '(rec1, rank), '(rec2, rank)}\n",
    "    for i in int_vals:\n",
    "        preds = model.predict(i)\n",
    "        for j in preds: # keep only predictions not already in playlist\n",
    "            if j['id'] not in int_vals:\n",
    "                recs[i].append((j['id'], j['rank']))\n",
    "                \n",
    "    return recs"
   ]
  },
  {
   "cell_type": "code",
   "execution_count": null,
   "id": "527cd082",
   "metadata": {},
   "outputs": [],
   "source": [
    "'''\n",
    "Rank all the recommendations, taking the highest recommended song\n",
    "'''\n",
    "def rank(recs):\n",
    "    final = []\n",
    "    for i in recs.keys():\n",
    "        recs[i].sort(key = lambda x:x[1], reverse=True)\n",
    "        # Get highest rated recommendation for each song\n",
    "        final.append(recs[i][0])\n",
    "        \n",
    "    # Sort by best ranks\n",
    "    final.sort(key = lambda x:x[1], reverse=True)\n",
    "    ranked = list(zip(*final))[0]\n",
    "    return ranked"
   ]
  },
  {
   "cell_type": "code",
   "execution_count": null,
   "id": "91636447",
   "metadata": {},
   "outputs": [],
   "source": [
    "'''\n",
    "Decode to song labels\n",
    "'''\n",
    "def decode(ranked, int_to_label):\n",
    "    decoded = []\n",
    "    for i in ranked:\n",
    "        decoded.append(int_to_label[i])\n",
    "    return decoded"
   ]
  },
  {
   "cell_type": "code",
   "execution_count": null,
   "id": "07e4ecd5",
   "metadata": {},
   "outputs": [],
   "source": []
  },
  {
   "cell_type": "code",
   "execution_count": null,
   "id": "1556e286",
   "metadata": {},
   "outputs": [],
   "source": []
  },
  {
   "cell_type": "code",
   "execution_count": 2,
   "id": "df54951c",
   "metadata": {},
   "outputs": [],
   "source": [
    "#%%time\n",
    "#G = bf.load_data(\"data/\", \"Spotify Playlist\", 140, 300, 1000, False)"
   ]
  },
  {
   "cell_type": "code",
   "execution_count": 3,
   "id": "00392ddc",
   "metadata": {},
   "outputs": [
    {
     "data": {
      "text/plain": [
       "True"
      ]
     },
     "execution_count": 3,
     "metadata": {},
     "output_type": "execute_result"
    }
   ],
   "source": [
    "os.path.exists(os.path.join(os.path.expanduser('~'), 'test_save.bin'))"
   ]
  },
  {
   "cell_type": "code",
   "execution_count": 4,
   "id": "2c83a4a3",
   "metadata": {},
   "outputs": [
    {
     "name": "stdout",
     "output_type": "stream",
     "text": [
      "CPU times: user 0 ns, sys: 952 ms, total: 952 ms\n",
      "Wall time: 995 ms\n"
     ]
    }
   ],
   "source": [
    "%%time\n",
    "dglG = load_graphs(os.path.join(os.path.expanduser('~'), 'test_save.bin'))[0][0]"
   ]
  },
  {
   "cell_type": "code",
   "execution_count": 5,
   "id": "455ad249",
   "metadata": {},
   "outputs": [
    {
     "data": {
      "text/plain": [
       "Graph(num_nodes=170089, num_edges=53216794,\n",
       "      ndata_schemes={}\n",
       "      edata_schemes={})"
      ]
     },
     "execution_count": 5,
     "metadata": {},
     "output_type": "execute_result"
    }
   ],
   "source": [
    "dglG"
   ]
  },
  {
   "cell_type": "code",
   "execution_count": null,
   "id": "16a67459",
   "metadata": {},
   "outputs": [],
   "source": [
    "for i in features.columns:\n",
    "    dglG.ndata[i] = torch.tensor(features[i])"
   ]
  },
  {
   "cell_type": "code",
   "execution_count": 6,
   "id": "b4f953dd",
   "metadata": {},
   "outputs": [
    {
     "data": {
      "text/plain": [
       "Graph(num_nodes=170089, num_edges=53216794,\n",
       "      ndata_schemes={}\n",
       "      edata_schemes={})"
      ]
     },
     "execution_count": 6,
     "metadata": {},
     "output_type": "execute_result"
    }
   ],
   "source": [
    "dglG"
   ]
  }
 ],
 "metadata": {
  "kernelspec": {
   "display_name": "Python 3 (ipykernel)",
   "language": "python",
   "name": "python3"
  },
  "language_info": {
   "codemirror_mode": {
    "name": "ipython",
    "version": 3
   },
   "file_extension": ".py",
   "mimetype": "text/x-python",
   "name": "python",
   "nbconvert_exporter": "python",
   "pygments_lexer": "ipython3",
   "version": "3.9.5"
  }
 },
 "nbformat": 4,
 "nbformat_minor": 5
}
