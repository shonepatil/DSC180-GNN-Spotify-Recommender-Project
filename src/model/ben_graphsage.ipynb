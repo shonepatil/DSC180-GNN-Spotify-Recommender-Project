{
 "cells": [
  {
   "cell_type": "code",
   "execution_count": 1,
   "id": "29df4dc1",
   "metadata": {},
   "outputs": [
    {
     "name": "stderr",
     "output_type": "stream",
     "text": [
      "Using backend: pytorch\n"
     ]
    }
   ],
   "source": [
    "import networkx as nx\n",
    "import pandas as pd\n",
    "import os\n",
    "import random\n",
    "import torch\n",
    "import torch.nn.functional as F\n",
    "import torch.nn as nn\n",
    "from torch.nn import init\n",
    "from torch.autograd import Variable\n",
    "import itertools\n",
    "from sklearn.preprocessing import StandardScaler\n",
    "from sklearn.preprocessing import OneHotEncoder\n",
    "\n",
    "import numpy as np\n",
    "import time\n",
    "import random\n",
    "from sklearn.metrics import f1_score\n",
    "from collections import defaultdict \n",
    "from dgl.nn import SAGEConv\n",
    "import scipy.sparse as sp\n",
    "import json\n",
    "import seaborn as sns\n",
    "import matplotlib.pyplot as plt\n",
    "\n",
    "import dgl\n",
    "from dgl.data.utils import save_graphs\n",
    "from dgl import load_graphs\n",
    "\n",
    "from dgl.nn import SAGEConv\n",
    "import dgl.data"
   ]
  },
  {
   "cell_type": "markdown",
   "id": "e857d0ed",
   "metadata": {},
   "source": [
    "# Loads Graph"
   ]
  },
  {
   "cell_type": "code",
   "execution_count": 2,
   "id": "df54951c",
   "metadata": {},
   "outputs": [],
   "source": [
    "#%%time\n",
    "#G = bf.load_data(\"data/\", \"Spotify Playlist\", 140, 300, 1000, False)"
   ]
  },
  {
   "cell_type": "code",
   "execution_count": 3,
   "id": "00392ddc",
   "metadata": {},
   "outputs": [
    {
     "data": {
      "text/plain": [
       "True"
      ]
     },
     "execution_count": 3,
     "metadata": {},
     "output_type": "execute_result"
    }
   ],
   "source": [
    "os.path.exists(os.path.join(os.path.expanduser('~'), 'test_save.bin'))"
   ]
  },
  {
   "cell_type": "code",
   "execution_count": 4,
   "id": "2c83a4a3",
   "metadata": {},
   "outputs": [
    {
     "name": "stdout",
     "output_type": "stream",
     "text": [
      "CPU times: user 0 ns, sys: 952 ms, total: 952 ms\n",
      "Wall time: 995 ms\n"
     ]
    }
   ],
   "source": [
    "%%time\n",
    "dglG = load_graphs(os.path.join(os.path.expanduser('~'), 'test_save.bin'))[0][0]"
   ]
  },
  {
   "cell_type": "code",
   "execution_count": 5,
   "id": "455ad249",
   "metadata": {},
   "outputs": [
    {
     "data": {
      "text/plain": [
       "Graph(num_nodes=170089, num_edges=53216794,\n",
       "      ndata_schemes={}\n",
       "      edata_schemes={})"
      ]
     },
     "execution_count": 5,
     "metadata": {},
     "output_type": "execute_result"
    }
   ],
   "source": [
    "dglG"
   ]
  },
  {
   "cell_type": "code",
   "execution_count": null,
   "id": "16a67459",
   "metadata": {},
   "outputs": [],
   "source": [
    "for i in features.columns:\n",
    "    dglG.ndata[i] = torch.tensor(features[i])"
   ]
  },
  {
   "cell_type": "code",
   "execution_count": 6,
   "id": "b4f953dd",
   "metadata": {},
   "outputs": [
    {
     "data": {
      "text/plain": [
       "Graph(num_nodes=170089, num_edges=53216794,\n",
       "      ndata_schemes={}\n",
       "      edata_schemes={})"
      ]
     },
     "execution_count": 6,
     "metadata": {},
     "output_type": "execute_result"
    }
   ],
   "source": [
    "dglG"
   ]
  },
  {
   "cell_type": "code",
   "execution_count": null,
   "id": "3b6f7b6b",
   "metadata": {},
   "outputs": [],
   "source": []
  },
  {
   "cell_type": "markdown",
   "id": "2f03e46b",
   "metadata": {},
   "source": [
    "# Edge Splitting"
   ]
  },
  {
   "cell_type": "markdown",
   "id": "19b2e5da",
   "metadata": {},
   "source": [
    "### Positive Edges"
   ]
  },
  {
   "cell_type": "code",
   "execution_count": 7,
   "id": "e6d798bf",
   "metadata": {},
   "outputs": [],
   "source": [
    "# Split edge set for training and testing\n",
    "u, v = dglG.edges()"
   ]
  },
  {
   "cell_type": "code",
   "execution_count": 8,
   "id": "80f35341",
   "metadata": {},
   "outputs": [],
   "source": [
    "eids = np.arange(dglG.number_of_edges())\n"
   ]
  },
  {
   "cell_type": "code",
   "execution_count": 9,
   "id": "b4c1d79a",
   "metadata": {},
   "outputs": [],
   "source": [
    "eids = np.random.permutation(eids)\n"
   ]
  },
  {
   "cell_type": "code",
   "execution_count": 10,
   "id": "89f91a65",
   "metadata": {},
   "outputs": [],
   "source": [
    "test_size = int(len(eids) * 0.1)\n"
   ]
  },
  {
   "cell_type": "code",
   "execution_count": 11,
   "id": "589f03f3",
   "metadata": {},
   "outputs": [],
   "source": [
    "train_size = dglG.number_of_edges() - test_size\n"
   ]
  },
  {
   "cell_type": "code",
   "execution_count": 12,
   "id": "a3f18234",
   "metadata": {},
   "outputs": [],
   "source": [
    "test_pos_u, test_pos_v = u[eids[:test_size]], v[eids[:test_size]]\n"
   ]
  },
  {
   "cell_type": "code",
   "execution_count": 13,
   "id": "2730470f",
   "metadata": {},
   "outputs": [],
   "source": [
    "train_pos_u, train_pos_v = u[eids[test_size:]], v[eids[test_size:]]\n"
   ]
  },
  {
   "cell_type": "markdown",
   "id": "7420fadb",
   "metadata": {},
   "source": [
    "### Negative Edges\n",
    "Find all negative edges and split them for training and testing"
   ]
  },
  {
   "cell_type": "code",
   "execution_count": 15,
   "id": "346eae1f",
   "metadata": {},
   "outputs": [],
   "source": [
    "adj = sp.coo_matrix((np.ones(len(u)), (u.numpy(), v.numpy())))\n"
   ]
  },
  {
   "cell_type": "code",
   "execution_count": 25,
   "id": "a740ab92",
   "metadata": {},
   "outputs": [
    {
     "data": {
      "text/plain": [
       "28930267921"
      ]
     },
     "execution_count": 25,
     "metadata": {},
     "output_type": "execute_result"
    }
   ],
   "source": [
    "170089 * 170089"
   ]
  },
  {
   "cell_type": "code",
   "execution_count": null,
   "id": "c6fdb61e",
   "metadata": {},
   "outputs": [],
   "source": [
    "adj.toarray()"
   ]
  },
  {
   "cell_type": "code",
   "execution_count": 17,
   "id": "6ca28a1d",
   "metadata": {},
   "outputs": [
    {
     "ename": "NotImplementedError",
     "evalue": "subtracting a sparse matrix from a nonzero scalar is not supported",
     "output_type": "error",
     "traceback": [
      "\u001b[0;31m---------------------------------------------------------------------------\u001b[0m",
      "\u001b[0;31mNotImplementedError\u001b[0m                       Traceback (most recent call last)",
      "\u001b[0;32m/tmp/ipykernel_1085/2836609285.py\u001b[0m in \u001b[0;36m<module>\u001b[0;34m\u001b[0m\n\u001b[0;32m----> 1\u001b[0;31m \u001b[0madj_neg\u001b[0m \u001b[0;34m=\u001b[0m \u001b[0;36m1\u001b[0m \u001b[0;34m-\u001b[0m \u001b[0madj\u001b[0m \u001b[0;34m-\u001b[0m \u001b[0mnp\u001b[0m\u001b[0;34m.\u001b[0m\u001b[0meye\u001b[0m\u001b[0;34m(\u001b[0m\u001b[0mdglG\u001b[0m\u001b[0;34m.\u001b[0m\u001b[0mnumber_of_nodes\u001b[0m\u001b[0;34m(\u001b[0m\u001b[0;34m)\u001b[0m\u001b[0;34m)\u001b[0m\u001b[0;34m\u001b[0m\u001b[0;34m\u001b[0m\u001b[0m\n\u001b[0m",
      "\u001b[0;32m/opt/conda/lib/python3.9/site-packages/scipy/sparse/base.py\u001b[0m in \u001b[0;36m__rsub__\u001b[0;34m(self, other)\u001b[0m\n\u001b[1;32m    443\u001b[0m             \u001b[0;32mif\u001b[0m \u001b[0mother\u001b[0m \u001b[0;34m==\u001b[0m \u001b[0;36m0\u001b[0m\u001b[0;34m:\u001b[0m\u001b[0;34m\u001b[0m\u001b[0;34m\u001b[0m\u001b[0m\n\u001b[1;32m    444\u001b[0m                 \u001b[0;32mreturn\u001b[0m \u001b[0;34m-\u001b[0m\u001b[0mself\u001b[0m\u001b[0;34m.\u001b[0m\u001b[0mcopy\u001b[0m\u001b[0;34m(\u001b[0m\u001b[0;34m)\u001b[0m\u001b[0;34m\u001b[0m\u001b[0;34m\u001b[0m\u001b[0m\n\u001b[0;32m--> 445\u001b[0;31m             raise NotImplementedError('subtracting a sparse matrix from a '\n\u001b[0m\u001b[1;32m    446\u001b[0m                                       'nonzero scalar is not supported')\n\u001b[1;32m    447\u001b[0m         \u001b[0;32melif\u001b[0m \u001b[0misdense\u001b[0m\u001b[0;34m(\u001b[0m\u001b[0mother\u001b[0m\u001b[0;34m)\u001b[0m\u001b[0;34m:\u001b[0m\u001b[0;34m\u001b[0m\u001b[0;34m\u001b[0m\u001b[0m\n",
      "\u001b[0;31mNotImplementedError\u001b[0m: subtracting a sparse matrix from a nonzero scalar is not supported"
     ]
    }
   ],
   "source": [
    "adj_neg = 1 - adj - np.eye(dglG.number_of_nodes())\n"
   ]
  },
  {
   "cell_type": "code",
   "execution_count": null,
   "id": "4ef57339",
   "metadata": {},
   "outputs": [],
   "source": [
    "neg_u, neg_v = np.where(adj_neg != 0)\n"
   ]
  },
  {
   "cell_type": "code",
   "execution_count": null,
   "id": "304d761e",
   "metadata": {},
   "outputs": [],
   "source": [
    "neg_eids = np.random.choice(len(neg_u), dglG.number_of_edges() // 2)\n"
   ]
  },
  {
   "cell_type": "code",
   "execution_count": null,
   "id": "301857c0",
   "metadata": {},
   "outputs": [],
   "source": [
    "test_neg_u, test_neg_v = neg_u[neg_eids[:test_size]], neg_v[neg_eids[:test_size]]\n"
   ]
  },
  {
   "cell_type": "code",
   "execution_count": null,
   "id": "35a63032",
   "metadata": {},
   "outputs": [],
   "source": [
    "train_neg_u, train_neg_v = neg_u[neg_eids[test_size:]], neg_v[neg_eids[test_size:]]"
   ]
  },
  {
   "cell_type": "code",
   "execution_count": null,
   "id": "76a61250",
   "metadata": {},
   "outputs": [],
   "source": [
    "train_g = dgl.remove_edges(dglG, eids[:test_size])"
   ]
  },
  {
   "cell_type": "code",
   "execution_count": null,
   "id": "f497c7ed",
   "metadata": {},
   "outputs": [],
   "source": [
    "train_pos_g = dgl.graph((train_pos_u, train_pos_v), num_nodes=dglG.number_of_nodes())\n",
    "#train_neg_g = dgl.graph((train_neg_u, train_neg_v), num_nodes=dglG.number_of_nodes())\n",
    "\n",
    "test_pos_g = dgl.graph((test_pos_u, test_pos_v), num_nodes=dglG.number_of_nodes())\n",
    "#test_neg_g = dgl.graph((test_neg_u, test_neg_v), num_nodes=dglG.number_of_nodes())"
   ]
  },
  {
   "cell_type": "code",
   "execution_count": null,
   "id": "68982c3b",
   "metadata": {},
   "outputs": [],
   "source": [
    "class GraphSAGE(nn.Module):\n",
    "    def __init__(self, in_feats, h_feats):\n",
    "        super(GraphSAGE, self).__init__()\n",
    "        self.conv1 = SAGEConv(in_feats, h_feats, 'mean')\n",
    "        self.conv2 = SAGEConv(h_feats, h_feats, 'mean')\n",
    "\n",
    "    def forward(self, g, in_feat):\n",
    "        h = self.conv1(g, in_feat)\n",
    "        h = F.relu(h)\n",
    "        h = self.conv2(g, h)\n",
    "        return h"
   ]
  },
  {
   "cell_type": "code",
   "execution_count": null,
   "id": "b25b6f84",
   "metadata": {},
   "outputs": [],
   "source": [
    "import dgl.function as fn\n",
    "\n",
    "class DotPredictor(nn.Module):\n",
    "    def forward(self, g, h):\n",
    "        with g.local_scope():\n",
    "            g.ndata['h'] = h\n",
    "            # Compute a new edge feature named 'score' by a dot-product between the\n",
    "            # source node feature 'h' and destination node feature 'h'.\n",
    "            g.apply_edges(fn.u_dot_v('h', 'h', 'score'))\n",
    "            # u_dot_v returns a 1-element vector for each edge so you need to squeeze it.\n",
    "            return g.edata['score'][:, 0]\n"
   ]
  },
  {
   "cell_type": "code",
   "execution_count": null,
   "id": "84b0b3b0",
   "metadata": {},
   "outputs": [],
   "source": [
    "class MLPPredictor(nn.Module):\n",
    "    def __init__(self, h_feats):\n",
    "        super().__init__()\n",
    "        self.W1 = nn.Linear(h_feats * 2, h_feats)\n",
    "        self.W2 = nn.Linear(h_feats, 1)\n",
    "\n",
    "    def apply_edges(self, edges):\n",
    "        \"\"\"\n",
    "        Computes a scalar score for each edge of the given graph.\n",
    "\n",
    "        Parameters\n",
    "        ----------\n",
    "        edges :\n",
    "            Has three members ``src``, ``dst`` and ``data``, each of\n",
    "            which is a dictionary representing the features of the\n",
    "            source nodes, the destination nodes, and the edges\n",
    "            themselves.\n",
    "\n",
    "        Returns\n",
    "        -------\n",
    "        dict\n",
    "            A dictionary of new edge features.\n",
    "        \"\"\"\n",
    "        h = torch.cat([edges.src['h'], edges.dst['h']], 1)\n",
    "        return {'score': self.W2(F.relu(self.W1(h))).squeeze(1)}\n",
    "\n",
    "    def forward(self, g, h):\n",
    "        with g.local_scope():\n",
    "            g.ndata['h'] = h\n",
    "            g.apply_edges(self.apply_edges)\n",
    "            return g.edata['score']\n"
   ]
  },
  {
   "cell_type": "code",
   "execution_count": null,
   "id": "71793018",
   "metadata": {},
   "outputs": [],
   "source": [
    "g.ndata['feat']"
   ]
  },
  {
   "cell_type": "code",
   "execution_count": null,
   "id": "39bf025c",
   "metadata": {},
   "outputs": [],
   "source": [
    "model = GraphSAGE(features_arr.ndata['feat'].shape[1], 16)\n",
    "# You can replace DotPredictor with MLPPredictor.\n",
    "#pred = MLPPredictor(16)\n",
    "pred = DotPredictor()\n",
    "\n",
    "def compute_loss(pos_score, neg_score):\n",
    "    scores = torch.cat([pos_score, neg_score])\n",
    "    labels = torch.cat([torch.ones(pos_score.shape[0]), torch.zeros(neg_score.shape[0])])\n",
    "    return F.binary_cross_entropy_with_logits(scores, labels)\n",
    "\n",
    "def compute_auc(pos_score, neg_score):\n",
    "    scores = torch.cat([pos_score, neg_score]).numpy()\n",
    "    labels = torch.cat(\n",
    "        [torch.ones(pos_score.shape[0]), torch.zeros(neg_score.shape[0])]).numpy()\n",
    "    return roc_auc_score(labels, scores)\n"
   ]
  },
  {
   "cell_type": "code",
   "execution_count": null,
   "id": "26a1feac",
   "metadata": {},
   "outputs": [],
   "source": [
    "# ----------- 3. set up loss and optimizer -------------- #\n",
    "# in this case, loss will in training loop\n",
    "optimizer = torch.optim.Adam(itertools.chain(model.parameters(), pred.parameters()), lr=0.01)\n",
    "\n",
    "# ----------- 4. training -------------------------------- #\n",
    "all_logits = []\n",
    "for e in range(100):\n",
    "    # forward\n",
    "    h = model(train_g, train_g.ndata['feat'])\n",
    "    pos_score = pred(train_pos_g, h)\n",
    "    neg_score = pred(train_neg_g, h)\n",
    "    loss = compute_loss(pos_score, neg_score)\n",
    "\n",
    "    # backward\n",
    "    optimizer.zero_grad()\n",
    "    loss.backward()\n",
    "    optimizer.step()\n",
    "\n",
    "    if e % 5 == 0:\n",
    "        print('In epoch {}, loss: {}'.format(e, loss))\n",
    "\n",
    "# ----------- 5. check results ------------------------ #\n",
    "from sklearn.metrics import roc_auc_score\n",
    "with torch.no_grad():\n",
    "    pos_score = pred(test_pos_g, h)\n",
    "    neg_score = pred(test_neg_g, h)\n",
    "    print('AUC', compute_auc(pos_score, neg_score))"
   ]
  },
  {
   "cell_type": "code",
   "execution_count": null,
   "id": "042e6011",
   "metadata": {},
   "outputs": [],
   "source": []
  },
  {
   "cell_type": "code",
   "execution_count": null,
   "id": "aae15d22",
   "metadata": {},
   "outputs": [],
   "source": [
    "#G = bf.load_data(\"data/\", \"Spotify Playlist\", 140, 300, 1000, False)"
   ]
  },
  {
   "cell_type": "code",
   "execution_count": null,
   "id": "e17cc5b7",
   "metadata": {},
   "outputs": [],
   "source": []
  }
 ],
 "metadata": {
  "kernelspec": {
   "display_name": "Python 3 (ipykernel)",
   "language": "python",
   "name": "python3"
  },
  "language_info": {
   "codemirror_mode": {
    "name": "ipython",
    "version": 3
   },
   "file_extension": ".py",
   "mimetype": "text/x-python",
   "name": "python",
   "nbconvert_exporter": "python",
   "pygments_lexer": "ipython3",
   "version": "3.9.5"
  }
 },
 "nbformat": 4,
 "nbformat_minor": 5
}
