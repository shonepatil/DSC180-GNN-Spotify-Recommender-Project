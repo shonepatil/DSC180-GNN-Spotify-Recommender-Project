{
 "cells": [
  {
   "cell_type": "code",
   "execution_count": 1,
   "id": "3728e97c",
   "metadata": {},
   "outputs": [
    {
     "name": "stderr",
     "output_type": "stream",
     "text": [
      "Using backend: pytorch\n"
     ]
    }
   ],
   "source": [
    "import networkx as nx\n",
    "import pandas as pd\n",
    "import os\n",
    "import random\n",
    "import torch\n",
    "import torch.nn.functional as F\n",
    "import torch.nn as nn\n",
    "from torch.nn import init\n",
    "from torch.autograd import Variable\n",
    "import itertools\n",
    "from sklearn.preprocessing import StandardScaler\n",
    "from sklearn.preprocessing import OneHotEncoder\n",
    "\n",
    "import numpy as np\n",
    "import time\n",
    "import random\n",
    "from sklearn.metrics import f1_score\n",
    "from collections import defaultdict \n",
    "from dgl.nn import SAGEConv\n",
    "import scipy.sparse as sp\n",
    "import json\n",
    "import seaborn as sns\n",
    "import matplotlib.pyplot as plt\n",
    "\n",
    "import dgl\n",
    "from dgl.data.utils import save_graphs\n",
    "from dgl import load_graphs\n",
    "\n",
    "from dgl.nn import SAGEConv\n",
    "import dgl.data"
   ]
  },
  {
   "cell_type": "markdown",
   "id": "d3eb3976",
   "metadata": {},
   "source": [
    "# Loads Graph"
   ]
  },
  {
   "cell_type": "code",
   "execution_count": null,
   "id": "132fbb0a",
   "metadata": {},
   "outputs": [],
   "source": [
    "#%%time\n",
    "#G = bf.load_data(\"data/\", \"Spotify Playlist\", 140, 300, 1000, False)"
   ]
  },
  {
   "cell_type": "code",
   "execution_count": null,
   "id": "1b3e9a79",
   "metadata": {},
   "outputs": [],
   "source": [
    "%%time\n",
    "dglG = load_graphs('./test_save.bin')[0][0]"
   ]
  },
  {
   "cell_type": "code",
   "execution_count": null,
   "id": "671e53eb",
   "metadata": {},
   "outputs": [],
   "source": [
    "dglG"
   ]
  },
  {
   "cell_type": "code",
   "execution_count": null,
   "id": "b419d04a",
   "metadata": {},
   "outputs": [],
   "source": [
    "for i in features.columns:\n",
    "    dglG.ndata[i] = torch.tensor(features[i])"
   ]
  },
  {
   "cell_type": "code",
   "execution_count": null,
   "id": "ea2aef4a",
   "metadata": {},
   "outputs": [],
   "source": [
    "dglG"
   ]
  },
  {
   "cell_type": "code",
   "execution_count": null,
   "id": "8feb35d6",
   "metadata": {},
   "outputs": [],
   "source": []
  },
  {
   "cell_type": "markdown",
   "id": "2287f14c",
   "metadata": {},
   "source": [
    "# Edge Splitting"
   ]
  },
  {
   "cell_type": "code",
   "execution_count": null,
   "id": "b5bef202",
   "metadata": {},
   "outputs": [],
   "source": [
    "# Split edge set for training and testing\n",
    "u, v = dglG.edges()"
   ]
  },
  {
   "cell_type": "code",
   "execution_count": null,
   "id": "eda9e95d",
   "metadata": {},
   "outputs": [],
   "source": [
    "eids = np.arange(dglG.number_of_edges())\n"
   ]
  },
  {
   "cell_type": "code",
   "execution_count": null,
   "id": "08f3f9a5",
   "metadata": {},
   "outputs": [],
   "source": [
    "eids = np.random.permutation(eids)\n"
   ]
  },
  {
   "cell_type": "code",
   "execution_count": null,
   "id": "57476d7a",
   "metadata": {},
   "outputs": [],
   "source": [
    "test_size = int(len(eids) * 0.1)\n"
   ]
  },
  {
   "cell_type": "code",
   "execution_count": null,
   "id": "c8afcdf1",
   "metadata": {},
   "outputs": [],
   "source": [
    "train_size = dglG.number_of_edges() - test_size\n"
   ]
  },
  {
   "cell_type": "code",
   "execution_count": null,
   "id": "558ea384",
   "metadata": {},
   "outputs": [],
   "source": [
    "test_pos_u, test_pos_v = u[eids[:test_size]], v[eids[:test_size]]\n"
   ]
  },
  {
   "cell_type": "code",
   "execution_count": null,
   "id": "e7e60de1",
   "metadata": {},
   "outputs": [],
   "source": [
    "train_pos_u, train_pos_v = u[eids[test_size:]], v[eids[test_size:]]\n"
   ]
  },
  {
   "cell_type": "code",
   "execution_count": null,
   "id": "13651beb",
   "metadata": {},
   "outputs": [],
   "source": [
    "# Find all negative edges and split them for training and testing\n"
   ]
  },
  {
   "cell_type": "code",
   "execution_count": null,
   "id": "8935d0ae",
   "metadata": {},
   "outputs": [],
   "source": [
    "adj = sp.coo_matrix((np.ones(len(u)), (u.numpy(), v.numpy())))\n"
   ]
  },
  {
   "cell_type": "code",
   "execution_count": null,
   "id": "e7c0f8d8",
   "metadata": {},
   "outputs": [],
   "source": [
    "#adj_neg = 1 - adj.todense() - np.eye(dglG.number_of_nodes())\n"
   ]
  },
  {
   "cell_type": "code",
   "execution_count": null,
   "id": "15ec1fb2",
   "metadata": {},
   "outputs": [],
   "source": [
    "#neg_u, neg_v = np.where(adj_neg != 0)\n"
   ]
  },
  {
   "cell_type": "code",
   "execution_count": null,
   "id": "ab4e3d70",
   "metadata": {},
   "outputs": [],
   "source": [
    "#neg_eids = np.random.choice(len(neg_u), dglG.number_of_edges() // 2)\n"
   ]
  },
  {
   "cell_type": "code",
   "execution_count": null,
   "id": "23db4f67",
   "metadata": {},
   "outputs": [],
   "source": [
    "#test_neg_u, test_neg_v = neg_u[neg_eids[:test_size]], neg_v[neg_eids[:test_size]]\n"
   ]
  },
  {
   "cell_type": "code",
   "execution_count": null,
   "id": "07db046d",
   "metadata": {},
   "outputs": [],
   "source": [
    "#train_neg_u, train_neg_v = neg_u[neg_eids[test_size:]], neg_v[neg_eids[test_size:]]"
   ]
  },
  {
   "cell_type": "code",
   "execution_count": null,
   "id": "945afe7d",
   "metadata": {},
   "outputs": [],
   "source": [
    "train_g = dgl.remove_edges(dglG, eids[:test_size])"
   ]
  },
  {
   "cell_type": "code",
   "execution_count": null,
   "id": "8883f8bc",
   "metadata": {},
   "outputs": [],
   "source": [
    "train_pos_g = dgl.graph((train_pos_u, train_pos_v), num_nodes=dglG.number_of_nodes())\n",
    "#train_neg_g = dgl.graph((train_neg_u, train_neg_v), num_nodes=dglG.number_of_nodes())\n",
    "\n",
    "test_pos_g = dgl.graph((test_pos_u, test_pos_v), num_nodes=dglG.number_of_nodes())\n",
    "#test_neg_g = dgl.graph((test_neg_u, test_neg_v), num_nodes=dglG.number_of_nodes())"
   ]
  },
  {
   "cell_type": "code",
   "execution_count": null,
   "id": "baa00fc6",
   "metadata": {},
   "outputs": [],
   "source": [
    "class GraphSAGE(nn.Module):\n",
    "    def __init__(self, in_feats, h_feats):\n",
    "        super(GraphSAGE, self).__init__()\n",
    "        self.conv1 = SAGEConv(in_feats, h_feats, 'mean')\n",
    "        self.conv2 = SAGEConv(h_feats, h_feats, 'mean')\n",
    "\n",
    "    def forward(self, g, in_feat):\n",
    "        h = self.conv1(g, in_feat)\n",
    "        h = F.relu(h)\n",
    "        h = self.conv2(g, h)\n",
    "        return h"
   ]
  },
  {
   "cell_type": "code",
   "execution_count": null,
   "id": "39c14563",
   "metadata": {},
   "outputs": [],
   "source": [
    "import dgl.function as fn\n",
    "\n",
    "class DotPredictor(nn.Module):\n",
    "    def forward(self, g, h):\n",
    "        with g.local_scope():\n",
    "            g.ndata['h'] = h\n",
    "            # Compute a new edge feature named 'score' by a dot-product between the\n",
    "            # source node feature 'h' and destination node feature 'h'.\n",
    "            g.apply_edges(fn.u_dot_v('h', 'h', 'score'))\n",
    "            # u_dot_v returns a 1-element vector for each edge so you need to squeeze it.\n",
    "            return g.edata['score'][:, 0]\n"
   ]
  },
  {
   "cell_type": "code",
   "execution_count": null,
   "id": "fc73cbe6",
   "metadata": {},
   "outputs": [],
   "source": [
    "class MLPPredictor(nn.Module):\n",
    "    def __init__(self, h_feats):\n",
    "        super().__init__()\n",
    "        self.W1 = nn.Linear(h_feats * 2, h_feats)\n",
    "        self.W2 = nn.Linear(h_feats, 1)\n",
    "\n",
    "    def apply_edges(self, edges):\n",
    "        \"\"\"\n",
    "        Computes a scalar score for each edge of the given graph.\n",
    "\n",
    "        Parameters\n",
    "        ----------\n",
    "        edges :\n",
    "            Has three members ``src``, ``dst`` and ``data``, each of\n",
    "            which is a dictionary representing the features of the\n",
    "            source nodes, the destination nodes, and the edges\n",
    "            themselves.\n",
    "\n",
    "        Returns\n",
    "        -------\n",
    "        dict\n",
    "            A dictionary of new edge features.\n",
    "        \"\"\"\n",
    "        h = torch.cat([edges.src['h'], edges.dst['h']], 1)\n",
    "        return {'score': self.W2(F.relu(self.W1(h))).squeeze(1)}\n",
    "\n",
    "    def forward(self, g, h):\n",
    "        with g.local_scope():\n",
    "            g.ndata['h'] = h\n",
    "            g.apply_edges(self.apply_edges)\n",
    "            return g.edata['score']\n"
   ]
  },
  {
   "cell_type": "code",
   "execution_count": null,
   "id": "a316fd74",
   "metadata": {},
   "outputs": [],
   "source": [
    "g.ndata['feat']"
   ]
  },
  {
   "cell_type": "code",
   "execution_count": null,
   "id": "12d5f980",
   "metadata": {},
   "outputs": [],
   "source": [
    "model = GraphSAGE(features_arr.shape[1], 16)\n",
    "# You can replace DotPredictor with MLPPredictor.\n",
    "#pred = MLPPredictor(16)\n",
    "pred = DotPredictor()\n",
    "\n",
    "def compute_loss(pos_score):\n",
    "    scores = ([pos_score])\n",
    "    labels = (torch.ones(pos_score.shape[0]))\n",
    "    return F.binary_cross_entropy_with_logits(scores, labels)\n",
    "\n",
    "def compute_auc(pos_score):\n",
    "    scores = torch.cat([pos_score]).numpy()\n",
    "    labels = torch.cat(\n",
    "        [torch.ones(pos_score.shape[0])]).numpy()\n",
    "    return roc_auc_score(labels, scores)\n"
   ]
  },
  {
   "cell_type": "code",
   "execution_count": null,
   "id": "3d380e43",
   "metadata": {},
   "outputs": [],
   "source": [
    "# ----------- 3. set up loss and optimizer -------------- #\n",
    "# in this case, loss will in training loop\n",
    "optimizer = torch.optim.Adam(itertools.chain(model.parameters(), pred.parameters()), lr=0.01)\n",
    "\n",
    "# ----------- 4. training -------------------------------- #\n",
    "all_logits = []\n",
    "for e in range(100):\n",
    "    # forward\n",
    "    h = model(train_g, torch.tensor)\n",
    "    pos_score = pred(train_pos_g, h)\n",
    "    neg_score = pred(train_neg_g, h)\n",
    "    loss = compute_loss(pos_score, neg_score)\n",
    "\n",
    "    # backward\n",
    "    optimizer.zero_grad()\n",
    "    loss.backward()\n",
    "    optimizer.step()\n",
    "\n",
    "    if e % 5 == 0:\n",
    "        print('In epoch {}, loss: {}'.format(e, loss))\n",
    "\n",
    "# ----------- 5. check results ------------------------ #\n",
    "from sklearn.metrics import roc_auc_score\n",
    "with torch.no_grad():\n",
    "    pos_score = pred(test_pos_g, h)\n",
    "    neg_score = pred(test_neg_g, h)\n",
    "    print('AUC', compute_auc(pos_score, neg_score))"
   ]
  },
  {
   "cell_type": "code",
   "execution_count": null,
   "id": "822231a0",
   "metadata": {},
   "outputs": [],
   "source": []
  },
  {
   "cell_type": "code",
   "execution_count": null,
   "id": "840c22fb",
   "metadata": {},
   "outputs": [],
   "source": [
    "#G = bf.load_data(\"data/\", \"Spotify Playlist\", 140, 300, 1000, False)"
   ]
  },
  {
   "cell_type": "code",
   "execution_count": null,
   "id": "64ec82fd",
   "metadata": {},
   "outputs": [],
   "source": []
  }
 ],
 "metadata": {
  "kernelspec": {
   "display_name": "Python 3 (ipykernel)",
   "language": "python",
   "name": "python3"
  },
  "language_info": {
   "codemirror_mode": {
    "name": "ipython",
    "version": 3
   },
   "file_extension": ".py",
   "mimetype": "text/x-python",
   "name": "python",
   "nbconvert_exporter": "python",
   "pygments_lexer": "ipython3",
   "version": "3.9.5"
  }
 },
 "nbformat": 4,
 "nbformat_minor": 5
}
