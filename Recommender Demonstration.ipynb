{
 "cells": [
  {
   "cell_type": "code",
   "execution_count": 17,
   "id": "400225ac",
   "metadata": {},
   "outputs": [],
   "source": [
    "import sys\n",
    "import time\n",
    "import json\n",
    "sys.path.insert(0, 'src/data')\n",
    "sys.path.insert(0, 'src/dgl_graphsage')\n",
    "\n",
    "import recommend as r\n",
    "from train_updated import train\n",
    "from src.api.spotifyAPI import SpotifyAPI\n",
    "\n",
    "from sklearn.neighbors import NearestNeighbors\n",
    "import pandas as pd"
   ]
  },
  {
   "cell_type": "code",
   "execution_count": 2,
   "id": "bd12870d",
   "metadata": {},
   "outputs": [
    {
     "name": "stdout",
     "output_type": "stream",
     "text": [
      "Loading feature data...\n",
      "Loaded DGL Graph\n",
      "adj list created\n",
      "CPU times: user 2min 38s, sys: 6.91 s, total: 2min 45s\n",
      "Wall time: 2min 45s\n"
     ]
    }
   ],
   "source": [
    "%%time\n",
    "# Loading Graph ~ 3min\n",
    "feat_data, adj_list, dgl_G, uri_map = r.load_double_edge(\"./data/a13group1/features/merged_features.csv\")"
   ]
  },
  {
   "cell_type": "code",
   "execution_count": 3,
   "id": "c3405d91",
   "metadata": {},
   "outputs": [
    {
     "name": "stdout",
     "output_type": "stream",
     "text": [
      "Train pos edge: 26413580\n",
      "Validation pos edge: 518464\n",
      "Cuda enabled: True\n",
      "\n",
      "Training starts:\n",
      "In epoch 1 batch 1, loss: 0.7617809176445007\n",
      "In epoch 1 batch 6, loss: 0.6285180449485779\n",
      "In epoch 1 batch 11, loss: 0.38366028666496277\n",
      "In epoch 1 batch 16, loss: 0.1346568912267685\n",
      "In epoch 1 batch 21, loss: 0.11267966032028198\n",
      "\n",
      "Epoch 1 AUC:  0.4559053349872587\n",
      "In epoch 2 batch 1, loss: 0.14307011663913727\n",
      "In epoch 2 batch 6, loss: 0.15115752816200256\n",
      "In epoch 2 batch 11, loss: 0.13045252859592438\n",
      "In epoch 2 batch 16, loss: 0.11427348107099533\n",
      "In epoch 2 batch 21, loss: 0.10287398099899292\n",
      "\n",
      "Epoch 2 AUC:  0.49749590200129074\n",
      "In epoch 3 batch 1, loss: 0.11056103557348251\n",
      "In epoch 3 batch 6, loss: 0.11047366261482239\n",
      "In epoch 3 batch 11, loss: 0.1061316579580307\n",
      "In epoch 3 batch 16, loss: 0.10686339437961578\n",
      "In epoch 3 batch 21, loss: 0.11026901751756668\n",
      "\n",
      "Epoch 3 AUC:  0.528041579923877\n",
      "In epoch 4 batch 1, loss: 0.10805072635412216\n",
      "In epoch 4 batch 6, loss: 0.10907457023859024\n",
      "In epoch 4 batch 11, loss: 0.10309309512376785\n",
      "In epoch 4 batch 16, loss: 0.1028822734951973\n",
      "In epoch 4 batch 21, loss: 0.10661642998456955\n",
      "\n",
      "Epoch 4 AUC:  0.5588021311429013\n",
      "In epoch 5 batch 1, loss: 0.10191377252340317\n",
      "In epoch 5 batch 6, loss: 0.10884293168783188\n",
      "In epoch 5 batch 11, loss: 0.10788587480783463\n",
      "In epoch 5 batch 16, loss: 0.11024711281061172\n",
      "In epoch 5 batch 21, loss: 0.10444612056016922\n",
      "\n",
      "Epoch 5 AUC:  0.5801325708538235\n",
      "In epoch 6 batch 1, loss: 0.10545305907726288\n",
      "In epoch 6 batch 6, loss: 0.10235415399074554\n",
      "In epoch 6 batch 11, loss: 0.10622885823249817\n",
      "In epoch 6 batch 16, loss: 0.10857190191745758\n",
      "In epoch 6 batch 21, loss: 0.10884100943803787\n",
      "\n",
      "Epoch 6 AUC:  0.5948370520248787\n",
      "In epoch 7 batch 1, loss: 0.10599197447299957\n",
      "In epoch 7 batch 6, loss: 0.10396409779787064\n",
      "In epoch 7 batch 11, loss: 0.10603928565979004\n",
      "In epoch 7 batch 16, loss: 0.10468102991580963\n",
      "In epoch 7 batch 21, loss: 0.10693295300006866\n",
      "\n",
      "Epoch 7 AUC:  0.6056827461808807\n",
      "In epoch 8 batch 1, loss: 0.10264679044485092\n",
      "In epoch 8 batch 6, loss: 0.10526743531227112\n",
      "In epoch 8 batch 11, loss: 0.10282627493143082\n",
      "In epoch 8 batch 16, loss: 0.10773590207099915\n",
      "In epoch 8 batch 21, loss: 0.1095026358962059\n",
      "\n",
      "Epoch 8 AUC:  0.6136678272674807\n",
      "In epoch 9 batch 1, loss: 0.10571948438882828\n",
      "In epoch 9 batch 6, loss: 0.10793272405862808\n",
      "In epoch 9 batch 11, loss: 0.10765806585550308\n",
      "In epoch 9 batch 16, loss: 0.10497964173555374\n",
      "In epoch 9 batch 21, loss: 0.10275056213140488\n",
      "\n",
      "Epoch 9 AUC:  0.619554544552428\n",
      "In epoch 10 batch 1, loss: 0.10347698628902435\n",
      "In epoch 10 batch 6, loss: 0.10900356620550156\n",
      "In epoch 10 batch 11, loss: 0.10982179641723633\n",
      "In epoch 10 batch 16, loss: 0.10627037286758423\n",
      "In epoch 10 batch 21, loss: 0.10551274567842484\n",
      "\n",
      "Epoch 10 AUC:  0.6240858952890326\n",
      "CPU times: user 3min 13s, sys: 8.59 s, total: 3min 22s\n",
      "Wall time: 31.2 s\n"
     ]
    }
   ],
   "source": [
    "%%time\n",
    "# Training the Model. GPU ~ 00:00:40\n",
    "with open('config/model-params.json') as fh:\n",
    "            model_cfg = json.load(fh)\n",
    "model, pred = train(dgl_G, feat_data, adj_list, **model_cfg)\n",
    "\n",
    "# Put everything on CPU\n",
    "model = model.to('cpu')\n",
    "pred = pred.to('cpu')"
   ]
  },
  {
   "cell_type": "code",
   "execution_count": 4,
   "id": "bcacfc62",
   "metadata": {},
   "outputs": [],
   "source": [
    "# Create Embeddings\n",
    "z = model(dgl_G, feat_data)\n",
    "\n",
    "# Create Predictions\n",
    "# In the form of the strength of the connection between source, destination from dgl_G.edges()\n",
    "preds = pred(dgl_G, z)"
   ]
  },
  {
   "cell_type": "code",
   "execution_count": 5,
   "id": "cab2db78",
   "metadata": {},
   "outputs": [
    {
     "data": {
      "text/plain": [
       "NearestNeighbors(n_neighbors=25, radius=0.4)"
      ]
     },
     "execution_count": 5,
     "metadata": {},
     "output_type": "execute_result"
    }
   ],
   "source": [
    "# Create Nearest Neighbors\n",
    "neigh = NearestNeighbors(n_neighbors=25, radius=0.4)\n",
    "neigh.fit(feat_data)"
   ]
  },
  {
   "cell_type": "code",
   "execution_count": 6,
   "id": "37ed1b29",
   "metadata": {},
   "outputs": [
    {
     "name": "stdout",
     "output_type": "stream",
     "text": [
      "/teams/DSC180A_FA21_A00/a13group1/data/mpd.slice.7000-7999.json\n"
     ]
    }
   ],
   "source": [
    "# Get a random playlist\n",
    "item = r.get_random_playlist()"
   ]
  },
  {
   "cell_type": "code",
   "execution_count": 7,
   "id": "758dec48",
   "metadata": {},
   "outputs": [
    {
     "name": "stdout",
     "output_type": "stream",
     "text": [
      "Playlist ID: 7009\n",
      "Playlist Length: 20\n"
     ]
    },
    {
     "data": {
      "text/plain": [
       "['Sneakin’---Drake',\n",
       " 'Gassed Up---Nebu Kiniza',\n",
       " 'You Was Right---Lil Uzi Vert',\n",
       " 'Fire Squad - Live---J. Cole',\n",
       " 'A Tale of 2 Citiez - Live---J. Cole',\n",
       " 'Deja Vu---J. Cole',\n",
       " '20 Joints---Berner',\n",
       " 'Moves---Big Sean',\n",
       " 'Look At Me!---XXXTENTACION',\n",
       " 'Rent Money---Future',\n",
       " 'No Heart---21 Savage',\n",
       " 'Dear Mama---2Pac',\n",
       " 'Neighbors---J. Cole',\n",
       " '4 Your Eyez Only---J. Cole',\n",
       " 'Miss America---J. Cole',\n",
       " 'Like Toy Soldiers---Eminem',\n",
       " 'T-Shirt---Migos',\n",
       " 'Get Your Walk On---Xzibit',\n",
       " 'X---Xzibit',\n",
       " 'I Need A Doctor---Dr. Dre']"
      ]
     },
     "execution_count": 7,
     "metadata": {},
     "output_type": "execute_result"
    }
   ],
   "source": [
    "# Get playlist information\n",
    "item, original_tracks, seeds = r.get_playlist_info(item)\n",
    "original_tracks"
   ]
  },
  {
   "cell_type": "code",
   "execution_count": 8,
   "id": "e5e156a1",
   "metadata": {},
   "outputs": [
    {
     "data": {
      "text/plain": [
       "['3hxsFtkwEx6rZ310ROjwPD',\n",
       " '7nQFMZ3IbTFeIA8RxRnzBy',\n",
       " '6B0FIZm6Xs4qYRyTjsuU0Y',\n",
       " '6jalstnZd8hEJuLGFFjL9L',\n",
       " '6EaJ6rsAqrcfsEhKzrtK9i',\n",
       " '7dEYcnW1YSBpiKofefCFCf',\n",
       " '1eLU27PPFxBhbp1CBjPh9J',\n",
       " '3hxsFtkwEx6rZ310ROjwPD',\n",
       " '08azaGQ1YKWvajMDARPSeZ',\n",
       " '7dEYcnW1YSBpiKofefCFCf',\n",
       " '5hzrBGIoRlsein6TvuahVd',\n",
       " '0pSaDwrMLM7F82LWJg9v6s',\n",
       " '4sHEykAZCmyugZQBJZ2GKu',\n",
       " '5XlpERwWF8SuVUL9AghEIh',\n",
       " '7bFElqzAlHXnnINRBXRQbK',\n",
       " '7mcPcohfR96oIGbv6dxS3Q',\n",
       " '3hxsFtkwEx6rZ310ROjwPD',\n",
       " '5R5zty5rJHUs5nbpKjzrrD',\n",
       " '7crrp07AQujRvbOoIGitk8',\n",
       " '6B0FIZm6Xs4qYRyTjsuU0Y']"
      ]
     },
     "execution_count": 8,
     "metadata": {},
     "output_type": "execute_result"
    }
   ],
   "source": [
    "# Get recommendations\n",
    "uri_recs = r.recommend(seeds, dgl_G, z, pred, neigh, feat_data, uri_map)\n",
    "uri_recs"
   ]
  },
  {
   "cell_type": "code",
   "execution_count": 12,
   "id": "c8020ff5",
   "metadata": {},
   "outputs": [],
   "source": [
    "# Translate to Song Names\n",
    "client_id = ''\n",
    "client_secret = ''\n",
    "\n",
    "spotify = SpotifyAPI(client_id, client_secret)"
   ]
  },
  {
   "cell_type": "code",
   "execution_count": 13,
   "id": "952c2353",
   "metadata": {},
   "outputs": [
    {
     "name": "stdout",
     "output_type": "stream",
     "text": [
      "CPU times: user 548 ms, sys: 66.9 ms, total: 615 ms\n",
      "Wall time: 44.1 s\n"
     ]
    }
   ],
   "source": [
    "%%time\n",
    "rec_track_names = r.get_rec_names(uri_recs, spotify, 2)"
   ]
  },
  {
   "cell_type": "code",
   "execution_count": 14,
   "id": "13a45169",
   "metadata": {},
   "outputs": [
    {
     "data": {
      "text/plain": [
       "['Sneakin’---Drake',\n",
       " 'Gassed Up---Nebu Kiniza',\n",
       " 'You Was Right---Lil Uzi Vert',\n",
       " 'Fire Squad - Live---J. Cole',\n",
       " 'A Tale of 2 Citiez - Live---J. Cole',\n",
       " 'Deja Vu---J. Cole',\n",
       " '20 Joints---Berner',\n",
       " 'Moves---Big Sean',\n",
       " 'Look At Me!---XXXTENTACION',\n",
       " 'Rent Money---Future',\n",
       " 'No Heart---21 Savage',\n",
       " 'Dear Mama---2Pac',\n",
       " 'Neighbors---J. Cole',\n",
       " '4 Your Eyez Only---J. Cole',\n",
       " 'Miss America---J. Cole',\n",
       " 'Like Toy Soldiers---Eminem',\n",
       " 'T-Shirt---Migos',\n",
       " 'Get Your Walk On---Xzibit',\n",
       " 'X---Xzibit',\n",
       " 'I Need A Doctor---Dr. Dre']"
      ]
     },
     "execution_count": 14,
     "metadata": {},
     "output_type": "execute_result"
    }
   ],
   "source": [
    "original_tracks"
   ]
  },
  {
   "cell_type": "code",
   "execution_count": 18,
   "id": "83bff400",
   "metadata": {},
   "outputs": [
    {
     "data": {
      "text/plain": [
       "Got It (feat. Snoop Dogg)---Boys Noize                                                                           3\n",
       "Bad Meets Evil---Eminem                                                                                          2\n",
       "Ka-Bang! (feat. MF Doom)---CZARFACE                                                                              2\n",
       "Just Life---Mark Battles                                                                                         1\n",
       "Inertia---ARTY                                                                                                   1\n",
       "Love Yourz - Live---J. Cole                                                                                      1\n",
       "1Train (feat. Kendrick Lamar, Joey Bada$$, Yelawolf, Danny Brown, Action Bronson & Big K.R.I.T.)---A$AP Rocky    1\n",
       "Rap Up 2016---Uncle Murda                                                                                        1\n",
       "Do Your Time---Ludacris                                                                                          1\n",
       "Whateva Man---Redman                                                                                             1\n",
       "Pressure---Killer Mike                                                                                           1\n",
       "Dope Bitch Skit---Rick Ross                                                                                      1\n",
       "Lil Bit---K CAMP                                                                                                 1\n",
       "Paul - Skit---Eminem                                                                                             1\n",
       "What's My Name---DMX                                                                                             1\n",
       "Dangerous MC's (feat. Mark Curry, Snoop Dogg & Busta Rhymes) - 2005 Remaster---The Notorious B.I.G.              1\n",
       "dtype: int64"
      ]
     },
     "execution_count": 18,
     "metadata": {},
     "output_type": "execute_result"
    }
   ],
   "source": [
    "pd.Series(rec_track_names).value_counts()"
   ]
  },
  {
   "cell_type": "markdown",
   "id": "27d582a0",
   "metadata": {},
   "source": [
    "Note: We kept repeats because a song that is recommended as the best more than once throughout the playlist should be ranked higher"
   ]
  },
  {
   "cell_type": "code",
   "execution_count": null,
   "id": "139678c1",
   "metadata": {},
   "outputs": [],
   "source": []
  }
 ],
 "metadata": {
  "kernelspec": {
   "display_name": "Python 3 (ipykernel)",
   "language": "python",
   "name": "python3"
  },
  "language_info": {
   "codemirror_mode": {
    "name": "ipython",
    "version": 3
   },
   "file_extension": ".py",
   "mimetype": "text/x-python",
   "name": "python",
   "nbconvert_exporter": "python",
   "pygments_lexer": "ipython3",
   "version": "3.9.5"
  }
 },
 "nbformat": 4,
 "nbformat_minor": 5
}
