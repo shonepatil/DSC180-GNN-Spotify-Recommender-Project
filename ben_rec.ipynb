{
 "cells": [
  {
   "cell_type": "code",
   "execution_count": 1,
   "id": "f16d0e7a",
   "metadata": {},
   "outputs": [
    {
     "name": "stderr",
     "output_type": "stream",
     "text": [
      "Using backend: pytorch\n"
     ]
    }
   ],
   "source": [
    "import sys\n",
    "import json\n",
    "\n",
    "import time\n",
    "sys.path.insert(0, 'src/data')\n",
    "sys.path.insert(0, 'src/dgl_graphsage')\n",
    "\n",
    "from utils import load_data\n",
    "from train_updated import train\n",
    "\n",
    "import torch\n",
    "import torch.nn.functional as F\n",
    "from collections import defaultdict\n",
    "import pandas as pd\n",
    "import os"
   ]
  },
  {
   "cell_type": "code",
   "execution_count": 2,
   "id": "5103dd32",
   "metadata": {},
   "outputs": [],
   "source": [
    "import dgl"
   ]
  },
  {
   "cell_type": "code",
   "execution_count": 3,
   "id": "6968bbb9",
   "metadata": {},
   "outputs": [
    {
     "name": "stdout",
     "output_type": "stream",
     "text": [
      "Loading graph data...\n",
      "Loading feature data...\n",
      "CPU times: user 1min 11s, sys: 13.7 s, total: 1min 25s\n",
      "Wall time: 1min 24s\n"
     ]
    }
   ],
   "source": [
    "%%time\n",
    "with open('config/data-params.json') as fh:\n",
    "    data_cfg = json.load(fh)\n",
    "feat_data, adj_list, dgl_G, uri_map = load_data(**data_cfg)"
   ]
  },
  {
   "cell_type": "code",
   "execution_count": 4,
   "id": "1ff40b35",
   "metadata": {
    "scrolled": true
   },
   "outputs": [
    {
     "name": "stdout",
     "output_type": "stream",
     "text": [
      "Train pos edge: 13206790\n",
      "Validation pos edge: 259232\n",
      "Cuda enabled: True\n",
      "\n",
      "Training starts:\n",
      "In epoch 1 batch 1, loss: 0.6960936784744263\n",
      "In epoch 1 batch 6, loss: 0.6225101947784424\n",
      "In epoch 1 batch 11, loss: 0.5545179843902588\n",
      "In epoch 1 batch 16, loss: 0.44346365332603455\n",
      "In epoch 1 batch 21, loss: 0.27571821212768555\n",
      "\n",
      "Epoch 1 AUC:  0.5113454638963366\n",
      "In epoch 2 batch 1, loss: 0.1918533742427826\n",
      "In epoch 2 batch 6, loss: 0.18685542047023773\n",
      "In epoch 2 batch 11, loss: 0.21220900118350983\n",
      "In epoch 2 batch 16, loss: 0.17590132355690002\n",
      "In epoch 2 batch 21, loss: 0.17722798883914948\n",
      "\n",
      "Epoch 2 AUC:  0.535905347456916\n",
      "In epoch 3 batch 1, loss: 0.1836790293455124\n",
      "In epoch 3 batch 6, loss: 0.17877602577209473\n",
      "In epoch 3 batch 11, loss: 0.17430400848388672\n",
      "In epoch 3 batch 16, loss: 0.18251779675483704\n",
      "In epoch 3 batch 21, loss: 0.16607895493507385\n",
      "\n",
      "Epoch 3 AUC:  0.5616526134095625\n",
      "In epoch 4 batch 1, loss: 0.17148125171661377\n",
      "In epoch 4 batch 6, loss: 0.1789313703775406\n",
      "In epoch 4 batch 11, loss: 0.1794937252998352\n",
      "In epoch 4 batch 16, loss: 0.17879343032836914\n",
      "In epoch 4 batch 21, loss: 0.17487142980098724\n",
      "\n",
      "Epoch 4 AUC:  0.5844538782094093\n",
      "In epoch 5 batch 1, loss: 0.1732322871685028\n",
      "In epoch 5 batch 6, loss: 0.17086194455623627\n",
      "In epoch 5 batch 11, loss: 0.17405569553375244\n",
      "In epoch 5 batch 16, loss: 0.17862433195114136\n",
      "In epoch 5 batch 21, loss: 0.16688032448291779\n",
      "\n",
      "Epoch 5 AUC:  0.6021533839825259\n",
      "In epoch 6 batch 1, loss: 0.1738937795162201\n",
      "In epoch 6 batch 6, loss: 0.1659882366657257\n",
      "In epoch 6 batch 11, loss: 0.16890250146389008\n",
      "In epoch 6 batch 16, loss: 0.17068973183631897\n",
      "In epoch 6 batch 21, loss: 0.16933409869670868\n",
      "\n",
      "Epoch 6 AUC:  0.6151489056582771\n",
      "In epoch 7 batch 1, loss: 0.1670924872159958\n",
      "In epoch 7 batch 6, loss: 0.17255008220672607\n",
      "In epoch 7 batch 11, loss: 0.16934320330619812\n",
      "In epoch 7 batch 16, loss: 0.16948574781417847\n",
      "In epoch 7 batch 21, loss: 0.15896250307559967\n",
      "\n",
      "Epoch 7 AUC:  0.6246566281125536\n",
      "In epoch 8 batch 1, loss: 0.17419548332691193\n",
      "In epoch 8 batch 6, loss: 0.1681743562221527\n",
      "In epoch 8 batch 11, loss: 0.17001934349536896\n",
      "In epoch 8 batch 16, loss: 0.17247866094112396\n",
      "In epoch 8 batch 21, loss: 0.17531007528305054\n",
      "\n",
      "Epoch 8 AUC:  0.6321002049110933\n",
      "In epoch 9 batch 1, loss: 0.17442753911018372\n",
      "In epoch 9 batch 6, loss: 0.16966304183006287\n",
      "In epoch 9 batch 11, loss: 0.16892684996128082\n",
      "In epoch 9 batch 16, loss: 0.16870518028736115\n",
      "In epoch 9 batch 21, loss: 0.1729382574558258\n",
      "\n",
      "Epoch 9 AUC:  0.6377743456182992\n",
      "In epoch 10 batch 1, loss: 0.17529389262199402\n",
      "In epoch 10 batch 6, loss: 0.17339785397052765\n",
      "In epoch 10 batch 11, loss: 0.17069275677204132\n",
      "In epoch 10 batch 16, loss: 0.1692674458026886\n",
      "In epoch 10 batch 21, loss: 0.17316734790802002\n",
      "\n",
      "Epoch 10 AUC:  0.6422065085873695\n",
      "CPU times: user 4min 30s, sys: 9.45 s, total: 4min 40s\n",
      "Wall time: 40.1 s\n"
     ]
    }
   ],
   "source": [
    "%%time\n",
    "with open('config/model-params.json') as fh:\n",
    "            model_cfg = json.load(fh)\n",
    "model, pred, train_ids, val_G, val_neg_G, embed= train(dgl_G, feat_data, adj_list, **model_cfg)"
   ]
  },
  {
   "cell_type": "code",
   "execution_count": 35,
   "id": "26233a69",
   "metadata": {},
   "outputs": [],
   "source": [
    "model = model.to('cpu')\n",
    "val_G = val_G.to('cpu')\n",
    "pred = pred.to('cpu')\n",
    "embed = embed.to('cpu')\n",
    "val_neg_G = val_neg_G.to('cpu')"
   ]
  },
  {
   "cell_type": "code",
   "execution_count": null,
   "id": "53a53490",
   "metadata": {},
   "outputs": [],
   "source": []
  },
  {
   "cell_type": "code",
   "execution_count": null,
   "id": "20e23eb9",
   "metadata": {},
   "outputs": [],
   "source": []
  },
  {
   "cell_type": "code",
   "execution_count": 38,
   "id": "a784ac3c",
   "metadata": {},
   "outputs": [],
   "source": [
    "z = model(dgl_G, feat_data)"
   ]
  },
  {
   "cell_type": "code",
   "execution_count": 39,
   "id": "256727d8",
   "metadata": {},
   "outputs": [],
   "source": [
    "preds = pred(dgl_G, z)"
   ]
  },
  {
   "cell_type": "code",
   "execution_count": 40,
   "id": "f96021cb",
   "metadata": {},
   "outputs": [
    {
     "data": {
      "text/plain": [
       "tensor([2.8106, 2.8177, 2.8171,  ..., 3.1957, 3.1985, 3.1889],\n",
       "       grad_fn=<SqueezeBackward1>)"
      ]
     },
     "execution_count": 40,
     "metadata": {},
     "output_type": "execute_result"
    }
   ],
   "source": [
    "preds"
   ]
  },
  {
   "cell_type": "code",
   "execution_count": 42,
   "id": "371ac890",
   "metadata": {},
   "outputs": [
    {
     "data": {
      "text/plain": [
       "(tensor([ 10959,  10959,  10959,  ...,   4036,   4036, 163739]),\n",
       " tensor([137484,  11768,  25799,  ..., 163739, 150945, 150945]))"
      ]
     },
     "execution_count": 42,
     "metadata": {},
     "output_type": "execute_result"
    }
   ],
   "source": [
    "dgl_G.edges()[:10]"
   ]
  },
  {
   "cell_type": "code",
   "execution_count": 51,
   "id": "f941ee9e",
   "metadata": {},
   "outputs": [],
   "source": []
  },
  {
   "cell_type": "code",
   "execution_count": 103,
   "id": "096e291d",
   "metadata": {},
   "outputs": [],
   "source": [
    "def wowa(thelist):\n",
    "    eligible = []\n",
    "    for x in thelist:\n",
    "        nums = pd.Series(x.strip('mpd.slice.json').split('-')).astype(int)\n",
    "        if nums[0] <= 9999:\n",
    "            eligible.append(x)\n",
    "    return eligible"
   ]
  },
  {
   "cell_type": "code",
   "execution_count": 104,
   "id": "f6df6b6d",
   "metadata": {},
   "outputs": [],
   "source": [
    "data_path = (os.path.join(os.path.expanduser('~'), '/teams/DSC180A_FA21_A00/a13group1/data/'))"
   ]
  },
  {
   "cell_type": "code",
   "execution_count": 218,
   "id": "802a48d0",
   "metadata": {},
   "outputs": [
    {
     "data": {
      "text/plain": [
       "{'name': 'Old Rap',\n",
       " 'collaborative': 'false',\n",
       " 'pid': 4692,\n",
       " 'modified_at': 1373500800,\n",
       " 'num_tracks': 7,\n",
       " 'num_albums': 7,\n",
       " 'num_followers': 1,\n",
       " 'tracks': [{'pos': 0,\n",
       "   'artist_name': 'Lupe Fiasco',\n",
       "   'track_uri': 'spotify:track:4NTWZqvfQTlOMitlVn6tew',\n",
       "   'artist_uri': 'spotify:artist:01QTIT5P1pFP3QnnFSdsJf',\n",
       "   'track_name': 'The Show Goes On',\n",
       "   'album_uri': 'spotify:album:1j0apvEvaWbTmlZpKsfr2D',\n",
       "   'duration_ms': 239613,\n",
       "   'album_name': 'Lasers'},\n",
       "  {'pos': 1,\n",
       "   'artist_name': 'Wiz Khalifa',\n",
       "   'track_uri': 'spotify:track:3GzjG6Qah8cplpj5YAURLK',\n",
       "   'artist_uri': 'spotify:artist:137W8MRPWKqSmrBGDBFSop',\n",
       "   'track_name': 'Say Yeah',\n",
       "   'album_uri': 'spotify:album:2pqfPXKjLSTMGsCq3HiQ2p',\n",
       "   'duration_ms': 241613,\n",
       "   'album_name': 'Say Yeah'},\n",
       "  {'pos': 2,\n",
       "   'artist_name': 'Big Sean',\n",
       "   'track_uri': 'spotify:track:3ZAMtgYJFoHwJjFkhkXqKr',\n",
       "   'artist_uri': 'spotify:artist:0c173mlxpT3dSFRgMO8XPh',\n",
       "   'track_name': 'Dance (A$$) Remix',\n",
       "   'album_uri': 'spotify:album:2fRLnox9PQ9nos2YYdcYwE',\n",
       "   'duration_ms': 220293,\n",
       "   'album_name': 'Finally Famous'},\n",
       "  {'pos': 3,\n",
       "   'artist_name': 'Waka Flocka Flame',\n",
       "   'track_uri': 'spotify:track:03tqyYWC9Um2ZqU0ZN849H',\n",
       "   'artist_uri': 'spotify:artist:6f4XkbvYlXMH0QgVRzW0sM',\n",
       "   'track_name': 'No Hands (feat. Roscoe Dash and Wale) - Explicit Album Version',\n",
       "   'album_uri': 'spotify:album:6MQtWELG7aRX7CkAzQ6nLM',\n",
       "   'duration_ms': 263773,\n",
       "   'album_name': 'Flockaveli'},\n",
       "  {'pos': 4,\n",
       "   'artist_name': 'DJ Khaled',\n",
       "   'track_uri': 'spotify:track:608a1wIsSd5KzMEqm1O7w3',\n",
       "   'artist_uri': 'spotify:artist:0QHgL1lAIqAw0HtD7YldmP',\n",
       "   'track_name': \"I'm On One\",\n",
       "   'album_uri': 'spotify:album:7FyxsUO4kVqRfo2ne1aUOg',\n",
       "   'duration_ms': 296146,\n",
       "   'album_name': 'We The Best Forever'},\n",
       "  {'pos': 5,\n",
       "   'artist_name': 'Busta Rhymes',\n",
       "   'track_uri': 'spotify:track:0svl7cK07gK1ia5ainczU5',\n",
       "   'artist_uri': 'spotify:artist:1YfEcTuGvBQ8xSD1f53UnK',\n",
       "   'track_name': 'Break Ya Neck',\n",
       "   'album_uri': 'spotify:album:1FH8ruELaU1kthrFvdcSmt',\n",
       "   'duration_ms': 231240,\n",
       "   'album_name': 'Genesis'},\n",
       "  {'pos': 6,\n",
       "   'artist_name': 'Jeezy',\n",
       "   'track_uri': 'spotify:track:0Ft6hwGWdCdujdK6TOfBV7',\n",
       "   'artist_uri': 'spotify:artist:4yBK75WVCQXej1p04GWqxH',\n",
       "   'track_name': 'Lose My Mind',\n",
       "   'album_uri': 'spotify:album:4GvDHEW1goHkqJbLJHzUUf',\n",
       "   'duration_ms': 241946,\n",
       "   'album_name': 'TM:103 Hustlerz Ambition'}],\n",
       " 'num_edits': 3,\n",
       " 'duration_ms': 1734624,\n",
       " 'num_artists': 7}"
      ]
     },
     "execution_count": 218,
     "metadata": {},
     "output_type": "execute_result"
    }
   ],
   "source": [
    "file_samp = np.random.choice(wowa(pd.Series(os.listdir(os.path.join(os.path.expanduser('~'), '/teams/DSC180A_FA21_A00/a13group1/data/')))), replace=True)\n",
    "fname = os.path.join(data_path, file_samp)\n",
    "with open(fname) as f:\n",
    "    data = json.load(f)\n",
    "    item = np.random.choice(data['playlists'])\n",
    "item"
   ]
  },
  {
   "cell_type": "code",
   "execution_count": 219,
   "id": "d9b3bb05",
   "metadata": {},
   "outputs": [
    {
     "data": {
      "text/plain": [
       "7"
      ]
     },
     "execution_count": 219,
     "metadata": {},
     "output_type": "execute_result"
    }
   ],
   "source": [
    "len(item['tracks'])#['track_name']"
   ]
  },
  {
   "cell_type": "code",
   "execution_count": 220,
   "id": "b7e1edb9",
   "metadata": {},
   "outputs": [],
   "source": [
    "original_tracks = []\n",
    "for i in range(len(item['tracks'])):\n",
    "    name = item['tracks'][i]['track_name']+'---'+item['tracks'][i]['artist_name']\n",
    "    original_tracks.append(name)"
   ]
  },
  {
   "cell_type": "code",
   "execution_count": 221,
   "id": "e8c25b41",
   "metadata": {},
   "outputs": [
    {
     "data": {
      "text/plain": [
       "['The Show Goes On---Lupe Fiasco',\n",
       " 'Say Yeah---Wiz Khalifa',\n",
       " 'Dance (A$$) Remix---Big Sean',\n",
       " 'No Hands (feat. Roscoe Dash and Wale) - Explicit Album Version---Waka Flocka Flame',\n",
       " \"I'm On One---DJ Khaled\",\n",
       " 'Break Ya Neck---Busta Rhymes',\n",
       " 'Lose My Mind---Jeezy']"
      ]
     },
     "execution_count": 221,
     "metadata": {},
     "output_type": "execute_result"
    }
   ],
   "source": [
    "original_tracks"
   ]
  },
  {
   "cell_type": "code",
   "execution_count": 222,
   "id": "13a6522b",
   "metadata": {},
   "outputs": [],
   "source": [
    "seeds = []\n",
    "for i in item['tracks']:\n",
    "    uri = i['track_uri'].split(':')[-1]\n",
    "    seeds.append(uri)"
   ]
  },
  {
   "cell_type": "code",
   "execution_count": 223,
   "id": "7d4c44d7",
   "metadata": {},
   "outputs": [
    {
     "data": {
      "text/plain": [
       "['4NTWZqvfQTlOMitlVn6tew',\n",
       " '3GzjG6Qah8cplpj5YAURLK',\n",
       " '3ZAMtgYJFoHwJjFkhkXqKr',\n",
       " '03tqyYWC9Um2ZqU0ZN849H',\n",
       " '608a1wIsSd5KzMEqm1O7w3',\n",
       " '0svl7cK07gK1ia5ainczU5',\n",
       " '0Ft6hwGWdCdujdK6TOfBV7']"
      ]
     },
     "execution_count": 223,
     "metadata": {},
     "output_type": "execute_result"
    }
   ],
   "source": [
    "seeds"
   ]
  },
  {
   "cell_type": "code",
   "execution_count": 224,
   "id": "75895bec",
   "metadata": {},
   "outputs": [],
   "source": [
    "score_dict = defaultdict(dict)\n",
    "for s in seeds:\n",
    "    s = uri_map[s]\n",
    "    _, candidates = dgl_G.out_edges(s, form='uv')\n",
    "    s_embed = z[s].unsqueeze(dim=0)\n",
    "    edge_embeds = [torch.cat([s_embed, z[c.item()].unsqueeze(dim=0)],1) for c in candidates]\n",
    "    edge_embeds = torch.cat(edge_embeds, 0)\n",
    "    scores = pred.W2(F.relu(pred.W1(edge_embeds))).squeeze(1)\n",
    "    val = list(zip(candidates.detach().numpy(), scores.detach().numpy()))\n",
    "    val.sort(key=lambda x:x[1], reverse=True)\n",
    "    \n",
    "    score_dict[s] = val[0]\n",
    "#     to_keep = 0\n",
    "#     inc = 0\n",
    "#     #in_playlist = True\n",
    "#     while True:\n",
    "#         if listed[val[inc]] not in seeds:\n",
    "#             score_dict[s] = val[inc]\n",
    "#             break\n",
    "#         else:\n",
    "#             inc += 1\n",
    "    "
   ]
  },
  {
   "cell_type": "code",
   "execution_count": 225,
   "id": "d2b2d6ef",
   "metadata": {},
   "outputs": [
    {
     "data": {
      "text/plain": [
       "defaultdict(dict,\n",
       "            {95807: (90872, 3.2378929),\n",
       "             71647: (114891, 3.2297347),\n",
       "             77993: (140898, 3.2568882),\n",
       "             1376: (40663, 3.234962),\n",
       "             131076: (14564, 3.252432),\n",
       "             19467: (151598, 3.240677),\n",
       "             5821: (14564, 3.2365043)})"
      ]
     },
     "execution_count": 225,
     "metadata": {},
     "output_type": "execute_result"
    }
   ],
   "source": [
    "score_dict#[144044].sort(key=lambda x:x[1], reverse=True)"
   ]
  },
  {
   "cell_type": "code",
   "execution_count": 226,
   "id": "d4b692c5",
   "metadata": {},
   "outputs": [],
   "source": [
    "listed = list(uri_map)\n",
    "uri_recs = []\n",
    "for i in score_dict.keys():\n",
    "    cur_uri = listed[score_dict[i][0]]\n",
    "    uri_recs.append(cur_uri)"
   ]
  },
  {
   "cell_type": "code",
   "execution_count": 227,
   "id": "1f2867fe",
   "metadata": {},
   "outputs": [
    {
     "data": {
      "text/plain": [
       "['49hqWRCETPpqIwQ3zzL74G',\n",
       " '5Fv85gWgP0Rgkp8JnNjvLp',\n",
       " '6S1bKWlMqa0w89RxnV7ne8',\n",
       " '1r9hm3LbOD9iUaweV633zo',\n",
       " '0esX69yFN8t8tbN9e0VWSa',\n",
       " '6wUhjJzN7cvzoOX3Zpl8B0',\n",
       " '0esX69yFN8t8tbN9e0VWSa']"
      ]
     },
     "execution_count": 227,
     "metadata": {},
     "output_type": "execute_result"
    }
   ],
   "source": [
    "uri_recs"
   ]
  },
  {
   "cell_type": "code",
   "execution_count": null,
   "id": "1e49ff2a",
   "metadata": {},
   "outputs": [],
   "source": []
  },
  {
   "cell_type": "code",
   "execution_count": null,
   "id": "1b127e6c",
   "metadata": {},
   "outputs": [],
   "source": []
  },
  {
   "cell_type": "code",
   "execution_count": 121,
   "id": "d32707b2",
   "metadata": {},
   "outputs": [],
   "source": [
    "from src.api.spotifyAPI import SpotifyAPI"
   ]
  },
  {
   "cell_type": "code",
   "execution_count": 126,
   "id": "dfbd7f96",
   "metadata": {},
   "outputs": [],
   "source": [
    "client_id = 'ad2536ed7a914d66b89b80fb3a500787'\n",
    "client_secret = '8c5f45fb008d4bc5bf909ec46d076b65'\n",
    "\n",
    "spotify = SpotifyAPI(client_id, client_secret)"
   ]
  },
  {
   "cell_type": "code",
   "execution_count": 140,
   "id": "4f8788e2",
   "metadata": {},
   "outputs": [],
   "source": [
    "def get_data(query, api, num):\n",
    "    chunk = api.get_resource(query, 'tracks', 'v1')\n",
    "    \n",
    "    #json_object = json.dumps(chunk, indent = 4)\n",
    "    \n",
    "    return chunk"
   ]
  },
  {
   "cell_type": "code",
   "execution_count": 228,
   "id": "a0696b0a",
   "metadata": {},
   "outputs": [
    {
     "name": "stdout",
     "output_type": "stream",
     "text": [
      "CPU times: user 259 ms, sys: 41.6 ms, total: 300 ms\n",
      "Wall time: 36.4 s\n"
     ]
    }
   ],
   "source": [
    "%%time\n",
    "rec_track_names = []\n",
    "for i in uri_recs:\n",
    "    one = get_data(i, spotify, 1)\n",
    "    trackname = one['tracks'][0]['name']\n",
    "    \n",
    "    firstartist = one['tracks'][0]['artists'][0]['name']\n",
    "    \n",
    "    the_rec = trackname+'---'+firstartist\n",
    "    rec_track_names.append(the_rec)\n",
    "    \n",
    "    \n",
    "    time.sleep(5)"
   ]
  },
  {
   "cell_type": "code",
   "execution_count": 229,
   "id": "90e4fa23",
   "metadata": {},
   "outputs": [
    {
     "data": {
      "text/plain": [
       "['The Show Goes On---Lupe Fiasco',\n",
       " 'Say Yeah---Wiz Khalifa',\n",
       " 'Dance (A$$) Remix---Big Sean',\n",
       " 'No Hands (feat. Roscoe Dash and Wale) - Explicit Album Version---Waka Flocka Flame',\n",
       " \"I'm On One---DJ Khaled\",\n",
       " 'Break Ya Neck---Busta Rhymes',\n",
       " 'Lose My Mind---Jeezy']"
      ]
     },
     "execution_count": 229,
     "metadata": {},
     "output_type": "execute_result"
    }
   ],
   "source": [
    "original_tracks"
   ]
  },
  {
   "cell_type": "code",
   "execution_count": 230,
   "id": "d77a86f5",
   "metadata": {},
   "outputs": [
    {
     "data": {
      "text/plain": [
       "['Bout Shit---Lud Foe',\n",
       " 'Nights Like This---Nyzzy Nyce',\n",
       " 'Phone Message (Interlude)---The Last Mr. Bigg',\n",
       " '50 Chicks---Migos',\n",
       " 'Young Money---Tyga',\n",
       " \"Don't Ever Fucking Question That---Atmosphere\",\n",
       " 'Young Money---Tyga']"
      ]
     },
     "execution_count": 230,
     "metadata": {},
     "output_type": "execute_result"
    }
   ],
   "source": [
    "rec_track_names"
   ]
  },
  {
   "cell_type": "code",
   "execution_count": null,
   "id": "c3221f4f",
   "metadata": {},
   "outputs": [],
   "source": []
  },
  {
   "cell_type": "code",
   "execution_count": null,
   "id": "58b979b1",
   "metadata": {},
   "outputs": [],
   "source": []
  },
  {
   "cell_type": "code",
   "execution_count": null,
   "id": "dc66c776",
   "metadata": {},
   "outputs": [],
   "source": []
  },
  {
   "cell_type": "code",
   "execution_count": null,
   "id": "a51afcd1",
   "metadata": {},
   "outputs": [],
   "source": [
    "fname = (os.path.join(os.path.expanduser('~'), '/teams/DSC180A_FA21_A00/a13group1/data/mpd.slice.0-999.json'))\n",
    "'''\n",
    "Get int ids for each track in playlist\n",
    "'''\n",
    "def pull_tracks(fname, label_to_int):\n",
    "    with open(fname) as f:\n",
    "        data = json.load(f)\n",
    "        item = np.random.choice(data['playlists']) # Get a random playlist to recommend for\n",
    "    \n",
    "    # Get int values from track labels\n",
    "    int_vals = []\n",
    "    for track in item['tracks']:\n",
    "        code = track['track_uri'].replace('spotify:track:', '')\n",
    "        int_vals.append(label_to_int[code])\n",
    "        \n",
    "    return int_vals\n",
    "'''\n",
    "Create recommendations for each song in the playlist.\n",
    "'''\n",
    "def recommend(int_vals, model):\n",
    "    recs = defaultdict(list) # dictionary of recommendations in form {'id': '(rec1, rank), '(rec2, rank)}\n",
    "    for i in int_vals:\n",
    "        preds = model.predict(i)\n",
    "        for j in preds: # keep only predictions not already in playlist\n",
    "            if j['id'] not in int_vals:\n",
    "                recs[i].append((j['id'], j['rank']))\n",
    "                \n",
    "    return recs\n",
    "'''\n",
    "Rank all the recommendations, taking the highest recommended song\n",
    "'''\n",
    "def rank(recs):\n",
    "    final = []\n",
    "    for i in recs.keys():\n",
    "        recs[i].sort(key = lambda x:x[1], reverse=True)\n",
    "        # Get highest rated recommendation for each song\n",
    "        final.append(recs[i][0])\n",
    "        \n",
    "    # Sort by best ranks\n",
    "    final.sort(key = lambda x:x[1], reverse=True)\n",
    "    ranked = list(zip(*final))[0]\n",
    "    return ranked\n",
    "'''\n",
    "Decode to song labels\n",
    "'''\n",
    "def decode(ranked, int_to_label):\n",
    "    decoded = []\n",
    "    for i in ranked:\n",
    "        decoded.append(int_to_label[i])\n",
    "    return decoded"
   ]
  }
 ],
 "metadata": {
  "kernelspec": {
   "display_name": "Python 3 (ipykernel)",
   "language": "python",
   "name": "python3"
  },
  "language_info": {
   "codemirror_mode": {
    "name": "ipython",
    "version": 3
   },
   "file_extension": ".py",
   "mimetype": "text/x-python",
   "name": "python",
   "nbconvert_exporter": "python",
   "pygments_lexer": "ipython3",
   "version": "3.9.5"
  }
 },
 "nbformat": 4,
 "nbformat_minor": 5
}
